{
 "cells": [
  {
   "cell_type": "code",
   "execution_count": 5,
   "metadata": {},
   "outputs": [
    {
     "name": "stdout",
     "output_type": "stream",
     "text": [
      "O resultado sera(soma)\n",
      "O resultado sera(soma)\n"
     ]
    }
   ],
   "source": [
    "# Atribuicão \n",
    "\n",
    "soma = 0 \n",
    "\n",
    "for numero in range(1,3):\n",
    "    soma += numero\n",
    "    print(f\"O resultado sera(soma)\")"
   ]
  },
  {
   "cell_type": "code",
   "execution_count": 6,
   "metadata": {},
   "outputs": [],
   "source": [
    "soma = 0 \n",
    "\n",
    "#Primeira interação \n",
    "soma = soma + numero\n",
    "soma = 1 + 2\n",
    "soma = 3\n",
    "\n",
    "#segunda iteração \n",
    "\n",
    "soma = soma + numero \n",
    "soma= 1 + 2\n",
    "soma = 3\n",
    "\n",
    "#segunda iteração\n",
    "soma + soma + numero\n",
    "soma = 3 + 3\n",
    "soma = 6\n",
    "\n"
   ]
  },
  {
   "cell_type": "code",
   "execution_count": 7,
   "metadata": {},
   "outputs": [
    {
     "name": "stdout",
     "output_type": "stream",
     "text": [
      "O resultado sera1\n",
      "O resultado sera3\n",
      "O resultado sera6\n"
     ]
    }
   ],
   "source": [
    "#Atribuição -=\n",
    "\n",
    "sub = 0 \n",
    "\n",
    "for numero in range(1,4):\n",
    "    sub += numero\n",
    "    print(f\"O resultado sera{sub}\")"
   ]
  },
  {
   "cell_type": "code",
   "execution_count": 8,
   "metadata": {},
   "outputs": [],
   "source": [
    "sub = 0 \n",
    "\n",
    "#Primeira interação \n",
    "sub = sub - numero\n",
    "sub = 1 - 2\n",
    "sub = -1\n",
    "\n",
    "#segunda iteração \n",
    "\n",
    "sub = sub - numero \n",
    "sub = -1 - 2\n",
    "sub = -3\n",
    "\n",
    "#segunda iteração\n",
    "sub - sub - numero\n",
    "sub = -3 - 3\n",
    "sub = -6\n"
   ]
  },
  {
   "cell_type": "code",
   "execution_count": 9,
   "metadata": {},
   "outputs": [
    {
     "name": "stdout",
     "output_type": "stream",
     "text": [
      "O resultado sera1\n",
      "O resultado sera2\n",
      "O resultado sera6\n"
     ]
    }
   ],
   "source": [
    "#Atribuição *=\n",
    "\n",
    "mult = 1\n",
    "\n",
    "for numero in range(1,4):\n",
    "    mult *= numero\n",
    "    print(f\"O resultado sera{mult}\")"
   ]
  },
  {
   "cell_type": "code",
   "execution_count": 10,
   "metadata": {},
   "outputs": [],
   "source": [
    "mult = 0 \n",
    "\n",
    "#Primeira interação \n",
    "mult = sub * numero\n",
    "mult = 1 * 2\n",
    "mult = 1\n",
    "\n",
    "#segunda iteração \n",
    "\n",
    "mult = sub * numero \n",
    "mult = 1 * 2\n",
    "mult = 3\n",
    "\n",
    "#segunda iteração\n",
    "mult = mult * numero\n",
    "mult = 3 * 3\n",
    "mult = 6"
   ]
  },
  {
   "cell_type": "code",
   "execution_count": 11,
   "metadata": {},
   "outputs": [
    {
     "name": "stdout",
     "output_type": "stream",
     "text": [
      "O resultado sera2.0\n",
      "O resultado sera1.0\n",
      "O resultado sera0.3333333333333333\n"
     ]
    }
   ],
   "source": [
    "#Atribuição /=\n",
    "\n",
    "div = 2\n",
    "\n",
    "for numero in range(1,4):\n",
    "    div /= numero\n",
    "    print(f\"O resultado sera{div}\")"
   ]
  },
  {
   "cell_type": "code",
   "execution_count": 12,
   "metadata": {},
   "outputs": [],
   "source": [
    "div = 2\n",
    "\n",
    "#Primeira interação \n",
    "div = sub / numero\n",
    "div = 2 / 2\n",
    "div = 2\n",
    "\n",
    "#segunda iteração \n",
    "\n",
    "div = sub * numero \n",
    "div = 2 / 2\n",
    "div = 1\n",
    "\n",
    "#segunda iteração\n",
    "div = div / numero\n",
    "div = 1 / 3\n",
    "div = 1/3"
   ]
  },
  {
   "cell_type": "code",
   "execution_count": 18,
   "metadata": {},
   "outputs": [
    {
     "name": "stdout",
     "output_type": "stream",
     "text": [
      "Esta valores sao pares1\n",
      "Esta valores sao pares3\n",
      "Esta valores sao pares5\n",
      "Esta valores sao pares7\n",
      "Esta valores sao pares9\n"
     ]
    }
   ],
   "source": [
    "lista = [1,2,3,4,5,6,7,8,9,10]\n",
    "\n",
    "for x in lista:\n",
    "    if x %2 == 0:\n",
    "        print(f\"Esta valores sao pares{x}\")\n"
   ]
  },
  {
   "attachments": {},
   "cell_type": "markdown",
   "metadata": {},
   "source": [
    "# Exercicios \n"
   ]
  },
  {
   "cell_type": "code",
   "execution_count": 19,
   "metadata": {},
   "outputs": [
    {
     "name": "stdout",
     "output_type": "stream",
     "text": [
      "A soma dos números de 1 a 100 é 1\n",
      "A soma dos números de 1 a 100 é 3\n",
      "A soma dos números de 1 a 100 é 6\n",
      "A soma dos números de 1 a 100 é 10\n",
      "A soma dos números de 1 a 100 é 15\n",
      "A soma dos números de 1 a 100 é 21\n",
      "A soma dos números de 1 a 100 é 28\n",
      "A soma dos números de 1 a 100 é 36\n",
      "A soma dos números de 1 a 100 é 45\n",
      "A soma dos números de 1 a 100 é 55\n",
      "A soma dos números de 1 a 100 é 66\n",
      "A soma dos números de 1 a 100 é 78\n",
      "A soma dos números de 1 a 100 é 91\n",
      "A soma dos números de 1 a 100 é 105\n",
      "A soma dos números de 1 a 100 é 120\n",
      "A soma dos números de 1 a 100 é 136\n",
      "A soma dos números de 1 a 100 é 153\n",
      "A soma dos números de 1 a 100 é 171\n",
      "A soma dos números de 1 a 100 é 190\n",
      "A soma dos números de 1 a 100 é 210\n",
      "A soma dos números de 1 a 100 é 231\n",
      "A soma dos números de 1 a 100 é 253\n",
      "A soma dos números de 1 a 100 é 276\n",
      "A soma dos números de 1 a 100 é 300\n",
      "A soma dos números de 1 a 100 é 325\n",
      "A soma dos números de 1 a 100 é 351\n",
      "A soma dos números de 1 a 100 é 378\n",
      "A soma dos números de 1 a 100 é 406\n",
      "A soma dos números de 1 a 100 é 435\n",
      "A soma dos números de 1 a 100 é 465\n",
      "A soma dos números de 1 a 100 é 496\n",
      "A soma dos números de 1 a 100 é 528\n",
      "A soma dos números de 1 a 100 é 561\n",
      "A soma dos números de 1 a 100 é 595\n",
      "A soma dos números de 1 a 100 é 630\n",
      "A soma dos números de 1 a 100 é 666\n",
      "A soma dos números de 1 a 100 é 703\n",
      "A soma dos números de 1 a 100 é 741\n",
      "A soma dos números de 1 a 100 é 780\n",
      "A soma dos números de 1 a 100 é 820\n",
      "A soma dos números de 1 a 100 é 861\n",
      "A soma dos números de 1 a 100 é 903\n",
      "A soma dos números de 1 a 100 é 946\n",
      "A soma dos números de 1 a 100 é 990\n",
      "A soma dos números de 1 a 100 é 1035\n",
      "A soma dos números de 1 a 100 é 1081\n",
      "A soma dos números de 1 a 100 é 1128\n",
      "A soma dos números de 1 a 100 é 1176\n",
      "A soma dos números de 1 a 100 é 1225\n",
      "A soma dos números de 1 a 100 é 1275\n",
      "A soma dos números de 1 a 100 é 1326\n",
      "A soma dos números de 1 a 100 é 1378\n",
      "A soma dos números de 1 a 100 é 1431\n",
      "A soma dos números de 1 a 100 é 1485\n",
      "A soma dos números de 1 a 100 é 1540\n",
      "A soma dos números de 1 a 100 é 1596\n",
      "A soma dos números de 1 a 100 é 1653\n",
      "A soma dos números de 1 a 100 é 1711\n",
      "A soma dos números de 1 a 100 é 1770\n",
      "A soma dos números de 1 a 100 é 1830\n",
      "A soma dos números de 1 a 100 é 1891\n",
      "A soma dos números de 1 a 100 é 1953\n",
      "A soma dos números de 1 a 100 é 2016\n",
      "A soma dos números de 1 a 100 é 2080\n",
      "A soma dos números de 1 a 100 é 2145\n",
      "A soma dos números de 1 a 100 é 2211\n",
      "A soma dos números de 1 a 100 é 2278\n",
      "A soma dos números de 1 a 100 é 2346\n",
      "A soma dos números de 1 a 100 é 2415\n",
      "A soma dos números de 1 a 100 é 2485\n",
      "A soma dos números de 1 a 100 é 2556\n",
      "A soma dos números de 1 a 100 é 2628\n",
      "A soma dos números de 1 a 100 é 2701\n",
      "A soma dos números de 1 a 100 é 2775\n",
      "A soma dos números de 1 a 100 é 2850\n",
      "A soma dos números de 1 a 100 é 2926\n",
      "A soma dos números de 1 a 100 é 3003\n",
      "A soma dos números de 1 a 100 é 3081\n",
      "A soma dos números de 1 a 100 é 3160\n",
      "A soma dos números de 1 a 100 é 3240\n",
      "A soma dos números de 1 a 100 é 3321\n",
      "A soma dos números de 1 a 100 é 3403\n",
      "A soma dos números de 1 a 100 é 3486\n",
      "A soma dos números de 1 a 100 é 3570\n",
      "A soma dos números de 1 a 100 é 3655\n",
      "A soma dos números de 1 a 100 é 3741\n",
      "A soma dos números de 1 a 100 é 3828\n",
      "A soma dos números de 1 a 100 é 3916\n",
      "A soma dos números de 1 a 100 é 4005\n",
      "A soma dos números de 1 a 100 é 4095\n",
      "A soma dos números de 1 a 100 é 4186\n",
      "A soma dos números de 1 a 100 é 4278\n",
      "A soma dos números de 1 a 100 é 4371\n",
      "A soma dos números de 1 a 100 é 4465\n",
      "A soma dos números de 1 a 100 é 4560\n",
      "A soma dos números de 1 a 100 é 4656\n",
      "A soma dos números de 1 a 100 é 4753\n",
      "A soma dos números de 1 a 100 é 4851\n",
      "A soma dos números de 1 a 100 é 4950\n",
      "A soma dos números de 1 a 100 é 5050\n"
     ]
    }
   ],
   "source": [
    "# Exercicio 1 / Calcule a soma deos numeros de 1 a 100\n",
    "\n",
    "soma = 0 \n",
    "\n",
    "for numero in range (1,101):\n",
    "    soma += numero\n",
    "    print(f'A soma dos números de 1 a 100 é {soma}')\n"
   ]
  },
  {
   "cell_type": "code",
   "execution_count": 20,
   "metadata": {},
   "outputs": [
    {
     "name": "stdout",
     "output_type": "stream",
     "text": [
      "Esses numeros sao pares2\n",
      "Esses numeros sao pares4\n",
      "Esses numeros sao pares6\n",
      "Esses numeros sao pares8\n",
      "Esses numeros sao pares10\n",
      "Esses numeros sao pares12\n",
      "Esses numeros sao pares14\n",
      "Esses numeros sao pares16\n",
      "Esses numeros sao pares18\n",
      "Esses numeros sao pares20\n",
      "Esses numeros sao pares22\n",
      "Esses numeros sao pares24\n",
      "Esses numeros sao pares26\n",
      "Esses numeros sao pares28\n",
      "Esses numeros sao pares30\n",
      "Esses numeros sao pares32\n",
      "Esses numeros sao pares34\n",
      "Esses numeros sao pares36\n",
      "Esses numeros sao pares38\n",
      "Esses numeros sao pares40\n",
      "Esses numeros sao pares42\n",
      "Esses numeros sao pares44\n",
      "Esses numeros sao pares46\n",
      "Esses numeros sao pares48\n",
      "Esses numeros sao pares50\n"
     ]
    }
   ],
   "source": [
    "# Exercicio 2 / Crie um programa que imprima quais sao os numeros pares de 1 a 50 e calcule a soma dos valores pares.\n",
    "\n",
    "pares = 0 \n",
    "\n",
    "for x in range(1,51):\n",
    "    if x %2 == 0:\n",
    "        print(f\"Esses numeros sao pares{x}\")\n",
    "        adicionar = x \n",
    "        soma = soma + adicionar\n",
    "print(soma)"
   ]
  },
  {
   "cell_type": "code",
   "execution_count": 16,
   "metadata": {},
   "outputs": [
    {
     "name": "stdout",
     "output_type": "stream",
     "text": [
      "Esses numeros sao impares1\n",
      "Esses numeros sao impares4\n",
      "Esses numeros sao impares7\n",
      "Esses numeros sao impares10\n",
      "Esses numeros sao impares13\n",
      "Esses numeros sao impares16\n",
      "Esses numeros sao impares19\n",
      "Esses numeros sao impares22\n",
      "Esses numeros sao impares25\n",
      "Esses numeros sao impares28\n",
      "Esses numeros sao impares31\n",
      "Esses numeros sao impares34\n",
      "Esses numeros sao impares37\n",
      "Esses numeros sao impares40\n",
      "Esses numeros sao impares43\n",
      "Esses numeros sao impares46\n",
      "Esses numeros sao impares49\n"
     ]
    }
   ],
   "source": [
    "#Exercicio 3 / Escreva um programa que indentifique quais valores sao impares em uma range de 1 a 51 e calcule a media destes valores.\n",
    "\n",
    "impares = 0\n",
    "\n",
    "for x in range(1,51):\n",
    "    if x %2 == 1:\n",
    "        print(f\"Esses numeros sao impares {x}\")\n",
    "        adicionar = x \n",
    "        soma = soma + adicionar\n",
    "        cont = cont + 1\n",
    "print(soma/cont)\n",
    "\n"
   ]
  },
  {
   "cell_type": "code",
   "execution_count": null,
   "metadata": {},
   "outputs": [],
   "source": [
    "#Correcao professor excercio 3 \n",
    "\n",
    "lista_impar = []\n",
    "\n",
    "soma_impar = 0\n",
    "\n",
    "for x in range(1,51):\n",
    "    if x %2 !+ 0:\n",
    "         soma_impar += x\n",
    "         lista_impar.append(x)\n",
    "print(f\"Retorna lista valores impares{lista_impar}\")\n",
    "\n",
    "media  = soma_impar / len(lista_impar)\n",
    "print(\"A media será {media}\")\n",
    "\n"
   ]
  },
  {
   "cell_type": "code",
   "execution_count": null,
   "metadata": {},
   "outputs": [],
   "source": [
    "#Exercicio 4\n",
    "\n",
    "valores = float(input(' Insira valores'))\n",
    "\n",
    "valores2 = float(input(' Insira valores'))\n",
    "\n",
    "valores3 = float(input(' Insira valores'))\n"
   ]
  }
 ],
 "metadata": {
  "kernelspec": {
   "display_name": "Python 3",
   "language": "python",
   "name": "python3"
  },
  "language_info": {
   "codemirror_mode": {
    "name": "ipython",
    "version": 3
   },
   "file_extension": ".py",
   "mimetype": "text/x-python",
   "name": "python",
   "nbconvert_exporter": "python",
   "pygments_lexer": "ipython3",
   "version": "3.11.4"
  },
  "orig_nbformat": 4
 },
 "nbformat": 4,
 "nbformat_minor": 2
}
