{
 "cells": [
  {
   "cell_type": "code",
   "execution_count": 5,
   "metadata": {},
   "outputs": [],
   "source": [
    "def contar_elementos(lista):\n",
    "    maiores_que_10 = []\n",
    "    menores_que_10 = 0\n",
    "    \n",
    "    for elemento in lista:\n",
    "        if elemento > 10:\n",
    "            maiores_que_10.append(elemento)\n",
    "        elif elemento < 10:\n",
    "            menores_que_10 += 1\n",
    "    \n",
    "    print(\"Elementos maiores que 10:\", maiores_que_10)\n",
    "    print(\"Quantidade de elementos menores que 10:\", menores_que_10)\n",
    "\n",
    "    minha_lista = [5, 12, 8, 15, 20, 3, 1]\n",
    "    contar_maiores_e_menores(minha_lista)"
   ]
  },
  {
   "cell_type": "code",
   "execution_count": 2,
   "metadata": {},
   "outputs": [],
   "source": [
    "def contar_maiores_e_menores(lista):\n",
    "    maiores_que_10 = []\n",
    "    menores_que_10 = 0\n",
    "    \n",
    "    for elemento in lista:\n",
    "        if elemento > 10:\n",
    "            maiores_que_10 = maiores_que_10 + [elemento]\n",
    "        elif elemento < 10:\n",
    "            menores_que_10 += 1\n",
    "            \n",
    "    print(\"Elementos maiores que 10:\", maiores_que_10)\n",
    "    print(\"Quantidade de elementos menores que 10:\", menores_que_10)"
   ]
  },
  {
   "cell_type": "code",
   "execution_count": 3,
   "metadata": {},
   "outputs": [
    {
     "name": "stdout",
     "output_type": "stream",
     "text": [
      "Elementos maiores que 10: [12, 15, 20, 11]\n",
      "Quantidade de elementos menores que 10: 3\n"
     ]
    }
   ],
   "source": [
    "minha_lista = [5, 12, 8, 15, 20, 3, 11]\n",
    "contar_maiores_e_menores(minha_lista)"
   ]
  }
 ],
 "metadata": {
  "kernelspec": {
   "display_name": "Python 3",
   "language": "python",
   "name": "python3"
  },
  "language_info": {
   "codemirror_mode": {
    "name": "ipython",
    "version": 3
   },
   "file_extension": ".py",
   "mimetype": "text/x-python",
   "name": "python",
   "nbconvert_exporter": "python",
   "pygments_lexer": "ipython3",
   "version": "3.12.2"
  }
 },
 "nbformat": 4,
 "nbformat_minor": 2
}
