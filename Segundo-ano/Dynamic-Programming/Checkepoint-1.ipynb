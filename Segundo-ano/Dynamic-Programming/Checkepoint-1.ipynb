{
 "cells": [
  {
   "cell_type": "markdown",
   "metadata": {},
   "source": [
    "\n",
    "(1) faça uma implementação destes algoritmos usando uma variável que conta a\n",
    "quantidade de trocas que cada algoritmo faz;\n",
    "\n",
    "(2) execute as implementações para vetores ordenados em ordem crescente,\n",
    "decrescente e vetores não ordenados e anote o número de trocas;\n",
    "\n",
    "(3) analise o número de trocas para cada uma das entradas e diga, caso\n",
    "exista um, qual é o algoritmo mais eficiente (baseado no número de\n",
    "trocas)."
   ]
  },
  {
   "cell_type": "code",
   "execution_count": 2,
   "metadata": {},
   "outputs": [
    {
     "name": "stdout",
     "output_type": "stream",
     "text": [
      "lista ordenada: [0, 1, 2, 2, 3, 4, 5, 6, 7, 7, 15, 42, 45, 53, 62, 68, 262, 3145]\n",
      "numero de trocas na lista ordenada: 0\n",
      "numero de trocas na lista decrescente: 36\n",
      "numero de trocas na lista aleatoria:: 23\n"
     ]
    }
   ],
   "source": [
    "aleatorio = [5, 3, 2, 4, 7, 1, 0, 7, 6, 15, 45, 53, 262, 3145, 2, 42, 68, 62]\n",
    "ordenado = [0, 1, 2, 2, 3, 4, 5, 6, 7, 7, 15, 32, 43]\n",
    "decrescente = [43, 32, 15, 7, 7, 6, 5, 4, 3, 2, 2, 1, 0]\n",
    "\n",
    "def selection_sort(vetor: list[any]) -> None:\n",
    "    trocas = 0\n",
    "\n",
    "    for i, _ in enumerate(vetor):\n",
    "        indice_min = i \n",
    "\n",
    "        for j in range(i + 1, len(vetor)):\n",
    "            if vetor[j] < vetor[indice_min]:\n",
    "                indice_min = j  \n",
    "                trocas += 1\n",
    "\n",
    "        vetor[i], vetor[indice_min] = vetor[indice_min], vetor[i]\n",
    "\n",
    "    return trocas\n",
    "\n",
    "\n",
    "trocas = selection_sort(aleatorio)\n",
    "ordenado = selection_sort(ordenado)\n",
    "decrescente = selection_sort(decrescente)\n",
    "\n",
    "print(f\"lista ordenada: {aleatorio}\")\n",
    "print(f\"numero de trocas na lista ordenada: {ordenado}\")\n",
    "print(f\"numero de trocas na lista decrescente: {decrescente}\")\n",
    "print(f\"numero de trocas na lista aleatoria:: {trocas}\")"
   ]
  },
  {
   "cell_type": "code",
   "execution_count": 4,
   "metadata": {},
   "outputs": [
    {
     "name": "stdout",
     "output_type": "stream",
     "text": [
      "lista ordenada: [0, 1, 2, 2, 3, 4, 5, 6, 7, 7, 15, 42, 45, 53, 62, 68, 262, 3145]\n",
      "numero de trocas na lista ordenada: 0\n",
      "numero de trocas na lista decrescente: 76\n",
      "numero de trocas na lista aleatoria:: 37\n"
     ]
    }
   ],
   "source": [
    "aleatorio = [5, 3, 2, 4, 7, 1, 0, 7, 6, 15, 45, 53, 262, 3145, 2, 42, 68, 62]\n",
    "ordenado = [0, 1, 2, 2, 3, 4, 5, 6, 7, 7, 15, 32, 43]\n",
    "decrescente = [43, 32, 15, 7, 7, 6, 5, 4, 3, 2, 2, 1, 0]\n",
    "\n",
    "def insertion_sort(vetor: list[any]) -> None:\n",
    "    trocas = 0\n",
    "\n",
    "    for i in range(1, len(vetor)):\n",
    "        chave = vetor[i]  \n",
    "        j = i - 1 \n",
    "        while j >= 0 and vetor[j] > chave:\n",
    "            vetor[j + 1] = vetor[j]\n",
    "            j -= 1\n",
    "            trocas += 1\n",
    "            \n",
    "        vetor[j + 1] = chave\n",
    "    return trocas\n",
    "\n",
    "trocas = insertion_sort(aleatorio)\n",
    "ordenado = insertion_sort(ordenado)\n",
    "decrescente = insertion_sort(decrescente)\n",
    "\n",
    "print(f\"lista ordenada: {aleatorio}\")\n",
    "print(f\"numero de trocas na lista ordenada: {ordenado}\")\n",
    "print(f\"numero de trocas na lista decrescente: {decrescente}\")\n",
    "print(f\"numero de trocas na lista aleatoria:: {trocas}\")"
   ]
  },
  {
   "cell_type": "code",
   "execution_count": 5,
   "metadata": {},
   "outputs": [
    {
     "name": "stdout",
     "output_type": "stream",
     "text": [
      "lista ordenada: [0, 1, 2, 2, 3, 4, 5, 6, 7, 7, 15, 42, 45, 53, 62, 68, 262, 3145]\n",
      "numero de trocas na lista ordenada: 0\n",
      "numero de trocas na lista decrescente: 76\n",
      "numero de trocas na lista aleatoria:: 37\n"
     ]
    }
   ],
   "source": [
    "aleatorio = [5, 3, 2, 4, 7, 1, 0, 7, 6, 15, 45, 53, 262, 3145, 2, 42, 68, 62]\n",
    "ordenado = [0, 1, 2, 2, 3, 4, 5, 6, 7, 7, 15, 32, 43]\n",
    "decrescente = [43, 32, 15, 7, 7, 6, 5, 4, 3, 2, 2, 1, 0]\n",
    "\n",
    "def bubble_sort(vetor: list[any]) -> None:\n",
    "    tamanho = len(vetor)  \n",
    "    i = 0 \n",
    "    troca = True \n",
    "\n",
    "    trocas = 0\n",
    "\n",
    "    while i < tamanho - 1 and troca:\n",
    "\n",
    "        for j in range(tamanho - i - 1):\n",
    "            if vetor[j] > vetor[j + 1]:\n",
    "                vetor[j], vetor[j + 1] = vetor[j + 1], vetor[j]\n",
    "                troca = True \n",
    "                trocas += 1\n",
    "\n",
    "        i += 1 \n",
    "    return trocas\n",
    "\n",
    "trocas = insertion_sort(aleatorio)\n",
    "ordenado = insertion_sort(ordenado)\n",
    "decrescente = insertion_sort(decrescente)\n",
    "\n",
    "print(f\"lista ordenada: {aleatorio}\")\n",
    "print(f\"numero de trocas na lista ordenada: {ordenado}\")\n",
    "print(f\"numero de trocas na lista decrescente: {decrescente}\")\n",
    "print(f\"numero de trocas na lista aleatoria:: {trocas}\")"
   ]
  },
  {
   "cell_type": "markdown",
   "metadata": {},
   "source": [
    "## Conclusao"
   ]
  },
  {
   "cell_type": "markdown",
   "metadata": {},
   "source": [
    "Conclusão:\n",
    "\n",
    "O selection sort saiu como o mais eficiente do que os outros dois.\n",
    "O Bubble e o Insertion tiveram resultados iguais."
   ]
  },
  {
   "cell_type": "markdown",
   "metadata": {},
   "source": [
    "## Resultado do teste:\n",
    "\n",
    " Selection:\n",
    "\n",
    "Numero de trocas com lista ordenada de forma ALEATORIA: 23\n",
    "Numero de trocas com lista ordenada de forma CRESCENTE: 0\n",
    "Numero de trocas com lista ordenada de forma DECRECENTE: 36\n",
    "\n",
    " Insertion:\n",
    "\n",
    "Numero de trocas com lista ordenada de forma ALEATORIA: 37\n",
    "Numero de trocas com lista ordenada de forma CRESCENTE: 0\n",
    "Numero de trocas com lista ordenada de forma DECRECENTE: 76\n",
    "\n",
    " Bubble:\n",
    "\n",
    "Numero de trocas com lista ordenada de forma ALEATORIA: 37\n",
    "Numero de trocas com lista ordenada de forma CRESCENTE: 0\n",
    "Numero de trocas com lista ordenada de forma DECRECENTE: 76"
   ]
  }
 ],
 "metadata": {
  "kernelspec": {
   "display_name": "Python 3",
   "language": "python",
   "name": "python3"
  },
  "language_info": {
   "codemirror_mode": {
    "name": "ipython",
    "version": 3
   },
   "file_extension": ".py",
   "mimetype": "text/x-python",
   "name": "python",
   "nbconvert_exporter": "python",
   "pygments_lexer": "ipython3",
   "version": "3.12.3"
  }
 },
 "nbformat": 4,
 "nbformat_minor": 2
}
