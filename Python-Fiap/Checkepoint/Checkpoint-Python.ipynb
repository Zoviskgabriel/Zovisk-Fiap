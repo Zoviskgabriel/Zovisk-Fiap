{
 "cells": [
  {
   "cell_type": "code",
   "execution_count": 27,
   "metadata": {},
   "outputs": [
    {
     "name": "stdout",
     "output_type": "stream",
     "text": [
      "Sua conta sera no valor de 32.5\n"
     ]
    }
   ],
   "source": [
    "# Exercicio Prova \n",
    "\n",
    "\n",
    "energia = float(input('Quanto de energia que voce usa?'))\n",
    "\n",
    "instalacao = str(input('Qual o tipo de instalaçao? Residencial, Comercial ou Industrial ?'))\n",
    "\n",
    "if instalacao == \"Residencial\" and energia <= 500:\n",
    "    conta1 = energia * 0.50\n",
    "    print(f'Sua conta sera no valor de {conta1}')\n",
    "elif  instalacao == \"residencial\" and energia > 500:\n",
    "    conta2 = energia * 0.75\n",
    "    print(f'Sua conta sera no valor de {conta2}')\n",
    "\n",
    "# Comercial \n",
    "\n",
    "elif instalacao == \"Comercial\" and energia <= 1000:\n",
    "    conta3 = energia * 0.65\n",
    "    print(f'Sua conta sera no valor de {conta3}')\n",
    "elif  instalacao == \"Comercial\" and energia > 1000:\n",
    "    conta4 = energia * 0.70\n",
    "    print(f'Sua conta sera no valor de {conta4}')\n",
    "\n",
    "# industrial\n",
    "\n",
    "elif instalacao == \"Industrial\" and energia <= 5000:\n",
    "    conta5 = energia * 0.65\n",
    "    print(f'Sua conta sera no valor de {conta5}')\n",
    "elif  instalacao == \"Industrial\" and energia > 5000:\n",
    "    conta6 = energia * 0.70\n",
    "    print(f'Sua conta sera no valor de {conta6}')\n",
    "else:\n",
    "    preço = 0\n",
    "    print(\"Não existe esse tipo de instalação\")\n",
    "\n"
   ]
  },
  {
   "cell_type": "code",
   "execution_count": 9,
   "metadata": {},
   "outputs": [
    {
     "name": "stdout",
     "output_type": "stream",
     "text": [
      "Valor a pagar: R$   50.00\n"
     ]
    }
   ],
   "source": [
    "#exercicio Prova\n",
    "\n",
    "energia = int(input(\"Qual o consulmo de energia?\"))\n",
    "\n",
    "instalacao = input(\"Qual instalacao  (Residencial, Comercial ou Industrial): \").lower()\n",
    "\n",
    "if instalacao == \"Residencial\":\n",
    "    if energia <= 500:\n",
    "        preço = 0.50\n",
    "    else:\n",
    "        preço = 0.75\n",
    "\n",
    "elif instalacao == \"Comercial \":\n",
    "    if energia <= 1000:\n",
    "        preço = 0.65\n",
    "    else:\n",
    "        preço = 0.70\n",
    "\n",
    "elif instalacao == \"Industrial\":\n",
    "    if energia <= 5000:\n",
    "        preço = 0.65\n",
    "    else:\n",
    "        preço = 0.70\n",
    "\n",
    "else:\n",
    "    preço = 0\n",
    "    print(\"Não existe esse tipo de instalação\")\n",
    "\n",
    "custo = energia * preço\n",
    "print(f\"Valor a pagar: R$ {custo:7.2f}\")"
   ]
  },
  {
   "cell_type": "code",
   "execution_count": 23,
   "metadata": {},
   "outputs": [
    {
     "name": "stdout",
     "output_type": "stream",
     "text": [
      "1. Ovos\n",
      "2. Panquecas\n",
      "3. Waffles\n",
      "4. Avela\n",
      "5. Mel\n",
      "Nao servimos este item no cafe da manha.\n"
     ]
    }
   ],
   "source": [
    "print(\"1. Ovos\")\n",
    "print(\"2. Panquecas\")\n",
    "print(\"3. Waffles\")\n",
    "print(\"4. Avela\")\n",
    "print(\"5. Mel\")\n",
    "\n",
    "escolha = int(input(\"Escolha um item para o cafe da manha:\"))\n",
    "\n",
    "if (escolha == 2):\n",
    "    refeicao = \"Panquecas\"\n",
    "elif (escolha == 3):\n",
    "    refeicao = \"Waffle\"\n",
    "if(escolha == 1):\n",
    "    print(\"1. torrada de trigo\")\n",
    "    print(\"2. massa fermentada\")\n",
    "    print(\"3. torrada de centeio\")\n",
    "    print(\"4. panquecas\")\n",
    "\n",
    "    tipo_pao = int(input(\"Escolha um tipo de pao\"))\n",
    "\n",
    "    if (tipo_pao == 1):\n",
    "        print(\" Voce escoleheu ovos com torrada de trigo.\")\n",
    "    elif (tipo_pao == 2 ):\n",
    "        print(\" Voce escolheu ovos com massa fermentada. \")\n",
    "    elif (tipo_pao == 3):\n",
    "        print(\" Voce escolheu ovos com torrada de centeio.\")\n",
    "    elif (tipo_pao == 4):\n",
    "        print(\"Voce escolheu ovos com panquecas.\")\n",
    "    else:\n",
    "        print(\"Nos temos ovos, mas nao temos o pao escolhido.\")\n",
    "elif (escolha == 4):\n",
    "    refeicao = \"Voce escolheu avela\"\n",
    "elif (escolha == 5):\n",
    "    refeicao = \"Voce escolheu mel\"\n",
    "else: \n",
    "    print(\"Nao servimos este item no cafe da manha.\")\n",
    "\n"
   ]
  }
 ],
 "metadata": {
  "kernelspec": {
   "display_name": "Python 3",
   "language": "python",
   "name": "python3"
  },
  "language_info": {
   "codemirror_mode": {
    "name": "ipython",
    "version": 3
   },
   "file_extension": ".py",
   "mimetype": "text/x-python",
   "name": "python",
   "nbconvert_exporter": "python",
   "pygments_lexer": "ipython3",
   "version": "3.11.4"
  },
  "orig_nbformat": 4
 },
 "nbformat": 4,
 "nbformat_minor": 2
}
