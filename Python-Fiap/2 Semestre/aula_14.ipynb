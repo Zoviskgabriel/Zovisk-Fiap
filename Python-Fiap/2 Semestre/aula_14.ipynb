{
 "cells": [
  {
   "attachments": {},
   "cell_type": "markdown",
   "metadata": {},
   "source": [
    "# Setup"
   ]
  },
  {
   "cell_type": "code",
   "execution_count": null,
   "metadata": {},
   "outputs": [],
   "source": [
    "pip install sympy\n"
   ]
  },
  {
   "attachments": {},
   "cell_type": "markdown",
   "metadata": {},
   "source": [
    "# Aula 14"
   ]
  },
  {
   "cell_type": "code",
   "execution_count": 6,
   "metadata": {},
   "outputs": [
    {
     "data": {
      "text/plain": [
       "('s', 't', 'r', 'i', 'n', 'g')"
      ]
     },
     "execution_count": 6,
     "metadata": {},
     "output_type": "execute_result"
    }
   ],
   "source": [
    "tupla = tuple ('string')\n",
    "tupla"
   ]
  },
  {
   "cell_type": "code",
   "execution_count": 7,
   "metadata": {},
   "outputs": [
    {
     "data": {
      "text/plain": [
       "('foo', [1, 2], True)"
      ]
     },
     "execution_count": 7,
     "metadata": {},
     "output_type": "execute_result"
    }
   ],
   "source": [
    "tupla2 = tuple (['foo', [1,2], True])\n",
    "tupla2"
   ]
  },
  {
   "cell_type": "code",
   "execution_count": 9,
   "metadata": {},
   "outputs": [
    {
     "ename": "TypeError",
     "evalue": "'tuple' object does not support item assignment",
     "output_type": "error",
     "traceback": [
      "\u001b[1;31m---------------------------------------------------------------------------\u001b[0m",
      "\u001b[1;31mTypeError\u001b[0m                                 Traceback (most recent call last)",
      "Cell \u001b[1;32mIn[9], line 1\u001b[0m\n\u001b[1;32m----> 1\u001b[0m tupla2[\u001b[39m2\u001b[39;49m] \u001b[39m=\u001b[39m \u001b[39mFalse\u001b[39;00m\n",
      "\u001b[1;31mTypeError\u001b[0m: 'tuple' object does not support item assignment"
     ]
    }
   ],
   "source": [
    "tupla2[2] = False\n",
    "# Não rodará, pq tuplas não podem alterar valores"
   ]
  },
  {
   "cell_type": "code",
   "execution_count": 10,
   "metadata": {},
   "outputs": [
    {
     "data": {
      "text/plain": [
       "('hoje', 'foo', [1, 2], True)"
      ]
     },
     "execution_count": 10,
     "metadata": {},
     "output_type": "execute_result"
    }
   ],
   "source": [
    "lista = list(tupla2)\n",
    "lista.insert(0,'hoje')\n",
    "nova_tupla=tuple(lista)\n",
    "\n",
    "nova_tupla\n",
    "\n",
    "\"\"\"\n",
    "Outra forma\n",
    "\n",
    "lista=list(tupla)\n",
    "posicao_insercao=lista.index('foo')+1\n",
    "lista.insert(posicao_insercao, 'hoje')\n",
    "nova_tupla=tuple(lista)\n",
    "nova_tupla\n",
    "\n",
    "('foo', 'hoje', [1,2], True)\n",
    "\"\"\""
   ]
  },
  {
   "cell_type": "code",
   "execution_count": 11,
   "metadata": {},
   "outputs": [
    {
     "data": {
      "text/plain": [
       "(4, None, 'foo', 6, 0, 'bar', 1)"
      ]
     },
     "execution_count": 11,
     "metadata": {},
     "output_type": "execute_result"
    }
   ],
   "source": [
    "(4,None,'foo') + (6,0) + ('bar',1)"
   ]
  },
  {
   "cell_type": "code",
   "execution_count": 12,
   "metadata": {},
   "outputs": [
    {
     "data": {
      "text/plain": [
       "('foo', 'bar', 'foo', 'bar', 'foo', 'bar', 'foo', 'bar')"
      ]
     },
     "execution_count": 12,
     "metadata": {},
     "output_type": "execute_result"
    }
   ],
   "source": [
    "('foo','bar') *4"
   ]
  },
  {
   "cell_type": "code",
   "execution_count": 13,
   "metadata": {},
   "outputs": [
    {
     "data": {
      "text/plain": [
       "(4, 8, 12, 3, 6, 9)"
      ]
     },
     "execution_count": 13,
     "metadata": {},
     "output_type": "execute_result"
    }
   ],
   "source": [
    "(4,8,12) + (3,6,9)"
   ]
  },
  {
   "cell_type": "code",
   "execution_count": 15,
   "metadata": {},
   "outputs": [
    {
     "name": "stdout",
     "output_type": "stream",
     "text": [
      "8\n",
      "16\n",
      "24\n"
     ]
    }
   ],
   "source": [
    "tupla_1 = (4,8,12)\n",
    "\n",
    "for numero in tupla_1:\n",
    "    novo_numero = numero*2\n",
    "    print(novo_numero)"
   ]
  },
  {
   "cell_type": "code",
   "execution_count": 18,
   "metadata": {},
   "outputs": [
    {
     "data": {
      "text/plain": [
       "(8, 16, 24)"
      ]
     },
     "execution_count": 18,
     "metadata": {},
     "output_type": "execute_result"
    }
   ],
   "source": [
    "nova_tupla1=[]\n",
    "\n",
    "for numero in tupla_1:\n",
    "    novo_numero=numero*2\n",
    "    nova_tupla1.append(novo_numero)\n",
    "\n",
    "nova_tupla1=tuple(nova_tupla1)\n",
    "nova_tupla1\n"
   ]
  },
  {
   "cell_type": "code",
   "execution_count": 23,
   "metadata": {},
   "outputs": [
    {
     "data": {
      "text/plain": [
       "4"
      ]
     },
     "execution_count": 23,
     "metadata": {},
     "output_type": "execute_result"
    }
   ],
   "source": [
    "tupla3 = (4,5,6)\n",
    "a,b,c = tupla3\n",
    "a"
   ]
  },
  {
   "cell_type": "code",
   "execution_count": 29,
   "metadata": {},
   "outputs": [
    {
     "data": {
      "text/plain": [
       "7"
      ]
     },
     "execution_count": 29,
     "metadata": {},
     "output_type": "execute_result"
    }
   ],
   "source": [
    "tupla4 = 4,5,(6,7)\n",
    "d,e,(f,g) = tupla4\n",
    "g"
   ]
  },
  {
   "attachments": {},
   "cell_type": "markdown",
   "metadata": {},
   "source": [
    "## Estrutura de dados"
   ]
  },
  {
   "cell_type": "code",
   "execution_count": 32,
   "metadata": {},
   "outputs": [
    {
     "data": {
      "text/plain": [
       "2"
      ]
     },
     "execution_count": 32,
     "metadata": {},
     "output_type": "execute_result"
    }
   ],
   "source": [
    "a,b=1,2\n",
    "b,a=a,b\n",
    "\n",
    "a"
   ]
  },
  {
   "cell_type": "code",
   "execution_count": 33,
   "metadata": {},
   "outputs": [
    {
     "name": "stdout",
     "output_type": "stream",
     "text": [
      "Depois da troca:\n",
      "a= 5\n",
      "b= 10\n"
     ]
    }
   ],
   "source": [
    "a = 10\n",
    "b = 5\n",
    "\n",
    "temp = a\n",
    "a = b\n",
    "b = temp\n",
    "\n",
    "print('Depois da troca:')\n",
    "print('a=',a)\n",
    "print('b=',b)"
   ]
  },
  {
   "attachments": {},
   "cell_type": "markdown",
   "metadata": {},
   "source": [
    "## Exercícios"
   ]
  },
  {
   "cell_type": "code",
   "execution_count": null,
   "metadata": {},
   "outputs": [],
   "source": [
    "\"\"\"\n",
    "1. Crie uma tupla chamada frutas com os seguintes elementos: 'maçã', 'banana', 'laranja', 'uva'.\n",
    "\n",
    "2. Acesse o segundo elemento da tupla frutas.\n",
    "\n",
    "3. Substitua o terceiro elemento da tupla frutas por 'manga' e armazene a tupla modificada em uma\n",
    "nova variável chamada frutas_modificadas.\n",
    "\n",
    "4. Concatene a tupla frutas_modificadas com a tupla ('abacaxi', 'limão') e armazene o resultado em\n",
    "uma nova tupla chamada frutas_concatenadas.\n",
    "\n",
    "5. Verifique se o elemento 'uva' está presente na tupla frutas_concatenadas.\n",
    "\n",
    "6. Descubra o índice do elemento 'banana' na tupla frutas_concatenadas.\n",
    "\n",
    "7. Conte quantas vezes o elemento 'uva' aparece na tupla frutas_concatenadas.\n",
    "\n",
    "8. Crie uma tupla chamada numeros com os números de 1 a 5.\n",
    "\n",
    "9. Multiplique cada elemento da tupla numeros por 2 e armazene o resultado em uma nova tupla chamada\n",
    "numeros_dobrados.\n",
    "\n",
    "10. Crie uma tupla vazia chamada vazia e verifique seu comprimento.\n",
    "\"\"\""
   ]
  },
  {
   "cell_type": "code",
   "execution_count": 2,
   "metadata": {},
   "outputs": [
    {
     "data": {
      "text/plain": [
       "'banana'"
      ]
     },
     "execution_count": 2,
     "metadata": {},
     "output_type": "execute_result"
    }
   ],
   "source": [
    "# 1. Crie uma tupla chamada frutas com os seguintes elementos: 'maçã', 'banana', 'laranja', 'uva'.\n",
    "frutas = ('maçã', 'banana', 'laranja', 'uva')\n",
    "\n",
    "# 2. Acesse o segundo elemento da tupla frutas.\n",
    "frutas[1]"
   ]
  },
  {
   "cell_type": "code",
   "execution_count": 18,
   "metadata": {},
   "outputs": [
    {
     "name": "stdout",
     "output_type": "stream",
     "text": [
      "('maçã', 'banana', 'manga', 'uva')\n",
      "('maçã', 'banana', 'manga', 'uva')\n"
     ]
    }
   ],
   "source": [
    "#3. Substitua o terceiro elemento da tupla frutas por 'manga' e armazene a tupla modificada em uma\n",
    "#   nova variável chamada frutas_modificadas.\n",
    "\n",
    "\n",
    "lista = list(frutas)\n",
    "trocar=lista[2]\n",
    "lista.insert(2,'manga')\n",
    "lista.remove(trocar)\n",
    "frutas_modificadas=tuple(lista)\n",
    "print(frutas)\n",
    "print(frutas_modificadas)\n"
   ]
  },
  {
   "cell_type": "code",
   "execution_count": 19,
   "metadata": {},
   "outputs": [
    {
     "data": {
      "text/plain": [
       "('maçã', 'banana', 'manga', 'uva', 'abacaxi', 'limão')"
      ]
     },
     "execution_count": 19,
     "metadata": {},
     "output_type": "execute_result"
    }
   ],
   "source": [
    "# 4. Concatene a tupla frutas_modificadas com a tupla ('abacaxi', 'limão') e armazene o resultado em\n",
    "#    uma nova tupla chamada frutas_concatenadas.\n",
    "frutas_concatenadas = frutas_modificadas + ('abacaxi','limão')\n",
    "frutas_concatenadas"
   ]
  },
  {
   "cell_type": "code",
   "execution_count": 20,
   "metadata": {},
   "outputs": [
    {
     "name": "stdout",
     "output_type": "stream",
     "text": [
      "A uva está presente na tupla.\n"
     ]
    }
   ],
   "source": [
    "# 5. Verifique se o elemento 'uva' está presente na tupla frutas_concatenadas.\n",
    "\n",
    "if 'uva' in frutas_concatenadas:\n",
    "    print(\"A uva está presente na tupla.\")\n",
    "else:\n",
    "    print(\"A uva não está presente na tupla.\")"
   ]
  },
  {
   "cell_type": "code",
   "execution_count": 21,
   "metadata": {},
   "outputs": [
    {
     "data": {
      "text/plain": [
       "1"
      ]
     },
     "execution_count": 21,
     "metadata": {},
     "output_type": "execute_result"
    }
   ],
   "source": [
    "# 6. Descubra o índice do elemento 'banana' na tupla frutas_concatenadas.\n",
    "\n",
    "indice_banana = frutas.index('banana')\n",
    "indice_banana"
   ]
  },
  {
   "cell_type": "code",
   "execution_count": 22,
   "metadata": {},
   "outputs": [
    {
     "data": {
      "text/plain": [
       "1"
      ]
     },
     "execution_count": 22,
     "metadata": {},
     "output_type": "execute_result"
    }
   ],
   "source": [
    "# 7. Conte quantas vezes o elemento 'uva' aparece na tupla frutas_concatenadas.\n",
    "\n",
    "contagem_uva = frutas_concatenadas.count('uva')\n",
    "contagem_uva"
   ]
  },
  {
   "cell_type": "code",
   "execution_count": 24,
   "metadata": {},
   "outputs": [],
   "source": [
    "# 8. Crie uma tupla chamada numeros com os números de 1 a 5.\n",
    "\n",
    "numeros = (1, 2, 3, 4, 5)"
   ]
  },
  {
   "cell_type": "code",
   "execution_count": 25,
   "metadata": {},
   "outputs": [
    {
     "data": {
      "text/plain": [
       "(2, 4, 6, 8, 10)"
      ]
     },
     "execution_count": 25,
     "metadata": {},
     "output_type": "execute_result"
    }
   ],
   "source": [
    "# 9. Multiplique cada elemento da tupla numeros por 2 e armazene o resultado em uma nova tupla chamada\n",
    "#    numeros_dobrados.\n",
    "\n",
    "numeros_dobrados=[]\n",
    "\n",
    "for numero in numeros:\n",
    "    novo_numero=numero*2\n",
    "    numeros_dobrados.append(novo_numero)\n",
    "\n",
    "numeros_dobrados=tuple(numeros_dobrados)\n",
    "numeros_dobrados\n"
   ]
  },
  {
   "cell_type": "code",
   "execution_count": 26,
   "metadata": {},
   "outputs": [
    {
     "data": {
      "text/plain": [
       "0"
      ]
     },
     "execution_count": 26,
     "metadata": {},
     "output_type": "execute_result"
    }
   ],
   "source": [
    "# 10. Crie uma tupla vazia chamada vazia e verifique seu comprimento.\n",
    "\n",
    "vazia = ()\n",
    "len(vazia)"
   ]
  },
  {
   "attachments": {},
   "cell_type": "markdown",
   "metadata": {},
   "source": [
    "## Estrutura de dados - Lista"
   ]
  },
  {
   "cell_type": "code",
   "execution_count": 85,
   "metadata": {},
   "outputs": [
    {
     "data": {
      "text/plain": [
       "range(0, 10)"
      ]
     },
     "execution_count": 85,
     "metadata": {},
     "output_type": "execute_result"
    }
   ],
   "source": [
    "gen = range(10)\n",
    "gen"
   ]
  },
  {
   "cell_type": "code",
   "execution_count": 86,
   "metadata": {},
   "outputs": [
    {
     "data": {
      "text/plain": [
       "[0, 1, 2, 3, 4, 5, 6, 7, 8, 9]"
      ]
     },
     "execution_count": 86,
     "metadata": {},
     "output_type": "execute_result"
    }
   ],
   "source": [
    "list(gen)"
   ]
  },
  {
   "cell_type": "code",
   "execution_count": null,
   "metadata": {},
   "outputs": [],
   "source": [
    "b_list = ['agua', 'fogo', 'terra']"
   ]
  },
  {
   "cell_type": "code",
   "execution_count": 87,
   "metadata": {},
   "outputs": [
    {
     "data": {
      "text/plain": [
       "[4, None, 'foo', 7, 8, (2, 3)]"
      ]
     },
     "execution_count": 87,
     "metadata": {},
     "output_type": "execute_result"
    }
   ],
   "source": [
    "[4,None,'foo'] + [7,8,(2,3)]\n"
   ]
  },
  {
   "cell_type": "code",
   "execution_count": 89,
   "metadata": {},
   "outputs": [
    {
     "data": {
      "text/plain": [
       "[4, None, 'foo', 7, 8, (2, 3)]"
      ]
     },
     "execution_count": 89,
     "metadata": {},
     "output_type": "execute_result"
    }
   ],
   "source": [
    "x=[4,None,'foo']\n",
    "x.extend([7,8,(2,3)])\n",
    "x"
   ]
  },
  {
   "cell_type": "code",
   "execution_count": 90,
   "metadata": {},
   "outputs": [
    {
     "data": {
      "text/plain": [
       "[1, 2, 3, 4, 5, 6, 7, 8, 9]"
      ]
     },
     "execution_count": 90,
     "metadata": {},
     "output_type": "execute_result"
    }
   ],
   "source": [
    "lista_da_lista = [[1,2,3],[4,5,6],[7,8,9]]\n",
    "all = []\n",
    "\n",
    "for pedaco in lista_da_lista:\n",
    "    all.extend(pedaco)\n",
    "\n",
    "all"
   ]
  },
  {
   "cell_type": "code",
   "execution_count": 91,
   "metadata": {},
   "outputs": [
    {
     "data": {
      "text/plain": [
       "[1, 2, 3, 5, 7]"
      ]
     },
     "execution_count": 91,
     "metadata": {},
     "output_type": "execute_result"
    }
   ],
   "source": [
    "a = [7,2,5,1,3]\n",
    "a.sort()\n",
    "a"
   ]
  },
  {
   "cell_type": "code",
   "execution_count": 93,
   "metadata": {},
   "outputs": [
    {
     "data": {
      "text/plain": [
       "['He', 'saw', 'six', 'small', 'foxes']"
      ]
     },
     "execution_count": 93,
     "metadata": {},
     "output_type": "execute_result"
    }
   ],
   "source": [
    "b=['saw','small','He','foxes','six']\n",
    "b.sort(key=len)\n",
    "b"
   ]
  },
  {
   "cell_type": "code",
   "execution_count": 94,
   "metadata": {},
   "outputs": [],
   "source": [
    "seq = [7,2,3,7,5,6,0,1]\n"
   ]
  },
  {
   "cell_type": "code",
   "execution_count": 99,
   "metadata": {},
   "outputs": [
    {
     "data": {
      "text/plain": [
       "[2, 3, 7, 5]"
      ]
     },
     "execution_count": 99,
     "metadata": {},
     "output_type": "execute_result"
    }
   ],
   "source": [
    "seq[1:5]"
   ]
  },
  {
   "cell_type": "code",
   "execution_count": 98,
   "metadata": {},
   "outputs": [
    {
     "data": {
      "text/plain": [
       "[7]"
      ]
     },
     "execution_count": 98,
     "metadata": {},
     "output_type": "execute_result"
    }
   ],
   "source": [
    "seq[3:4]"
   ]
  },
  {
   "cell_type": "code",
   "execution_count": 97,
   "metadata": {},
   "outputs": [
    {
     "data": {
      "text/plain": [
       "[7, 2, 3, 7, 5]"
      ]
     },
     "execution_count": 97,
     "metadata": {},
     "output_type": "execute_result"
    }
   ],
   "source": [
    "seq[:5]"
   ]
  },
  {
   "cell_type": "code",
   "execution_count": 95,
   "metadata": {},
   "outputs": [
    {
     "data": {
      "text/plain": [
       "[7, 5, 6, 0, 1]"
      ]
     },
     "execution_count": 95,
     "metadata": {},
     "output_type": "execute_result"
    }
   ],
   "source": [
    "seq[3:]"
   ]
  },
  {
   "cell_type": "code",
   "execution_count": 96,
   "metadata": {},
   "outputs": [
    {
     "data": {
      "text/plain": [
       "[5, 6, 0, 1]"
      ]
     },
     "execution_count": 96,
     "metadata": {},
     "output_type": "execute_result"
    }
   ],
   "source": [
    "seq[-4:]"
   ]
  },
  {
   "cell_type": "code",
   "execution_count": 100,
   "metadata": {},
   "outputs": [
    {
     "data": {
      "text/plain": [
       "[7, 3, 5, 0]"
      ]
     },
     "execution_count": 100,
     "metadata": {},
     "output_type": "execute_result"
    }
   ],
   "source": [
    "seq[::2]"
   ]
  },
  {
   "cell_type": "code",
   "execution_count": 101,
   "metadata": {},
   "outputs": [
    {
     "data": {
      "text/plain": [
       "[7, 7, 0]"
      ]
     },
     "execution_count": 101,
     "metadata": {},
     "output_type": "execute_result"
    }
   ],
   "source": [
    "seq[::3]"
   ]
  },
  {
   "attachments": {},
   "cell_type": "markdown",
   "metadata": {},
   "source": [
    "## Exercicio"
   ]
  },
  {
   "cell_type": "code",
   "execution_count": null,
   "metadata": {},
   "outputs": [],
   "source": [
    "'''\n",
    "1. Crie uma lista com os números de 1 a 10 e imprima-a.\n",
    "2. Crie uma lista vazia e adicione os números pares de 1 a 10 a ela.\n",
    "3. Dada uma lista de números, encontre o maior elemento.\n",
    "4. Dada uma lista de palavras, crie uma nova lista com todas as palavras em\n",
    "maiúsculas.\n",
    "5. Dada uma lista de números, calcule a soma de todos os elementos.\n",
    "6. Dada uma lista de números, conte quantos números são maiores que 5.\n",
    "7. Dada uma lista de strings, ordene-a em ordem alfabética.\n",
    "8. Dada uma lista de números, remova os elementos repetidos.\n",
    "9. Dada uma lista de strings, encontre a palavra mais longa.\n",
    "10. Dada uma lista de listas, concatene todas as sublistas em uma única lista.\n",
    "'''"
   ]
  },
  {
   "cell_type": "code",
   "execution_count": 27,
   "metadata": {},
   "outputs": [
    {
     "name": "stdout",
     "output_type": "stream",
     "text": [
      "[1, 2, 3, 4, 5, 6, 7, 8, 9, 10]\n"
     ]
    }
   ],
   "source": [
    "# 1. Crie uma lista com os números de 1 a 10 e imprima-a.\n",
    "numeros = [1, 2, 3, 4, 5, 6, 7, 8, 9, 10]\n",
    "print(numeros)"
   ]
  },
  {
   "cell_type": "code",
   "execution_count": 28,
   "metadata": {},
   "outputs": [
    {
     "name": "stdout",
     "output_type": "stream",
     "text": [
      "[2, 4, 6, 8, 10]\n"
     ]
    }
   ],
   "source": [
    "# 2. Crie uma lista vazia e adicione os números pares de 1 a 10 a ela.\n",
    "\n",
    "pares = []\n",
    "\n",
    "for numero in numeros:\n",
    "    if numero%2 == 0:\n",
    "        pares.append(numero)\n",
    "    else:\n",
    "        continue\n",
    "\n",
    "print (pares)"
   ]
  },
  {
   "cell_type": "code",
   "execution_count": 29,
   "metadata": {},
   "outputs": [
    {
     "name": "stdout",
     "output_type": "stream",
     "text": [
      "17\n"
     ]
    }
   ],
   "source": [
    "# 3. Dada uma lista de números, encontre o maior elemento.\n",
    "\n",
    "numeros = [5, 12, 8, 3, 17, 10]\n",
    "maior = max(numeros)\n",
    "print(maior)"
   ]
  },
  {
   "cell_type": "code",
   "execution_count": 36,
   "metadata": {},
   "outputs": [
    {
     "name": "stdout",
     "output_type": "stream",
     "text": [
      "['PYTHON', 'É', 'INCRÍVEL']\n"
     ]
    }
   ],
   "source": [
    "# 4. Dada uma lista de palavras, crie uma nova lista com todas as palavras em maiúsculas.\n",
    "\n",
    "palavras = ['python', 'é', 'incrível']\n",
    "maiusculas = []\n",
    "for palavra in palavras:\n",
    "    maiusculas.append(palavra.upper())\n",
    "print(maiusculas)"
   ]
  },
  {
   "cell_type": "code",
   "execution_count": 37,
   "metadata": {},
   "outputs": [
    {
     "name": "stdout",
     "output_type": "stream",
     "text": [
      "55\n"
     ]
    }
   ],
   "source": [
    "# 5. Dada uma lista de números, calcule a soma de todos os elementos.\n",
    "numeros = [5, 12, 8, 3, 17, 10]\n",
    "soma = sum(numeros)\n",
    "print (soma)"
   ]
  },
  {
   "cell_type": "code",
   "execution_count": 39,
   "metadata": {},
   "outputs": [
    {
     "name": "stdout",
     "output_type": "stream",
     "text": [
      "3\n"
     ]
    }
   ],
   "source": [
    "# 6. Dada uma lista de números, conte quantos números são maiores que 5.\n",
    "numeros = [3, 7, 10, 2, 8, 5]\n",
    "cont = 0\n",
    "for numero in numeros:\n",
    "    if numero > 5:\n",
    "        cont += 1\n",
    "print(cont)"
   ]
  },
  {
   "cell_type": "code",
   "execution_count": 41,
   "metadata": {},
   "outputs": [
    {
     "data": {
      "text/plain": [
       "['abacaxi', 'banana', 'limão', 'manga', 'maçã', 'uva']"
      ]
     },
     "execution_count": 41,
     "metadata": {},
     "output_type": "execute_result"
    }
   ],
   "source": [
    "# 7. Dada uma lista de strings, ordene-a em ordem alfabética.\n",
    "\n",
    "frutas = ['maçã', 'banana', 'manga', 'uva', 'abacaxi', 'limão']\n",
    "\n",
    "frutas.sort()\n",
    "frutas"
   ]
  },
  {
   "cell_type": "code",
   "execution_count": 42,
   "metadata": {},
   "outputs": [
    {
     "name": "stdout",
     "output_type": "stream",
     "text": [
      "[1, 2, 3, 4, 5]\n"
     ]
    }
   ],
   "source": [
    "# 8. Dada uma lista de números, remova os elementos repetidos.\n",
    "\n",
    "numeros = [1, 2, 2, 3, 4, 4, 5]\n",
    "numeros_sem_repeticao = list(set(numeros))\n",
    "print(numeros_sem_repeticao)"
   ]
  },
  {
   "cell_type": "code",
   "execution_count": 44,
   "metadata": {},
   "outputs": [
    {
     "data": {
      "text/plain": [
       "'abacaxi'"
      ]
     },
     "execution_count": 44,
     "metadata": {},
     "output_type": "execute_result"
    }
   ],
   "source": [
    "# 9. Dada uma lista de strings, encontre a palavra mais longa.\n",
    "\n",
    "frutas = ['maçã', 'banana', 'manga', 'uva', 'abacaxi', 'limão']\n",
    "\n",
    "maior_palavra = max(frutas, key=len)\n",
    "maior_palavra\n"
   ]
  },
  {
   "cell_type": "code",
   "execution_count": 48,
   "metadata": {},
   "outputs": [
    {
     "data": {
      "text/plain": [
       "[1, 2, 3, 4, 5, 6, 7, 8, 9, 10]"
      ]
     },
     "execution_count": 48,
     "metadata": {},
     "output_type": "execute_result"
    }
   ],
   "source": [
    "# 10. Dada uma lista de listas, concatene todas as sublistas em uma única lista.\n",
    "\n",
    "lista = [\n",
    "   [1, 2],\n",
    "   [3, 4],\n",
    "   [5, 6],\n",
    "   [7, 8],\n",
    "   [9, 10]]\n",
    "\n",
    "cont = 0\n",
    "lista_concat = []\n",
    "for i in lista:\n",
    "    lista_concat = lista_concat + i\n",
    "\n",
    "lista_concat"
   ]
  }
 ],
 "metadata": {
  "kernelspec": {
   "display_name": "Python 3",
   "language": "python",
   "name": "python3"
  },
  "language_info": {
   "codemirror_mode": {
    "name": "ipython",
    "version": 3
   },
   "file_extension": ".py",
   "mimetype": "text/x-python",
   "name": "python",
   "nbconvert_exporter": "python",
   "pygments_lexer": "ipython3",
   "version": "3.11.4"
  },
  "orig_nbformat": 4
 },
 "nbformat": 4,
 "nbformat_minor": 2
}
