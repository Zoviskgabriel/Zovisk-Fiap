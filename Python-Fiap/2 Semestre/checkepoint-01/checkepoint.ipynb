{
 "cells": [
  {
   "cell_type": "code",
   "execution_count": 15,
   "metadata": {},
   "outputs": [
    {
     "name": "stdout",
     "output_type": "stream",
     "text": [
      "Requirement already satisfied: pandas in c:\\python311\\lib\\site-packages (2.2.1)\n",
      "Requirement already satisfied: numpy<2,>=1.23.2 in c:\\python311\\lib\\site-packages (from pandas) (1.26.4)\n",
      "Requirement already satisfied: python-dateutil>=2.8.2 in c:\\python311\\lib\\site-packages (from pandas) (2.8.2)\n",
      "Requirement already satisfied: pytz>=2020.1 in c:\\python311\\lib\\site-packages (from pandas) (2024.1)\n",
      "Requirement already satisfied: tzdata>=2022.7 in c:\\python311\\lib\\site-packages (from pandas) (2024.1)\n",
      "Requirement already satisfied: six>=1.5 in c:\\python311\\lib\\site-packages (from python-dateutil>=2.8.2->pandas) (1.16.0)\n",
      "Note: you may need to restart the kernel to use updated packages.\n"
     ]
    },
    {
     "name": "stderr",
     "output_type": "stream",
     "text": [
      "\n",
      "[notice] A new release of pip is available: 23.1.2 -> 24.0\n",
      "[notice] To update, run: python.exe -m pip install --upgrade pip\n"
     ]
    }
   ],
   "source": [
    "pip install pandas"
   ]
  },
  {
   "cell_type": "code",
   "execution_count": 16,
   "metadata": {},
   "outputs": [],
   "source": [
    "import pandas as pd"
   ]
  },
  {
   "attachments": {},
   "cell_type": "markdown",
   "metadata": {},
   "source": [
    "## Exercicio 1\n"
   ]
  },
  {
   "cell_type": "code",
   "execution_count": 24,
   "metadata": {},
   "outputs": [
    {
     "name": "stdout",
     "output_type": "stream",
     "text": [
      "('Chevrolet', 'Fiat', 'volvo', 'Audi', 'Mercedes', 'Toyota', 'mitsubishi', 'ford')\n"
     ]
    }
   ],
   "source": [
    "\n",
    "# Criação marca_carros\n",
    "marca_carros = ('Chevrolet', 'Fiat', 'Honda', 'Audi', 'Mercedes','Toyota')\n",
    "\n",
    "marcas_carros_modificados = list(marca_carros)\n",
    "marcas_carros_modificados[2] = 'volvo'\n",
    "marcas_carros_modificados = tuple(marcas_carros_modificados)\n",
    "\n",
    "# nova tupla concatenada\n",
    "nova_tupla = ('mitsubishi','ford')\n",
    "tupla_carros = marcas_carros_modificados + nova_tupla\n",
    "\n",
    "# Resultado\n",
    "print(tupla_carros)\n"
   ]
  },
  {
   "attachments": {},
   "cell_type": "markdown",
   "metadata": {},
   "source": [
    "## Exercicio 2"
   ]
  },
  {
   "cell_type": "code",
   "execution_count": 21,
   "metadata": {},
   "outputs": [
    {
     "name": "stdout",
     "output_type": "stream",
     "text": [
      "A soma do quadrado dos numeros do ra é: 156\n"
     ]
    }
   ],
   "source": [
    "# Lista numeros do RA.\n",
    "ra_numeros = [5,5,3,0,9,4]\n",
    "\n",
    "# Função de retoro soma do quadrado.\n",
    "def soma_quadrado_ra(RA_numeros):\n",
    "    soma_quadrado = sum(num**2 for num in ra_numeros)\n",
    "    return soma_quadrado\n",
    "\n",
    "# Resultado e teste da função.\n",
    "print(\"A soma do quadrado dos numeros do ra é:\",soma_quadrado_ra(ra_numeros))\n",
    "\n"
   ]
  },
  {
   "attachments": {},
   "cell_type": "markdown",
   "metadata": {},
   "source": [
    "## Exercicio 3"
   ]
  },
  {
   "cell_type": "code",
   "execution_count": 38,
   "metadata": {},
   "outputs": [
    {
     "name": "stdout",
     "output_type": "stream",
     "text": [
      "Nome completo: Gabriel Trimboli\n"
     ]
    }
   ],
   "source": [
    "primeiro_nome = input(\" Digite seu primeiro nome: \")\n",
    "\n",
    "segundo_nome = input(\"Digite seu segundo nome:\")\n",
    "\n",
    "nome_completo = primeiro_nome.capitalize() + segundo_nome.capitalize()\n",
    "\n",
    "print(\"Nome completo:\", nome_completo)"
   ]
  },
  {
   "attachments": {},
   "cell_type": "markdown",
   "metadata": {},
   "source": [
    "## Exercicio 4"
   ]
  },
  {
   "cell_type": "code",
   "execution_count": null,
   "metadata": {},
   "outputs": [],
   "source": []
  },
  {
   "attachments": {},
   "cell_type": "markdown",
   "metadata": {},
   "source": [
    "## Exercicio 5"
   ]
  },
  {
   "cell_type": "code",
   "execution_count": 25,
   "metadata": {},
   "outputs": [],
   "source": [
    "import pandas as pd "
   ]
  },
  {
   "cell_type": "code",
   "execution_count": 28,
   "metadata": {},
   "outputs": [],
   "source": [
    "# variavel temperatura \n",
    "temperatura = (28,30,32,29,27,26,25,26,28,29,35,31,32,33,34,\n",
    "               33,31,30,29,28,27,26,25,26,27,28,38,31,32,33)\n",
    "\n",
    "temperatura_series = pd.Series(temperatura)\n"
   ]
  },
  {
   "cell_type": "code",
   "execution_count": 34,
   "metadata": {},
   "outputs": [
    {
     "name": "stdout",
     "output_type": "stream",
     "text": [
      "Temperatura media do mês: 29.633333333333333\n"
     ]
    }
   ],
   "source": [
    "# A) Temperatura Media do mês\n",
    "media_temperatura = temperatura_series.mean()\n",
    "print(\"Temperatura media do mês:\", media_temperatura)"
   ]
  },
  {
   "cell_type": "code",
   "execution_count": 33,
   "metadata": {},
   "outputs": [
    {
     "name": "stdout",
     "output_type": "stream",
     "text": [
      "O dia mais quente do mes foi o dia: 27\n"
     ]
    }
   ],
   "source": [
    "# B) Determine o dia mais quente do mês.\n",
    "dia_mais_quente = temperatura_series.idxmax() + 1\n",
    "print(\"O dia mais quente do mes foi o dia:\", dia_mais_quente)"
   ]
  },
  {
   "cell_type": "code",
   "execution_count": 31,
   "metadata": {},
   "outputs": [
    {
     "name": "stdout",
     "output_type": "stream",
     "text": [
      "Dias em que a temperatura foi maior que 30 graus: 2     32\n",
      "10    35\n",
      "11    31\n",
      "12    32\n",
      "13    33\n",
      "14    34\n",
      "15    33\n",
      "16    31\n",
      "26    38\n",
      "27    31\n",
      "28    32\n",
      "29    33\n",
      "dtype: int64\n"
     ]
    }
   ],
   "source": [
    "# C) Encontre os dias em que a temperatura foi superior a 30 graus Celsius.\n",
    "dias_acima_de_30 = temperatura_series[temperatura_series >30]\n",
    "print(\"Dias em que a temperatura foi maior que 30 graus:\", dias_acima_de_30)"
   ]
  },
  {
   "cell_type": "code",
   "execution_count": 32,
   "metadata": {},
   "outputs": [
    {
     "name": "stdout",
     "output_type": "stream",
     "text": [
      "Numero de dias em que a temperatura foi superior a media do mes: 14\n"
     ]
    }
   ],
   "source": [
    "# D) Calcule o numero de dias em que a temperatura foi superior a media do mes.\n",
    "dias_acima_da_media = temperatura_series[temperatura_series >media_temperatura]\n",
    "num_dias_acima_da_media = len(dias_acima_da_media)\n",
    "print(\"Numero de dias em que a temperatura foi superior a media do mes:\", num_dias_acima_da_media)"
   ]
  },
  {
   "attachments": {},
   "cell_type": "markdown",
   "metadata": {},
   "source": [
    "## Exercicio 6"
   ]
  },
  {
   "cell_type": "code",
   "execution_count": null,
   "metadata": {},
   "outputs": [],
   "source": []
  }
 ],
 "metadata": {
  "kernelspec": {
   "display_name": "Python 3",
   "language": "python",
   "name": "python3"
  },
  "language_info": {
   "codemirror_mode": {
    "name": "ipython",
    "version": 3
   },
   "file_extension": ".py",
   "mimetype": "text/x-python",
   "name": "python",
   "nbconvert_exporter": "python",
   "pygments_lexer": "ipython3",
   "version": "3.11.4"
  },
  "orig_nbformat": 4
 },
 "nbformat": 4,
 "nbformat_minor": 2
}
