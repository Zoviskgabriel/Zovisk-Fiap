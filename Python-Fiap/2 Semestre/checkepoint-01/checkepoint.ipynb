{
 "cells": [
  {
   "cell_type": "code",
   "execution_count": 2,
   "metadata": {},
   "outputs": [
    {
     "name": "stdout",
     "output_type": "stream",
     "text": [
      "Requirement already satisfied: pandas in c:\\users\\gabri\\appdata\\local\\programs\\python\\python312\\lib\\site-packages (2.2.1)Note: you may need to restart the kernel to use updated packages.\n",
      "\n",
      "Requirement already satisfied: numpy<2,>=1.26.0 in c:\\users\\gabri\\appdata\\local\\programs\\python\\python312\\lib\\site-packages (from pandas) (1.26.4)\n",
      "Requirement already satisfied: python-dateutil>=2.8.2 in c:\\users\\gabri\\appdata\\roaming\\python\\python312\\site-packages (from pandas) (2.9.0.post0)\n",
      "Requirement already satisfied: pytz>=2020.1 in c:\\users\\gabri\\appdata\\local\\programs\\python\\python312\\lib\\site-packages (from pandas) (2024.1)\n",
      "Requirement already satisfied: tzdata>=2022.7 in c:\\users\\gabri\\appdata\\local\\programs\\python\\python312\\lib\\site-packages (from pandas) (2024.1)\n",
      "Requirement already satisfied: six>=1.5 in c:\\users\\gabri\\appdata\\roaming\\python\\python312\\site-packages (from python-dateutil>=2.8.2->pandas) (1.16.0)\n"
     ]
    }
   ],
   "source": [
    "pip install pandas"
   ]
  },
  {
   "cell_type": "code",
   "execution_count": 3,
   "metadata": {},
   "outputs": [],
   "source": [
    "import pandas as pd"
   ]
  },
  {
   "attachments": {},
   "cell_type": "markdown",
   "metadata": {},
   "source": [
    "## Exercicio 1\n"
   ]
  },
  {
   "cell_type": "code",
   "execution_count": 24,
   "metadata": {},
   "outputs": [
    {
     "name": "stdout",
     "output_type": "stream",
     "text": [
      "('Chevrolet', 'Fiat', 'volvo', 'Audi', 'Mercedes', 'Toyota', 'mitsubishi', 'ford')\n"
     ]
    }
   ],
   "source": [
    "\n",
    "# Criação marca_carros\n",
    "marca_carros = ('Chevrolet', 'Fiat', 'Honda', 'Audi', 'Mercedes','Toyota')\n",
    "\n",
    "marcas_carros_modificados = list(marca_carros)\n",
    "marcas_carros_modificados[2] = 'volvo'\n",
    "marcas_carros_modificados = tuple(marcas_carros_modificados)\n",
    "\n",
    "# nova tupla concatenada\n",
    "nova_tupla = ('mitsubishi','ford')\n",
    "tupla_carros = marcas_carros_modificados + nova_tupla\n",
    "\n",
    "# Resultado\n",
    "print(tupla_carros)\n"
   ]
  },
  {
   "attachments": {},
   "cell_type": "markdown",
   "metadata": {},
   "source": [
    "## Exercicio 2"
   ]
  },
  {
   "cell_type": "code",
   "execution_count": 21,
   "metadata": {},
   "outputs": [
    {
     "name": "stdout",
     "output_type": "stream",
     "text": [
      "A soma do quadrado dos numeros do ra é: 156\n"
     ]
    }
   ],
   "source": [
    "# Lista numeros do RA.\n",
    "ra_numeros = [5,5,3,0,9,4]\n",
    "\n",
    "# Função de retoro soma do quadrado.\n",
    "def soma_quadrado_ra(RA_numeros):\n",
    "    soma_quadrado = sum(num**2 for num in ra_numeros)\n",
    "    return soma_quadrado\n",
    "\n",
    "# Resultado e teste da função.\n",
    "print(\"A soma do quadrado dos numeros do ra é:\",soma_quadrado_ra(ra_numeros))\n",
    "\n"
   ]
  },
  {
   "attachments": {},
   "cell_type": "markdown",
   "metadata": {},
   "source": [
    "## Exercicio 3"
   ]
  },
  {
   "cell_type": "code",
   "execution_count": 38,
   "metadata": {},
   "outputs": [
    {
     "name": "stdout",
     "output_type": "stream",
     "text": [
      "Nome completo: Gabriel Trimboli\n"
     ]
    }
   ],
   "source": [
    "primeiro_nome = input(\" Digite seu primeiro nome: \")\n",
    "\n",
    "segundo_nome = input(\"Digite seu segundo nome:\")\n",
    "\n",
    "nome_completo = primeiro_nome.capitalize() + segundo_nome.capitalize()\n",
    "\n",
    "print(\"Nome completo:\", nome_completo)"
   ]
  },
  {
   "attachments": {},
   "cell_type": "markdown",
   "metadata": {},
   "source": [
    "## Exercicio 4"
   ]
  },
  {
   "cell_type": "code",
   "execution_count": 4,
   "metadata": {},
   "outputs": [
    {
     "name": "stdout",
     "output_type": "stream",
     "text": [
      "Quantidade mínima de vendas: 832\n",
      "Quantidade máxima de vendas: 2500\n",
      "Quantidade média de vendas: 1505.3333333333333\n",
      "Soma total de vendas: 9032\n"
     ]
    }
   ],
   "source": [
    "\n",
    "dados = {\n",
    "    'Carro': ['Chevrolet', 'Fiat', 'Honda', 'Audi', 'Mercedez', 'Toyota'],\n",
    "    'Vendas': [2000, 1300, 2500, 900, 832, 1500]}\n",
    "\n",
    "df_carros = pd.DataFrame(dados)\n",
    "\n",
    "print(\"Quantidade mínima de vendas:\", df_carros['Vendas'].min())\n",
    "\n",
    "print(\"Quantidade máxima de vendas:\", df_carros['Vendas'].max())\n",
    "\n",
    "print(\"Quantidade média de vendas:\", df_carros['Vendas'].mean())\n",
    "\n",
    "print(\"Soma total de vendas:\", df_carros['Vendas'].sum())"
   ]
  },
  {
   "attachments": {},
   "cell_type": "markdown",
   "metadata": {},
   "source": [
    "## Exercicio 5"
   ]
  },
  {
   "cell_type": "code",
   "execution_count": null,
   "metadata": {},
   "outputs": [],
   "source": [
    "import pandas as pd\n",
    "\n",
    "temperatura = (28, 30, 32, 29, 27, 26, 25, 26, 28, 29, 35, 31, 32, 33, 34,\n",
    "                33, 31, 30, 29, 28, 27, 26, 25, 26, 27, 28, 38, 31, 32, 33)\n",
    "\n",
    "temperatura_series = pd.Series(temperatura)\n",
    "\n",
    "# A) \n",
    "media_temperatura = temperatura_series.mean()\n",
    "print(\"Temperatura média do mês:\", media_temperatura)\n",
    "\n",
    "# B)\n",
    "dia_mais_quente = temperatura_series.idxmax() + 1  \n",
    "print(\"O dia mais quente do mês foi o dia:\", dia_mais_quente)\n",
    "\n",
    "# C)\n",
    "dias_acima_de_30 = temperatura_series[temperatura_series > 30]\n",
    "print(\"Dias em que a temperatura foi superior a 30 graus Celsius:\", dias_acima_de_30)\n",
    "# D)\n",
    "dias_acima_da_media = temperatura_series[temperatura_series > media_temperatura]\n",
    "num_dias_acima_da_media = len(dias_acima_da_media)\n",
    "print(\"Número de dias em que a temperatura foi superior à média do mês:\", num_dias_acima_da_media)"
   ]
  },
  {
   "cell_type": "code",
   "execution_count": 25,
   "metadata": {},
   "outputs": [],
   "source": [
    "import pandas as pd "
   ]
  },
  {
   "cell_type": "code",
   "execution_count": 28,
   "metadata": {},
   "outputs": [],
   "source": [
    "# variavel temperatura \n",
    "temperatura = (28,30,32,29,27,26,25,26,28,29,35,31,32,33,34,\n",
    "               33,31,30,29,28,27,26,25,26,27,28,38,31,32,33)\n",
    "\n",
    "temperatura_series = pd.Series(temperatura)\n"
   ]
  },
  {
   "cell_type": "code",
   "execution_count": 34,
   "metadata": {},
   "outputs": [
    {
     "name": "stdout",
     "output_type": "stream",
     "text": [
      "Temperatura media do mês: 29.633333333333333\n"
     ]
    }
   ],
   "source": [
    "# A) Temperatura Media do mês\n",
    "media_temperatura = temperatura_series.mean()\n",
    "print(\"Temperatura media do mês:\", media_temperatura)"
   ]
  },
  {
   "cell_type": "code",
   "execution_count": 33,
   "metadata": {},
   "outputs": [
    {
     "name": "stdout",
     "output_type": "stream",
     "text": [
      "O dia mais quente do mes foi o dia: 27\n"
     ]
    }
   ],
   "source": [
    "# B) Determine o dia mais quente do mês.\n",
    "dia_mais_quente = temperatura_series.idxmax() + 1\n",
    "print(\"O dia mais quente do mes foi o dia:\", dia_mais_quente)"
   ]
  },
  {
   "cell_type": "code",
   "execution_count": 31,
   "metadata": {},
   "outputs": [
    {
     "name": "stdout",
     "output_type": "stream",
     "text": [
      "Dias em que a temperatura foi maior que 30 graus: 2     32\n",
      "10    35\n",
      "11    31\n",
      "12    32\n",
      "13    33\n",
      "14    34\n",
      "15    33\n",
      "16    31\n",
      "26    38\n",
      "27    31\n",
      "28    32\n",
      "29    33\n",
      "dtype: int64\n"
     ]
    }
   ],
   "source": [
    "# C) Encontre os dias em que a temperatura foi superior a 30 graus Celsius.\n",
    "dias_acima_de_30 = temperatura_series[temperatura_series >30]\n",
    "print(\"Dias em que a temperatura foi maior que 30 graus:\", dias_acima_de_30)"
   ]
  },
  {
   "cell_type": "code",
   "execution_count": 32,
   "metadata": {},
   "outputs": [
    {
     "name": "stdout",
     "output_type": "stream",
     "text": [
      "Numero de dias em que a temperatura foi superior a media do mes: 14\n"
     ]
    }
   ],
   "source": [
    "# D) Calcule o numero de dias em que a temperatura foi superior a media do mes.\n",
    "dias_acima_da_media = temperatura_series[temperatura_series >media_temperatura]\n",
    "num_dias_acima_da_media = len(dias_acima_da_media)\n",
    "print(\"Numero de dias em que a temperatura foi superior a media do mes:\", num_dias_acima_da_media)"
   ]
  },
  {
   "attachments": {},
   "cell_type": "markdown",
   "metadata": {},
   "source": [
    "## Exercicio 6"
   ]
  },
  {
   "cell_type": "code",
   "execution_count": 5,
   "metadata": {},
   "outputs": [
    {
     "name": "stdout",
     "output_type": "stream",
     "text": [
      "Total de precipitação pluviométrica ao longo do ano de 2023: 1640 mm\n",
      "Mês com maior precipitação: 1\n",
      "Média de chuvas por mês: 136.66666666666666 mm\n",
      "Meses em que a precipitação foi superior a 150 mm: [ 1  2  3 11 12]\n",
      "Quantidade de meses em que a precipitação foi inferior a 100 mm: 5\n"
     ]
    }
   ],
   "source": [
    "import numpy as np\n",
    "\n",
    "precipitacao_2023 = np.array([270, 210, 160, 120, 80, 50, 40, 50, 80, 140, 190, 250])\n",
    "\n",
    "total_precipitacao = np.sum(precipitacao_2023)\n",
    "print(\"Total de precipitação pluviométrica ao longo do ano de 2023:\", total_precipitacao, \"mm\")\n",
    "\n",
    "mes_maior_precipitacao = np.argmax(precipitacao_2023) + 1  \n",
    "print(\"Mês com maior precipitação:\", mes_maior_precipitacao)\n",
    "\n",
    "media_chuvas_por_mes = np.mean(precipitacao_2023)\n",
    "print(\"Média de chuvas por mês:\", media_chuvas_por_mes, \"mm\")\n",
    "\n",
    "meses_acima_150mm = np.where(precipitacao_2023 > 150)[0] + 1  \n",
    "print(\"Meses em que a precipitação foi superior a 150 mm:\", meses_acima_150mm)\n",
    "\n",
    "meses_abaixo_100mm = np.sum(precipitacao_2023 < 100)\n",
    "print(\"Quantidade de meses em que a precipitação foi inferior a 100 mm:\", meses_abaixo_100mm)\n"
   ]
  }
 ],
 "metadata": {
  "kernelspec": {
   "display_name": "Python 3",
   "language": "python",
   "name": "python3"
  },
  "language_info": {
   "codemirror_mode": {
    "name": "ipython",
    "version": 3
   },
   "file_extension": ".py",
   "mimetype": "text/x-python",
   "name": "python",
   "nbconvert_exporter": "python",
   "pygments_lexer": "ipython3",
   "version": "3.12.2"
  },
  "orig_nbformat": 4
 },
 "nbformat": 4,
 "nbformat_minor": 2
}
