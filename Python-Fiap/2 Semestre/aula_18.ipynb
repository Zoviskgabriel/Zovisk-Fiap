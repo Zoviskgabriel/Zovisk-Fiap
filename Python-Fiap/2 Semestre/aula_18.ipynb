{
 "cells": [
  {
   "cell_type": "code",
   "execution_count": null,
   "metadata": {},
   "outputs": [],
   "source": [
    "# Exemplo 1: Crie uma tupla com 6 cidades do brasil. Acesso o 4 elemento desta\n",
    "# tupla e substitua uma cidade da sua escolha por outra cidade que nao esta na \n",
    "# lista. Apos isso, crie uma nova variavel chamda cidades_brasil e concatene \n",
    "# mais duas cidades (Rio de Janeiro e São Paulo)em apenas uma tupla. \n",
    "\n",
    "\n",
    "# tupla 1 = ceara, amazonas, sergipe, rio grande do sul, amapá, mato grosso do sul.\n",
    "\n",
    "\n",
    "# tupla_final = ceara, amazonas, sergipe, rio grande do sul, _____, \n",
    "# mato grosso do sul, Rio de janeiro, São Paulo\n",
    "\n",
    "\n",
    "\n",
    "\n",
    "\n",
    "\n",
    "\n",
    "# Exemplo 2 - Crie uma função para calcular a função 10x2 + 5x - 2.\n",
    "# Crie uma estrutura de entrada para o usuario inserir o valor x. \n",
    "\n",
    "\n",
    "\n",
    "\n",
    "\n",
    "\n",
    "# Exemplo 3 - Crie uma função na qual retorne o calculo de tres equacão do \n",
    "# segundo grau (10x2 + 5x -2) com input do x pelo usuario.A terceira equacao \n",
    "# (y**3 + 10*y**2 -5*y +10). Crie tres prints para retornar o calculo das tres \n",
    "# equações.\n",
    "\n",
    "\n",
    "\n",
    "\n"
   ]
  }
 ],
 "metadata": {
  "language_info": {
   "name": "python"
  },
  "orig_nbformat": 4
 },
 "nbformat": 4,
 "nbformat_minor": 2
}
