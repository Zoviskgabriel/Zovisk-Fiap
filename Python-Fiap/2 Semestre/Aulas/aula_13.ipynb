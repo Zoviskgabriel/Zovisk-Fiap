{
 "cells": [
  {
   "cell_type": "code",
   "execution_count": null,
   "metadata": {},
   "outputs": [],
   "source": [
    "v = float(input('Coloque a tensao: '))\n",
    "i = float(input('Coloque a corrente: '))\n",
    "\n",
    "p = v*i\n",
    "\n",
    "p"
   ]
  },
  {
   "cell_type": "code",
   "execution_count": null,
   "metadata": {},
   "outputs": [],
   "source": [
    "def calcular_potencia (tensao, corrente):\n",
    "    potencia = tensao * corrente\n",
    "    return potencia\n",
    "\n",
    "tensao = 127\n",
    "corrente = 1\n",
    "\n",
    "resultado = calcular_potencia (tensao, corrente)\n",
    "\n",
    "resultado"
   ]
  },
  {
   "cell_type": "code",
   "execution_count": null,
   "metadata": {},
   "outputs": [],
   "source": [
    "pip install pandas"
   ]
  },
  {
   "cell_type": "code",
   "execution_count": null,
   "metadata": {},
   "outputs": [],
   "source": [
    "import pandas as pd"
   ]
  },
  {
   "cell_type": "code",
   "execution_count": 19,
   "metadata": {},
   "outputs": [],
   "source": [
    "dados = {\n",
    "    'Tipo de Carro':['Sedan', 'SUV', 'Hatchback', 'Caminhonete', 'Coupé'],\n",
    "    'Tipo de Direção': ['Hidráulica', 'Elétrica', 'Mecânica', 'Elétrica', 'Hidráulica'],\n",
    "    'Tipo de Pneus': ['Radial', 'Diagonal', 'Radial', 'Diagonal', 'Radial'],\n",
    "    'Faixa de Preço': ['Alto', 'Médio', 'Baixo', 'Alto', 'Médio'],\n",
    "    'Potência-CV': [120,130,100,180,200],\n",
    "    'VelocidadedeCruzeiro': [True, False, True, True, False]\n",
    "    }\n",
    "\n",
    "df_carros=pd.DataFrame(dados)"
   ]
  },
  {
   "cell_type": "code",
   "execution_count": 14,
   "metadata": {},
   "outputs": [],
   "source": [
    "dados = {\n",
    "    'Tipo de Carro':['Sedan', 'SUV', 'Hatchback', 'Caminhonete', 'Coupé'],\n",
    "    'Tipo de Direção': ['Hidráulica', 'Elétrica', 'Mecânica', 'Elétrica', 'Hidráulica']\n",
    "}\n",
    "\n",
    "df_carros=pd.DataFrame(dados)\n"
   ]
  },
  {
   "cell_type": "code",
   "execution_count": 15,
   "metadata": {},
   "outputs": [
    {
     "data": {
      "text/html": [
       "<div>\n",
       "<style scoped>\n",
       "    .dataframe tbody tr th:only-of-type {\n",
       "        vertical-align: middle;\n",
       "    }\n",
       "\n",
       "    .dataframe tbody tr th {\n",
       "        vertical-align: top;\n",
       "    }\n",
       "\n",
       "    .dataframe thead th {\n",
       "        text-align: right;\n",
       "    }\n",
       "</style>\n",
       "<table border=\"1\" class=\"dataframe\">\n",
       "  <thead>\n",
       "    <tr style=\"text-align: right;\">\n",
       "      <th></th>\n",
       "      <th>Tipo de Carro</th>\n",
       "      <th>Tipo de Direção</th>\n",
       "    </tr>\n",
       "  </thead>\n",
       "  <tbody>\n",
       "    <tr>\n",
       "      <th>0</th>\n",
       "      <td>Sedan</td>\n",
       "      <td>Hidráulica</td>\n",
       "    </tr>\n",
       "    <tr>\n",
       "      <th>1</th>\n",
       "      <td>SUV</td>\n",
       "      <td>Elétrica</td>\n",
       "    </tr>\n",
       "    <tr>\n",
       "      <th>2</th>\n",
       "      <td>Hatchback</td>\n",
       "      <td>Mecânica</td>\n",
       "    </tr>\n",
       "    <tr>\n",
       "      <th>3</th>\n",
       "      <td>Caminhonete</td>\n",
       "      <td>Elétrica</td>\n",
       "    </tr>\n",
       "    <tr>\n",
       "      <th>4</th>\n",
       "      <td>Coupé</td>\n",
       "      <td>Hidráulica</td>\n",
       "    </tr>\n",
       "  </tbody>\n",
       "</table>\n",
       "</div>"
      ],
      "text/plain": [
       "  Tipo de Carro Tipo de Direção\n",
       "0         Sedan      Hidráulica\n",
       "1           SUV        Elétrica\n",
       "2     Hatchback        Mecânica\n",
       "3   Caminhonete        Elétrica\n",
       "4         Coupé      Hidráulica"
      ]
     },
     "execution_count": 15,
     "metadata": {},
     "output_type": "execute_result"
    }
   ],
   "source": [
    "df_carros"
   ]
  },
  {
   "cell_type": "code",
   "execution_count": 17,
   "metadata": {},
   "outputs": [
    {
     "name": "stdout",
     "output_type": "stream",
     "text": [
      "<class 'pandas.core.frame.DataFrame'>\n",
      "RangeIndex: 5 entries, 0 to 4\n",
      "Data columns (total 2 columns):\n",
      " #   Column           Non-Null Count  Dtype \n",
      "---  ------           --------------  ----- \n",
      " 0   Tipo de Carro    5 non-null      object\n",
      " 1   Tipo de Direção  5 non-null      object\n",
      "dtypes: object(2)\n",
      "memory usage: 212.0+ bytes\n"
     ]
    }
   ],
   "source": [
    "df_carros.info()"
   ]
  },
  {
   "cell_type": "code",
   "execution_count": null,
   "metadata": {},
   "outputs": [],
   "source": [
    "\n",
    "df_carros['Potência-CV'].max()\n",
    "df_carros['Potência-CV'].mean()\n",
    "df_carros['Potência-CV'].median()\n"
   ]
  },
  {
   "cell_type": "code",
   "execution_count": 20,
   "metadata": {},
   "outputs": [
    {
     "name": "stdout",
     "output_type": "stream",
     "text": [
      "O valor mínimo é: 100\n",
      "O valor máximo é: 200\n",
      "O valor média é: 146.0\n",
      "O valor mediana é: 130.0\n"
     ]
    }
   ],
   "source": [
    "print('O valor mínimo é:',df_carros['Potência-CV'].min())\n",
    "print('O valor máximo é:',df_carros['Potência-CV'].max())\n",
    "print('O valor média é:',df_carros['Potência-CV'].mean())\n",
    "print('O valor mediana é:',df_carros['Potência-CV'].median())"
   ]
  },
  {
   "cell_type": "code",
   "execution_count": 22,
   "metadata": {},
   "outputs": [
    {
     "data": {
      "text/html": [
       "<div>\n",
       "<style scoped>\n",
       "    .dataframe tbody tr th:only-of-type {\n",
       "        vertical-align: middle;\n",
       "    }\n",
       "\n",
       "    .dataframe tbody tr th {\n",
       "        vertical-align: top;\n",
       "    }\n",
       "\n",
       "    .dataframe thead th {\n",
       "        text-align: right;\n",
       "    }\n",
       "</style>\n",
       "<table border=\"1\" class=\"dataframe\">\n",
       "  <thead>\n",
       "    <tr style=\"text-align: right;\">\n",
       "      <th></th>\n",
       "      <th>Tipo de Carro</th>\n",
       "      <th>Tipo de Direção</th>\n",
       "      <th>Tipo de Pneus</th>\n",
       "      <th>Faixa de Preço</th>\n",
       "      <th>Potência-CV</th>\n",
       "      <th>VelocidadedeCruzeiro</th>\n",
       "    </tr>\n",
       "  </thead>\n",
       "  <tbody>\n",
       "    <tr>\n",
       "      <th>0</th>\n",
       "      <td>Sedan</td>\n",
       "      <td>Hidráulica</td>\n",
       "      <td>Radial</td>\n",
       "      <td>Alto</td>\n",
       "      <td>120</td>\n",
       "      <td>True</td>\n",
       "    </tr>\n",
       "  </tbody>\n",
       "</table>\n",
       "</div>"
      ],
      "text/plain": [
       "  Tipo de Carro Tipo de Direção Tipo de Pneus Faixa de Preço  Potência-CV  \\\n",
       "0         Sedan      Hidráulica        Radial           Alto          120   \n",
       "\n",
       "   VelocidadedeCruzeiro  \n",
       "0                  True  "
      ]
     },
     "execution_count": 22,
     "metadata": {},
     "output_type": "execute_result"
    }
   ],
   "source": [
    "\n",
    "def filtra_por_valor(df_carros, coluna, valor):\n",
    "    return df_carros[df_carros[coluna]==valor]\n",
    "\n",
    "filtra_por_valor(df_carros, 'Tipo de Carro', 'Sedan')"
   ]
  },
  {
   "cell_type": "code",
   "execution_count": 25,
   "metadata": {},
   "outputs": [
    {
     "name": "stdout",
     "output_type": "stream",
     "text": [
      "Dados para Sedan:\n",
      "  Tipo de Carro Tipo de Direção Tipo de Pneus Faixa de Preço  Potência-CV  \\\n",
      "0         Sedan      Hidráulica        Radial           Alto          120   \n",
      "\n",
      "   VelocidadedeCruzeiro  \n",
      "0                  True  \n",
      "\n",
      "Dados para SUV:\n",
      "  Tipo de Carro Tipo de Direção Tipo de Pneus Faixa de Preço  Potência-CV  \\\n",
      "1           SUV        Elétrica      Diagonal          Médio          130   \n",
      "\n",
      "   VelocidadedeCruzeiro  \n",
      "1                 False  \n",
      "\n"
     ]
    }
   ],
   "source": [
    "carros_desejados = ['Sedan', 'SUV']\n",
    "for carro in carros_desejados:\n",
    "    dados = df_carros.loc[df_carros['Tipo de Carro'] == carro]\n",
    "    print(f'Dados para {carro}:\\n{dados}\\n')"
   ]
  }
 ],
 "metadata": {
  "kernelspec": {
   "display_name": "Python 3",
   "language": "python",
   "name": "python3"
  },
  "language_info": {
   "codemirror_mode": {
    "name": "ipython",
    "version": 3
   },
   "file_extension": ".py",
   "mimetype": "text/x-python",
   "name": "python",
   "nbconvert_exporter": "python",
   "pygments_lexer": "ipython3",
   "version": "3.11.4"
  },
  "orig_nbformat": 4
 },
 "nbformat": 4,
 "nbformat_minor": 2
}
