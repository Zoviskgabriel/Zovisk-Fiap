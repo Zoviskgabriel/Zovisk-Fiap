{
 "cells": [
  {
   "attachments": {},
   "cell_type": "markdown",
   "metadata": {},
   "source": [
    "# Revisão"
   ]
  },
  {
   "cell_type": "code",
   "execution_count": null,
   "metadata": {},
   "outputs": [],
   "source": [
    "# Estrutura\n",
    "\n",
    "def funcao(parametro1, parametro2):\n",
    "    total=parametro1*parametro2\n",
    "    return total"
   ]
  },
  {
   "cell_type": "code",
   "execution_count": 8,
   "metadata": {},
   "outputs": [
    {
     "name": "stdout",
     "output_type": "stream",
     "text": [
      "A média dos números é: 30.0\n"
     ]
    }
   ],
   "source": [
    "# Exercício 1 - Calcule a média de uma lista de números.\n",
    "\n",
    "def calcular_media(lista):\n",
    "    return sum(lista)/len(lista)\n",
    "\n",
    "numeros=[10,20,30,40,50]\n",
    "media=calcular_media(numeros)\n",
    "print(\"A média dos números é:\", media)"
   ]
  },
  {
   "cell_type": "code",
   "execution_count": 7,
   "metadata": {},
   "outputs": [
    {
     "name": "stdout",
     "output_type": "stream",
     "text": [
      "Valor máximo dos números é: 50\n"
     ]
    }
   ],
   "source": [
    "# Exercício 2 - Encontre o maior valor em uma lista de números.\n",
    "\n",
    "def valor_max(lista):\n",
    "    return max(lista)\n",
    "\n",
    "numeros=[10,20,30,40,50]\n",
    "maximo=valor_max(numeros)\n",
    "print(\"Valor máximo dos números é:\", maximo)"
   ]
  },
  {
   "cell_type": "code",
   "execution_count": 6,
   "metadata": {},
   "outputs": [
    {
     "name": "stdout",
     "output_type": "stream",
     "text": [
      "Positivos: [10, 30, 40, 50, 7, 8]\n",
      "Negativos: [[-20, -3]]\n"
     ]
    }
   ],
   "source": [
    "# Exercício 3 - Verifique se todos os elementos de uma lista são positivos.\n",
    "\n",
    "def positivo_negativo(lista):\n",
    "    positivos=[num for num in lista if num > 0]\n",
    "    negativos=[[num for num in lista if num < 0]]\n",
    "    return positivos,negativos\n",
    "\n",
    "numeros=[10,-20,30,40,50,-3,7,8]\n",
    "positivos,negativos=positivo_negativo(numeros)\n",
    "print('Positivos:',positivos)\n",
    "print('Negativos:',negativos)\n"
   ]
  },
  {
   "cell_type": "code",
   "execution_count": 9,
   "metadata": {},
   "outputs": [
    {
     "name": "stdout",
     "output_type": "stream",
     "text": [
      "Soma: 150\n",
      "Média: 30.0\n"
     ]
    }
   ],
   "source": [
    "# Exercício 4 - Dada a lista [10,2,7,9,10,22,5], retorne a soma dos elementos e a média em variáveis separadas.\n",
    "\n",
    "lista=[10,2,7,9,10,22,5]\n",
    "\n",
    "def media_soma(lista):\n",
    "    soma=sum(lista)\n",
    "    media=soma/len(lista)\n",
    "    return soma,media\n",
    "\n",
    "soma,media=media_soma(numeros)\n",
    "print('Soma:',soma)\n",
    "print('Média:',media)"
   ]
  },
  {
   "cell_type": "code",
   "execution_count": 11,
   "metadata": {},
   "outputs": [
    {
     "name": "stdout",
     "output_type": "stream",
     "text": [
      "Mínimo: 10\n",
      "Máximo: 50\n"
     ]
    }
   ],
   "source": [
    "# Exercício 5 - Retornar o mix e o max da lista usando a função def. \n",
    "\n",
    "def min_max(lista):\n",
    "    minimo=min(lista)\n",
    "    maximo=max(lista)\n",
    "    return minimo,maximo\n",
    "\n",
    "lista=[10,2,7,9,10,22,5]\n",
    "\n",
    "minimo,maximo=min_max(numeros)\n",
    "print('Mínimo:',minimo)\n",
    "print('Máximo:',maximo)"
   ]
  },
  {
   "cell_type": "code",
   "execution_count": 5,
   "metadata": {},
   "outputs": [
    {
     "name": "stdout",
     "output_type": "stream",
     "text": [
      "Mínimo: 2\n",
      "Máximo: 22\n",
      "Soma: 65\n",
      "Média 9.285714285714286\n"
     ]
    }
   ],
   "source": [
    "# Exercício 5 - Para a mesma lista, retorne a min, max, soma e média da lista em uma única função.\n",
    "\n",
    "def min_max_soma_media(lista):\n",
    "    minimo=min(lista)\n",
    "    maximo=max(lista)\n",
    "    soma=sum(lista)\n",
    "    media=soma/len(lista)\n",
    "    return minimo,maximo,soma,media\n",
    "\n",
    "lista=[10,2,7,9,10,22,5]\n",
    "\n",
    "minimo,maximo,soma,media=min_max_soma_media(lista)\n",
    "print('Mínimo:',minimo)\n",
    "print('Máximo:',maximo)\n",
    "print('Soma:',soma)\n",
    "print('Média:',media)"
   ]
  },
  {
   "cell_type": "code",
   "execution_count": 14,
   "metadata": {},
   "outputs": [
    {
     "name": "stdout",
     "output_type": "stream",
     "text": [
      "Soma da lista: 843\n"
     ]
    }
   ],
   "source": [
    "# Exercício 6 - Calcule a soma dos quadrados de uma lista de números.\n",
    "\n",
    "# Jeito 1:\n",
    "\n",
    "def soma_quadrado(lista):\n",
    "    return sum(num**2 for num in lista)\n",
    "\n",
    "numeros=[10,2,7,9,10,22,5]\n",
    "resultado=soma_quadrado(numeros)\n",
    "print('Soma da lista:',resultado)"
   ]
  },
  {
   "cell_type": "code",
   "execution_count": 13,
   "metadata": {},
   "outputs": [
    {
     "name": "stdout",
     "output_type": "stream",
     "text": [
      "Soma da lista: 843\n"
     ]
    }
   ],
   "source": [
    "# Jeito 2\n",
    "\n",
    "def soma_quadrados(lista):\n",
    "    quadrados=[]\n",
    "    for n in lista:\n",
    "        quadrados.append(n**2)\n",
    "\n",
    "    soma=sum(quadrados)\n",
    "    print(\"Soma da lista:\",soma)\n",
    "\n",
    "numeros=[10,2,7,9,10,22,5]\n",
    "soma_quadrados(numeros)"
   ]
  },
  {
   "cell_type": "code",
   "execution_count": 15,
   "metadata": {},
   "outputs": [
    {
     "name": "stdout",
     "output_type": "stream",
     "text": [
      "O elemento 3 aparece 2 vezes na lista.\n"
     ]
    }
   ],
   "source": [
    "# Exercício 7 - Conte quantas vezes um determinado elemento aparece em uma lista.\n",
    "\n",
    "def contar_elementos(lista,elemento):\n",
    "    return lista.count(elemento)\n",
    "\n",
    "numeros=[1,2,3,4,5,1,2,3]\n",
    "elemento=3\n",
    "ocorrencias=contar_elementos(numeros,elemento)\n",
    "print('O elemento',elemento,'aparece',ocorrencias,'vezes na lista.')"
   ]
  },
  {
   "cell_type": "code",
   "execution_count": 17,
   "metadata": {},
   "outputs": [
    {
     "name": "stdout",
     "output_type": "stream",
     "text": [
      "Lista invertida [5, 4, 3, 2, 1]\n"
     ]
    }
   ],
   "source": [
    "# Exercício 8 - Inverta uma lista.\n",
    "\n",
    "def inverter_lista(lista):\n",
    "    return lista[::-1]\n",
    "\n",
    "numeros=[1,2,3,4,5]\n",
    "lista_invertida=inverter_lista(numeros)\n",
    "print('Lista invertida',lista_invertida)"
   ]
  },
  {
   "cell_type": "code",
   "execution_count": 18,
   "metadata": {},
   "outputs": [
    {
     "name": "stdout",
     "output_type": "stream",
     "text": [
      "A lista está ordenada de forma crescente? True\n"
     ]
    }
   ],
   "source": [
    "# Exercício 9 - Verifique se uma lista está ordenada de forma crescente.\n",
    "\n",
    "def esta_ordenada_crescente(lista):\n",
    "    return lista==sorted(lista)\n",
    "\n",
    "numeros=[1,2,3,4,5]\n",
    "esta_ordenada=esta_ordenada_crescente(numeros)\n",
    "print('A lista está ordenada de forma crescente?', esta_ordenada)"
   ]
  },
  {
   "cell_type": "code",
   "execution_count": 19,
   "metadata": {},
   "outputs": [
    {
     "name": "stdout",
     "output_type": "stream",
     "text": [
      "Lista sem elementos duplicados: [1, 2, 3, 4, 5]\n"
     ]
    }
   ],
   "source": [
    "# Exercício 10 - Remova os elementos duplicados de uma lista.\n",
    "\n",
    "def remover_duplicados(lista):\n",
    "    return list(set(lista))\n",
    "\n",
    "numeros=[1,2,3,4,5,1,2,3]\n",
    "sem_duplicados=remover_duplicados(numeros)\n",
    "print('Lista sem elementos duplicados:',sem_duplicados)"
   ]
  },
  {
   "attachments": {},
   "cell_type": "markdown",
   "metadata": {},
   "source": [
    "## Setup"
   ]
  },
  {
   "cell_type": "code",
   "execution_count": null,
   "metadata": {},
   "outputs": [],
   "source": [
    "pip install pandas"
   ]
  },
  {
   "cell_type": "code",
   "execution_count": 23,
   "metadata": {},
   "outputs": [],
   "source": [
    "import pandas as pd"
   ]
  },
  {
   "cell_type": "code",
   "execution_count": null,
   "metadata": {},
   "outputs": [],
   "source": [
    "pip install matplotlib"
   ]
  },
  {
   "cell_type": "code",
   "execution_count": 25,
   "metadata": {},
   "outputs": [],
   "source": [
    "import matplotlib.pyplot as plt"
   ]
  },
  {
   "cell_type": "code",
   "execution_count": null,
   "metadata": {},
   "outputs": [],
   "source": [
    "pip install numpy"
   ]
  },
  {
   "cell_type": "code",
   "execution_count": 28,
   "metadata": {},
   "outputs": [],
   "source": [
    "import numpy as np"
   ]
  },
  {
   "attachments": {},
   "cell_type": "markdown",
   "metadata": {},
   "source": [
    "# Estrutura Bidimensional"
   ]
  },
  {
   "cell_type": "code",
   "execution_count": 3,
   "metadata": {},
   "outputs": [],
   "source": [
    "dados=pd.read_csv('./manutencao_preditiva.csv')"
   ]
  },
  {
   "cell_type": "code",
   "execution_count": 4,
   "metadata": {},
   "outputs": [
    {
     "data": {
      "text/html": [
       "<div>\n",
       "<style scoped>\n",
       "    .dataframe tbody tr th:only-of-type {\n",
       "        vertical-align: middle;\n",
       "    }\n",
       "\n",
       "    .dataframe tbody tr th {\n",
       "        vertical-align: top;\n",
       "    }\n",
       "\n",
       "    .dataframe thead th {\n",
       "        text-align: right;\n",
       "    }\n",
       "</style>\n",
       "<table border=\"1\" class=\"dataframe\">\n",
       "  <thead>\n",
       "    <tr style=\"text-align: right;\">\n",
       "      <th></th>\n",
       "      <th>UDI</th>\n",
       "      <th>ID Produto</th>\n",
       "      <th>Tipo</th>\n",
       "      <th>Temperatura Ar [K]</th>\n",
       "      <th>Temperatura Processo [K]</th>\n",
       "      <th>Velocidade Rotacao [rpm]</th>\n",
       "      <th>Torque [Nm]</th>\n",
       "      <th>Desgaste Ferramenta [min]</th>\n",
       "      <th>Alvo</th>\n",
       "      <th>Tipo da Falha</th>\n",
       "    </tr>\n",
       "  </thead>\n",
       "  <tbody>\n",
       "    <tr>\n",
       "      <th>0</th>\n",
       "      <td>1</td>\n",
       "      <td>M14860</td>\n",
       "      <td>M</td>\n",
       "      <td>298.1</td>\n",
       "      <td>308.6</td>\n",
       "      <td>1551</td>\n",
       "      <td>42.8</td>\n",
       "      <td>0</td>\n",
       "      <td>0</td>\n",
       "      <td>No Failure</td>\n",
       "    </tr>\n",
       "    <tr>\n",
       "      <th>1</th>\n",
       "      <td>2</td>\n",
       "      <td>L47181</td>\n",
       "      <td>L</td>\n",
       "      <td>298.2</td>\n",
       "      <td>308.7</td>\n",
       "      <td>1408</td>\n",
       "      <td>46.3</td>\n",
       "      <td>3</td>\n",
       "      <td>0</td>\n",
       "      <td>No Failure</td>\n",
       "    </tr>\n",
       "    <tr>\n",
       "      <th>2</th>\n",
       "      <td>3</td>\n",
       "      <td>L47182</td>\n",
       "      <td>L</td>\n",
       "      <td>298.1</td>\n",
       "      <td>308.5</td>\n",
       "      <td>1498</td>\n",
       "      <td>49.4</td>\n",
       "      <td>5</td>\n",
       "      <td>0</td>\n",
       "      <td>No Failure</td>\n",
       "    </tr>\n",
       "    <tr>\n",
       "      <th>3</th>\n",
       "      <td>4</td>\n",
       "      <td>L47183</td>\n",
       "      <td>L</td>\n",
       "      <td>298.2</td>\n",
       "      <td>308.6</td>\n",
       "      <td>1433</td>\n",
       "      <td>39.5</td>\n",
       "      <td>7</td>\n",
       "      <td>0</td>\n",
       "      <td>No Failure</td>\n",
       "    </tr>\n",
       "    <tr>\n",
       "      <th>4</th>\n",
       "      <td>5</td>\n",
       "      <td>L47184</td>\n",
       "      <td>L</td>\n",
       "      <td>298.2</td>\n",
       "      <td>308.7</td>\n",
       "      <td>1408</td>\n",
       "      <td>40.0</td>\n",
       "      <td>9</td>\n",
       "      <td>0</td>\n",
       "      <td>No Failure</td>\n",
       "    </tr>\n",
       "    <tr>\n",
       "      <th>...</th>\n",
       "      <td>...</td>\n",
       "      <td>...</td>\n",
       "      <td>...</td>\n",
       "      <td>...</td>\n",
       "      <td>...</td>\n",
       "      <td>...</td>\n",
       "      <td>...</td>\n",
       "      <td>...</td>\n",
       "      <td>...</td>\n",
       "      <td>...</td>\n",
       "    </tr>\n",
       "    <tr>\n",
       "      <th>9995</th>\n",
       "      <td>9996</td>\n",
       "      <td>M24855</td>\n",
       "      <td>M</td>\n",
       "      <td>298.8</td>\n",
       "      <td>308.4</td>\n",
       "      <td>1604</td>\n",
       "      <td>29.5</td>\n",
       "      <td>14</td>\n",
       "      <td>0</td>\n",
       "      <td>No Failure</td>\n",
       "    </tr>\n",
       "    <tr>\n",
       "      <th>9996</th>\n",
       "      <td>9997</td>\n",
       "      <td>H39410</td>\n",
       "      <td>H</td>\n",
       "      <td>298.9</td>\n",
       "      <td>308.4</td>\n",
       "      <td>1632</td>\n",
       "      <td>31.8</td>\n",
       "      <td>17</td>\n",
       "      <td>0</td>\n",
       "      <td>No Failure</td>\n",
       "    </tr>\n",
       "    <tr>\n",
       "      <th>9997</th>\n",
       "      <td>9998</td>\n",
       "      <td>M24857</td>\n",
       "      <td>M</td>\n",
       "      <td>299.0</td>\n",
       "      <td>308.6</td>\n",
       "      <td>1645</td>\n",
       "      <td>33.4</td>\n",
       "      <td>22</td>\n",
       "      <td>0</td>\n",
       "      <td>No Failure</td>\n",
       "    </tr>\n",
       "    <tr>\n",
       "      <th>9998</th>\n",
       "      <td>9999</td>\n",
       "      <td>H39412</td>\n",
       "      <td>H</td>\n",
       "      <td>299.0</td>\n",
       "      <td>308.7</td>\n",
       "      <td>1408</td>\n",
       "      <td>48.5</td>\n",
       "      <td>25</td>\n",
       "      <td>0</td>\n",
       "      <td>No Failure</td>\n",
       "    </tr>\n",
       "    <tr>\n",
       "      <th>9999</th>\n",
       "      <td>10000</td>\n",
       "      <td>M24859</td>\n",
       "      <td>M</td>\n",
       "      <td>299.0</td>\n",
       "      <td>308.7</td>\n",
       "      <td>1500</td>\n",
       "      <td>40.2</td>\n",
       "      <td>30</td>\n",
       "      <td>0</td>\n",
       "      <td>No Failure</td>\n",
       "    </tr>\n",
       "  </tbody>\n",
       "</table>\n",
       "<p>10000 rows × 10 columns</p>\n",
       "</div>"
      ],
      "text/plain": [
       "        UDI ID Produto Tipo  Temperatura Ar [K]  Temperatura Processo [K]  \\\n",
       "0         1     M14860    M               298.1                     308.6   \n",
       "1         2     L47181    L               298.2                     308.7   \n",
       "2         3     L47182    L               298.1                     308.5   \n",
       "3         4     L47183    L               298.2                     308.6   \n",
       "4         5     L47184    L               298.2                     308.7   \n",
       "...     ...        ...  ...                 ...                       ...   \n",
       "9995   9996     M24855    M               298.8                     308.4   \n",
       "9996   9997     H39410    H               298.9                     308.4   \n",
       "9997   9998     M24857    M               299.0                     308.6   \n",
       "9998   9999     H39412    H               299.0                     308.7   \n",
       "9999  10000     M24859    M               299.0                     308.7   \n",
       "\n",
       "      Velocidade Rotacao [rpm]  Torque [Nm]  Desgaste Ferramenta [min]  Alvo  \\\n",
       "0                         1551         42.8                          0     0   \n",
       "1                         1408         46.3                          3     0   \n",
       "2                         1498         49.4                          5     0   \n",
       "3                         1433         39.5                          7     0   \n",
       "4                         1408         40.0                          9     0   \n",
       "...                        ...          ...                        ...   ...   \n",
       "9995                      1604         29.5                         14     0   \n",
       "9996                      1632         31.8                         17     0   \n",
       "9997                      1645         33.4                         22     0   \n",
       "9998                      1408         48.5                         25     0   \n",
       "9999                      1500         40.2                         30     0   \n",
       "\n",
       "     Tipo da Falha  \n",
       "0       No Failure  \n",
       "1       No Failure  \n",
       "2       No Failure  \n",
       "3       No Failure  \n",
       "4       No Failure  \n",
       "...            ...  \n",
       "9995    No Failure  \n",
       "9996    No Failure  \n",
       "9997    No Failure  \n",
       "9998    No Failure  \n",
       "9999    No Failure  \n",
       "\n",
       "[10000 rows x 10 columns]"
      ]
     },
     "execution_count": 4,
     "metadata": {},
     "output_type": "execute_result"
    }
   ],
   "source": [
    "dados"
   ]
  },
  {
   "cell_type": "code",
   "execution_count": 15,
   "metadata": {},
   "outputs": [],
   "source": [
    "x=dados[['UDI']]\n",
    "y1=dados[['Temperatura Ar [K]']]\n",
    "y2=dados[['Temperatura Processo [K]']]"
   ]
  },
  {
   "cell_type": "code",
   "execution_count": 16,
   "metadata": {},
   "outputs": [
    {
     "data": {
      "image/png": "[encoded data removed]",
      "text/plain": [
       "<Figure size 640x480 with 1 Axes>"
      ]
     },
     "metadata": {},
     "output_type": "display_data"
    }
   ],
   "source": [
    "plt.plot(x,y1,x,y2)\n",
    "plt.show()"
   ]
  },
  {
   "cell_type": "code",
   "execution_count": 32,
   "metadata": {},
   "outputs": [],
   "source": [
    "dados_filtrado=dados.head(5)\n",
    "\n",
    "torque=dados[['Torque [Nm]']]\n",
    "rotacao=dados[['Velocidade Rotacao [rpm]']]\n",
    "\n",
    "dados_novos=dados_filtrado[['Torque [Nm]', 'Velocidade Rotacao [rpm]']].values"
   ]
  },
  {
   "cell_type": "code",
   "execution_count": 33,
   "metadata": {},
   "outputs": [
    {
     "data": {
      "text/plain": [
       "7516.0"
      ]
     },
     "execution_count": 33,
     "metadata": {},
     "output_type": "execute_result"
    }
   ],
   "source": [
    "soma=np.sum(dados_novos)\n",
    "soma"
   ]
  },
  {
   "cell_type": "code",
   "execution_count": 34,
   "metadata": {},
   "outputs": [
    {
     "name": "stdout",
     "output_type": "stream",
     "text": [
      "Valores mínimos em cada linha da matriz: [42.8 46.3 49.4 39.5 40. ]\n"
     ]
    }
   ],
   "source": [
    "valores_minimos_por_linha=np.min(dados_novos,axis=1)\n",
    "print('Valores mínimos em cada linha da matriz:', valores_minimos_por_linha)"
   ]
  },
  {
   "cell_type": "code",
   "execution_count": 35,
   "metadata": {},
   "outputs": [
    {
     "name": "stdout",
     "output_type": "stream",
     "text": [
      "Média de cada coluna da matriz [  43.6 1459.6]\n"
     ]
    }
   ],
   "source": [
    "medias_por_coluna=np.mean(dados_novos,axis=0)\n",
    "print('Média de cada coluna da matriz', medias_por_coluna)"
   ]
  },
  {
   "cell_type": "code",
   "execution_count": 36,
   "metadata": {},
   "outputs": [
    {
     "data": {
      "text/plain": [
       "array([[  42.8,   46.3,   49.4,   39.5,   40. ],\n",
       "       [1551. , 1408. , 1498. , 1433. , 1408. ]])"
      ]
     },
     "execution_count": 36,
     "metadata": {},
     "output_type": "execute_result"
    }
   ],
   "source": [
    "matriz_transposta=np.transpose(dados_novos)\n",
    "matriz_transposta"
   ]
  },
  {
   "attachments": {},
   "cell_type": "markdown",
   "metadata": {},
   "source": [
    "## Exercícios"
   ]
  },
  {
   "cell_type": "code",
   "execution_count": 60,
   "metadata": {},
   "outputs": [
    {
     "name": "stdout",
     "output_type": "stream",
     "text": [
      "      Temperatura Ar [K]  Torque [Nm]\n",
      "0                  298.1         42.8\n",
      "1                  298.2         46.3\n",
      "2                  298.1         49.4\n",
      "3                  298.2         39.5\n",
      "4                  298.2         40.0\n",
      "...                  ...          ...\n",
      "9995               298.8         29.5\n",
      "9996               298.9         31.8\n",
      "9997               299.0         33.4\n",
      "9998               299.0         48.5\n",
      "9999               299.0         40.2\n",
      "\n",
      "[10000 rows x 2 columns]\n",
      "      Temperatura Processo [K]  Velocidade Rotacao [rpm]\n",
      "0                        308.6                      1551\n",
      "1                        308.7                      1408\n",
      "2                        308.5                      1498\n",
      "3                        308.6                      1433\n",
      "4                        308.7                      1408\n",
      "...                        ...                       ...\n",
      "9995                     308.4                      1604\n",
      "9996                     308.4                      1632\n",
      "9997                     308.6                      1645\n",
      "9998                     308.7                      1408\n",
      "9999                     308.7                      1500\n",
      "\n",
      "[10000 rows x 2 columns]\n"
     ]
    }
   ],
   "source": [
    "'''\n",
    "1. Selecione dois pequenos dataframes: o primeiro contendo as variáveis temperatura do ar e torque, o segundo contendo as\n",
    "variáveis temperatura do processo e velocidade de rotação.\n",
    "'''\n",
    "\n",
    "df1=dados[['Temperatura Ar [K]','Torque [Nm]']]\n",
    "df2=dados[['Temperatura Processo [K]','Velocidade Rotacao [rpm]']]\n",
    "\n",
    "print(df1)\n",
    "print(df2)"
   ]
  },
  {
   "cell_type": "code",
   "execution_count": 70,
   "metadata": {},
   "outputs": [
    {
     "name": "stdout",
     "output_type": "stream",
     "text": [
      "Dados 1:    Temperatura Ar [K]  Torque [Nm]\n",
      "0               298.1         42.8\n",
      "1               298.2         46.3\n",
      "2               298.1         49.4\n",
      "3               298.2         39.5\n",
      "4               298.2         40.0\n",
      "5               298.1         41.9\n",
      "6               298.1         42.4\n",
      "7               298.1         40.2\n",
      "8               298.3         28.6\n",
      "9               298.5         28.0\n",
      "Dados 2:     Temperatura Processo [K]  Velocidade Rotacao [rpm]\n",
      "15                     309.2                      1542\n",
      "16                     309.2                      1311\n",
      "17                     309.2                      1410\n",
      "18                     309.2                      1306\n",
      "19                     309.3                      1632\n",
      "20                     309.3                      1375\n",
      "21                     309.3                      1450\n",
      "22                     309.3                      1581\n",
      "23                     309.4                      1758\n",
      "24                     309.4                      1561\n"
     ]
    }
   ],
   "source": [
    "'''\n",
    "2. Crie uma estrutura biodimensional para os dois dataframes, o primeiro dataframe deve conter as 10 primeiras linhas, o \n",
    "segundo dataframe deve conter as linhas de 15 a 25.\n",
    "'''\n",
    "\n",
    "dados1=df1.head(10)\n",
    "dados2=df2.iloc[15:25]\n",
    "\n",
    "print('Dados 1:',dados1)\n",
    "print('Dados 2:',dados2)"
   ]
  },
  {
   "cell_type": "code",
   "execution_count": 74,
   "metadata": {},
   "outputs": [
    {
     "name": "stdout",
     "output_type": "stream",
     "text": [
      "Dados 1:    Temperatura Ar [K]  Torque [Nm]\n",
      "0               298.1         42.8\n",
      "1               298.2         46.3\n",
      "2               298.1         49.4\n",
      "3               298.2         39.5\n",
      "4               298.2         40.0\n",
      "5               298.1         41.9\n",
      "6               298.1         42.4\n",
      "7               298.1         40.2\n",
      "8               298.3         28.6\n",
      "9               298.5         28.0\n",
      "Dados 2:     Temperatura Processo [K]  Velocidade Rotacao [rpm]\n",
      "15                     309.2                      1542\n",
      "16                     309.2                      1311\n",
      "17                     309.2                      1410\n",
      "18                     309.2                      1306\n",
      "19                     309.3                      1632\n",
      "20                     309.3                      1375\n",
      "21                     309.3                      1450\n",
      "22                     309.3                      1581\n",
      "23                     309.4                      1758\n",
      "24                     309.4                      1561\n"
     ]
    }
   ],
   "source": [
    "'''\n",
    "3. Crie uma estrutura bidimensional para os dois dataframes e mostre a matriz.\n",
    "'''\n",
    "\n",
    "dadoss1=df1.head(10).values\n",
    "dadoss2=df2.iloc[15:25].values\n",
    "\n",
    "print('Dados 1:',dados1)\n",
    "print('Dados 2:',dados2)"
   ]
  },
  {
   "cell_type": "code",
   "execution_count": 68,
   "metadata": {},
   "outputs": [
    {
     "name": "stdout",
     "output_type": "stream",
     "text": [
      "Soma 1: 3381.0\n",
      "Soma 2: 18018.8\n"
     ]
    }
   ],
   "source": [
    "'''\n",
    "4. Calcule a soma dos elementos da matriz.\n",
    "'''\n",
    "\n",
    "soma_elementos1=np.sum(dados1)\n",
    "soma_elementos2=np.sum(dados2)\n",
    "\n",
    "print('Soma 1:',soma_elementos1)\n",
    "print('Soma 2:',soma_elementos2)"
   ]
  },
  {
   "cell_type": "code",
   "execution_count": 75,
   "metadata": {},
   "outputs": [
    {
     "name": "stdout",
     "output_type": "stream",
     "text": [
      "Mínimo e máximo - Dados 1: [42.8 46.3 49.4 39.5 40.  41.9 42.4 40.2 28.6 28. ] [298.1 298.2 298.1 298.2 298.2 298.1 298.1 298.1 298.3 298.5]\n",
      "Mínimo e máximo - Dados 2: [309.2 309.2 309.2 309.2 309.3 309.3 309.3 309.3 309.4 309.4] [1542. 1311. 1410. 1306. 1632. 1375. 1450. 1581. 1758. 1561.]\n"
     ]
    }
   ],
   "source": [
    "'''\n",
    "5. Encontre o valor mínimo e máximo em cada linha de uma matriz.\n",
    "'''\n",
    "min1=np.min(dadoss1,axis=1)\n",
    "max1=np.max(dadoss1,axis=1)\n",
    "\n",
    "min2=np.min(dadoss2,axis=1)\n",
    "max2=np.max(dadoss2,axis=1)\n",
    "\n",
    "print('Mínimo e máximo - Dados 1:',min1,max1)\n",
    "print('Mínimo e máximo - Dados 2:',min2,max2)"
   ]
  },
  {
   "cell_type": "code",
   "execution_count": 76,
   "metadata": {},
   "outputs": [
    {
     "name": "stdout",
     "output_type": "stream",
     "text": [
      "Média 1: [298.19  39.91]\n",
      "Média 2: [ 309.28 1492.6 ]\n"
     ]
    }
   ],
   "source": [
    "'''\n",
    "6. Calcule a média de cada coluna de uma matriz.\n",
    "'''\n",
    "\n",
    "media_1=np.mean(dadoss1,axis=0)\n",
    "media_2=np.mean(dadoss2,axis=0)\n",
    "\n",
    "print('Média 1:',media_1)\n",
    "print('Média 2:',media_2)"
   ]
  },
  {
   "cell_type": "code",
   "execution_count": 77,
   "metadata": {},
   "outputs": [
    {
     "name": "stdout",
     "output_type": "stream",
     "text": [
      "Transponha 1: [[298.1 298.2 298.1 298.2 298.2 298.1 298.1 298.1 298.3 298.5]\n",
      " [ 42.8  46.3  49.4  39.5  40.   41.9  42.4  40.2  28.6  28. ]]\n",
      "Transponha 2: [[ 309.2  309.2  309.2  309.2  309.3  309.3  309.3  309.3  309.4  309.4]\n",
      " [1542.  1311.  1410.  1306.  1632.  1375.  1450.  1581.  1758.  1561. ]]\n"
     ]
    }
   ],
   "source": [
    "'''\n",
    "7. Transponha a matriz.\n",
    "'''\n",
    "\n",
    "transponha_1=np.transpose(dadoss1)\n",
    "transponha_2=np.transpose(dadoss2)\n",
    "\n",
    "print('Transponha 1:',transponha_1)\n",
    "print('Transponha 2:',transponha_2)"
   ]
  },
  {
   "cell_type": "code",
   "execution_count": 79,
   "metadata": {},
   "outputs": [
    {
     "name": "stdout",
     "output_type": "stream",
     "text": [
      "Média 1: [298.19  39.91]\n",
      "Média 2: [ 309.28 1492.6 ]\n"
     ]
    }
   ],
   "source": [
    "'''\n",
    "8. Agora volte a calcular a média de cada coluna da matriz.\n",
    "'''\n",
    "\n",
    "nova_media_1=np.mean(transponha_1,axis=1)\n",
    "nova_media_2=np.mean(transponha_2,axis=1)\n",
    "\n",
    "print('Média 1:',nova_media_1)\n",
    "print('Média 2:',nova_media_2)\n"
   ]
  }
 ],
 "metadata": {
  "kernelspec": {
   "display_name": "Python 3",
   "language": "python",
   "name": "python3"
  },
  "language_info": {
   "codemirror_mode": {
    "name": "ipython",
    "version": 3
   },
   "file_extension": ".py",
   "mimetype": "text/x-python",
   "name": "python",
   "nbconvert_exporter": "python",
   "pygments_lexer": "ipython3",
   "version": "3.11.4"
  },
  "orig_nbformat": 4
 },
 "nbformat": 4,
 "nbformat_minor": 2
}
