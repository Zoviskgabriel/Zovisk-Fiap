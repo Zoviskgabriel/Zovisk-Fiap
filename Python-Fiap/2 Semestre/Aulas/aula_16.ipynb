{
 "cells": [
  {
   "attachments": {},
   "cell_type": "markdown",
   "metadata": {},
   "source": [
    "# Setup"
   ]
  },
  {
   "cell_type": "code",
   "execution_count": null,
   "metadata": {},
   "outputs": [],
   "source": [
    "pip install pandas"
   ]
  },
  {
   "cell_type": "code",
   "execution_count": 3,
   "metadata": {},
   "outputs": [],
   "source": [
    "import pandas as pd"
   ]
  },
  {
   "cell_type": "code",
   "execution_count": null,
   "metadata": {},
   "outputs": [],
   "source": [
    "pip install scikit-learn"
   ]
  },
  {
   "cell_type": "code",
   "execution_count": null,
   "metadata": {},
   "outputs": [],
   "source": [
    "pip install matplotlib"
   ]
  },
  {
   "cell_type": "code",
   "execution_count": null,
   "metadata": {},
   "outputs": [],
   "source": [
    "pip install numpy"
   ]
  },
  {
   "cell_type": "code",
   "execution_count": 7,
   "metadata": {},
   "outputs": [],
   "source": [
    "import numpy as np"
   ]
  },
  {
   "attachments": {},
   "cell_type": "markdown",
   "metadata": {},
   "source": [
    "# Exercício"
   ]
  },
  {
   "cell_type": "code",
   "execution_count": 7,
   "metadata": {},
   "outputs": [
    {
     "data": {
      "text/plain": [
       "array([ 1,  2,  3,  4,  5,  6,  7,  8,  9, 10])"
      ]
     },
     "execution_count": 7,
     "metadata": {},
     "output_type": "execute_result"
    }
   ],
   "source": [
    "# 1 - Exercicio de criação\n",
    "\n",
    "array1to10 = np.array([1,2,3,4,5,6,7,8,9,10])\n",
    "array1to10"
   ]
  },
  {
   "cell_type": "code",
   "execution_count": 10,
   "metadata": {},
   "outputs": [
    {
     "name": "stdout",
     "output_type": "stream",
     "text": [
      "O quarto elemento do array é: 4\n"
     ]
    }
   ],
   "source": [
    "# 2 - Exercicio de Acesso\n",
    "quarto_elemento = array1to10[3]\n",
    "print(\"O quarto elemento do array é:\",quarto_elemento)"
   ]
  },
  {
   "cell_type": "code",
   "execution_count": 29,
   "metadata": {},
   "outputs": [
    {
     "name": "stdout",
     "output_type": "stream",
     "text": [
      "A soma dos arrays é: [ 7  9 11 13 15]\n"
     ]
    }
   ],
   "source": [
    "# 3 - Exercício de soma\n",
    "\n",
    "array1to5 = np.array([1,2,3,4,5])\n",
    "array6to10 = np.array([6,7,8,9,10])\n",
    "soma_arrays = array1to5 + array6to10\n",
    "print(\"A soma dos arrays é:\", soma_arrays)"
   ]
  },
  {
   "cell_type": "code",
   "execution_count": 32,
   "metadata": {},
   "outputs": [
    {
     "name": "stdout",
     "output_type": "stream",
     "text": [
      "A soma dos arrays é: [11 11 11 11 11]\n"
     ]
    },
    {
     "data": {
      "text/plain": [
       "array([10,  9,  8,  7,  6])"
      ]
     },
     "execution_count": 32,
     "metadata": {},
     "output_type": "execute_result"
    }
   ],
   "source": [
    "array1to5 = np.array([1,2,3,4,5])\n",
    "array6to10 = np.array([6,7,8,9,10])\n",
    "soma_arrays = array1to5 + np.sort(array6to10)[::-1]\n",
    "print(\"A soma dos arrays é:\", soma_arrays)\n",
    "np.sort(array6to10)[::-1]"
   ]
  },
  {
   "cell_type": "code",
   "execution_count": 12,
   "metadata": {},
   "outputs": [
    {
     "name": "stdout",
     "output_type": "stream",
     "text": [
      "Valores maiores que 5: [ 6  7  8  9 10]\n"
     ]
    }
   ],
   "source": [
    "# 4 - Exercício de Filtragem\n",
    "array_maiores_que_5 = array1to10[array1to10>5]\n",
    "print(\"Valores maiores que 5:\",array_maiores_que_5)"
   ]
  },
  {
   "cell_type": "code",
   "execution_count": 17,
   "metadata": {},
   "outputs": [
    {
     "data": {
      "text/plain": [
       "array([ 1,  2,  3,  4,  5,  6,  7,  8,  9, 10])"
      ]
     },
     "execution_count": 17,
     "metadata": {},
     "output_type": "execute_result"
    }
   ],
   "source": [
    "array = np.array([1,2,3,4,5,6,7,8,9,10])\n",
    "array"
   ]
  },
  {
   "cell_type": "code",
   "execution_count": 19,
   "metadata": {},
   "outputs": [
    {
     "name": "stdout",
     "output_type": "stream",
     "text": [
      "Média: 5.5\n",
      "Desvio padrão 2.8722813232690143\n"
     ]
    }
   ],
   "source": [
    "# 5 - Exercício de Estatísticas\n",
    "print(\"Média:\",array.mean())\n",
    "print(\"Desvio padrão\",array.std())"
   ]
  },
  {
   "cell_type": "code",
   "execution_count": 20,
   "metadata": {},
   "outputs": [
    {
     "name": "stdout",
     "output_type": "stream",
     "text": [
      "Concatenação\n",
      "[ 1  2  3  4  5  6  7  8  9 10]\n"
     ]
    }
   ],
   "source": [
    "# 6 - Exercício de Concatenação\n",
    "arr_concat = np.concatenate([array1to5, array6to10])\n",
    "print(\"Concatenação\")\n",
    "print(arr_concat)"
   ]
  },
  {
   "cell_type": "code",
   "execution_count": 27,
   "metadata": {},
   "outputs": [
    {
     "name": "stdout",
     "output_type": "stream",
     "text": [
      "Resultado da Subtração: [-9 -7 -5 -3 -1  1  3  5  7  9]\n",
      "[ 1  2  3  4  5  6  7  8  9 10]\n",
      "[10  9  8  7  6  5  4  3  2  1]\n"
     ]
    }
   ],
   "source": [
    "# 7 - Exercício de Subtração\n",
    "arr1 = np.arange(1,11)\n",
    "arr2 = np.arange(10,0,-1)\n",
    "\n",
    "resultado = arr1 - arr2\n",
    "print(\"Resultado da Subtração:\", resultado)\n",
    "print(arr1)\n",
    "print(arr2)"
   ]
  },
  {
   "cell_type": "code",
   "execution_count": 34,
   "metadata": {},
   "outputs": [
    {
     "data": {
      "text/plain": [
       "array([10,  9,  8,  7,  6,  5,  4,  3,  2,  1])"
      ]
     },
     "execution_count": 34,
     "metadata": {},
     "output_type": "execute_result"
    }
   ],
   "source": [
    "# 8 - Exercício de Ordenação\n",
    "arr1 = np.arange(1,11)\n",
    "arr_ordenado = np.sort(arr1)[::-1]\n",
    "arr_ordenado"
   ]
  },
  {
   "cell_type": "code",
   "execution_count": 35,
   "metadata": {},
   "outputs": [
    {
     "name": "stdout",
     "output_type": "stream",
     "text": [
      "Valores Duplicados: True\n"
     ]
    }
   ],
   "source": [
    "# 9 - Exercício de Verificação de Valores Únicos\n",
    "arr = np.array([0, 4, 2, 6, 5, 9, 6])\n",
    "print(\"Valores Duplicados:\", np.unique(arr).size != arr.size)"
   ]
  },
  {
   "cell_type": "code",
   "execution_count": 38,
   "metadata": {},
   "outputs": [
    {
     "name": "stdout",
     "output_type": "stream",
     "text": [
      "Slicing do terceiro ao sétimo elemento:\n",
      "[3 4 5 6 7]\n"
     ]
    }
   ],
   "source": [
    "# 10 - Exercício de Slicing\n",
    "arr1 = np.arange(1,11)\n",
    "print(\"Slicing do terceiro ao sétimo elemento:\")\n",
    "print(arr1[2:7])"
   ]
  },
  {
   "attachments": {},
   "cell_type": "markdown",
   "metadata": {},
   "source": [
    "# Aula 16"
   ]
  },
  {
   "cell_type": "code",
   "execution_count": 41,
   "metadata": {},
   "outputs": [
    {
     "name": "stdout",
     "output_type": "stream",
     "text": [
      "90\n",
      "85\n",
      "88\n"
     ]
    }
   ],
   "source": [
    "notas = {'João': 85, 'Maria': 90, 'Pedro': 88}\n",
    "print(notas['Maria'])\n",
    "print(notas['João'])\n",
    "print(notas['Pedro'])"
   ]
  },
  {
   "cell_type": "code",
   "execution_count": 48,
   "metadata": {},
   "outputs": [
    {
     "data": {
      "text/plain": [
       "{'João': {'matemática': 90, 'português': 85, 'ciências': 88},\n",
       " 'Maria': {'matemática': 95, 'português': 92, 'ciências': 89},\n",
       " 'Pedro': {'matemática': 80, 'português': 75, 'ciências': 82}}"
      ]
     },
     "execution_count": 48,
     "metadata": {},
     "output_type": "execute_result"
    }
   ],
   "source": [
    "notas_alunos = {\n",
    "    'João': {'matemática': 90, 'português': 85,'ciências': 88}, \n",
    "    'Maria': {'matemática': 95, 'português': 92,'ciências': 89}, \n",
    "    'Pedro': {'matemática': 80, 'português': 75,'ciências': 82}\n",
    "    }\n",
    "notas_alunos"
   ]
  },
  {
   "cell_type": "code",
   "execution_count": 49,
   "metadata": {},
   "outputs": [
    {
     "data": {
      "text/html": [
       "<div>\n",
       "<style scoped>\n",
       "    .dataframe tbody tr th:only-of-type {\n",
       "        vertical-align: middle;\n",
       "    }\n",
       "\n",
       "    .dataframe tbody tr th {\n",
       "        vertical-align: top;\n",
       "    }\n",
       "\n",
       "    .dataframe thead th {\n",
       "        text-align: right;\n",
       "    }\n",
       "</style>\n",
       "<table border=\"1\" class=\"dataframe\">\n",
       "  <thead>\n",
       "    <tr style=\"text-align: right;\">\n",
       "      <th></th>\n",
       "      <th>João</th>\n",
       "      <th>Maria</th>\n",
       "      <th>Pedro</th>\n",
       "    </tr>\n",
       "  </thead>\n",
       "  <tbody>\n",
       "    <tr>\n",
       "      <th>matemática</th>\n",
       "      <td>90</td>\n",
       "      <td>95</td>\n",
       "      <td>80</td>\n",
       "    </tr>\n",
       "    <tr>\n",
       "      <th>português</th>\n",
       "      <td>85</td>\n",
       "      <td>92</td>\n",
       "      <td>75</td>\n",
       "    </tr>\n",
       "    <tr>\n",
       "      <th>ciências</th>\n",
       "      <td>88</td>\n",
       "      <td>89</td>\n",
       "      <td>82</td>\n",
       "    </tr>\n",
       "  </tbody>\n",
       "</table>\n",
       "</div>"
      ],
      "text/plain": [
       "            João  Maria  Pedro\n",
       "matemática    90     95     80\n",
       "português     85     92     75\n",
       "ciências      88     89     82"
      ]
     },
     "execution_count": 49,
     "metadata": {},
     "output_type": "execute_result"
    }
   ],
   "source": [
    "df = pd.DataFrame(notas_alunos)\n",
    "df"
   ]
  },
  {
   "cell_type": "code",
   "execution_count": 50,
   "metadata": {},
   "outputs": [
    {
     "name": "stdout",
     "output_type": "stream",
     "text": [
      "A nota de Maria em matemática é: 95\n"
     ]
    }
   ],
   "source": [
    "nota_maria_matematica = notas_alunos['Maria']['matemática']\n",
    "print(\"A nota de Maria em matemática é:\", nota_maria_matematica)"
   ]
  },
  {
   "cell_type": "code",
   "execution_count": 51,
   "metadata": {},
   "outputs": [
    {
     "data": {
      "text/plain": [
       "{'João': {'matemática': 90, 'português': 85, 'ciências': 88},\n",
       " 'Maria': {'matemática': 95, 'português': 92, 'ciências': 89},\n",
       " 'Pedro': {'matemática': 80, 'português': 75, 'ciências': 82},\n",
       " 'Ana': {'matemática': 88, 'português': 91, 'ciências': 85}}"
      ]
     },
     "execution_count": 51,
     "metadata": {},
     "output_type": "execute_result"
    }
   ],
   "source": [
    "notas_alunos['Ana']={'matemática': 88, 'português': 91,'ciências': 85}\n",
    "notas_alunos"
   ]
  },
  {
   "cell_type": "code",
   "execution_count": 52,
   "metadata": {},
   "outputs": [
    {
     "data": {
      "text/html": [
       "<div>\n",
       "<style scoped>\n",
       "    .dataframe tbody tr th:only-of-type {\n",
       "        vertical-align: middle;\n",
       "    }\n",
       "\n",
       "    .dataframe tbody tr th {\n",
       "        vertical-align: top;\n",
       "    }\n",
       "\n",
       "    .dataframe thead th {\n",
       "        text-align: right;\n",
       "    }\n",
       "</style>\n",
       "<table border=\"1\" class=\"dataframe\">\n",
       "  <thead>\n",
       "    <tr style=\"text-align: right;\">\n",
       "      <th></th>\n",
       "      <th>João</th>\n",
       "      <th>Maria</th>\n",
       "      <th>Pedro</th>\n",
       "      <th>Ana</th>\n",
       "    </tr>\n",
       "  </thead>\n",
       "  <tbody>\n",
       "    <tr>\n",
       "      <th>matemática</th>\n",
       "      <td>90</td>\n",
       "      <td>95</td>\n",
       "      <td>80</td>\n",
       "      <td>88</td>\n",
       "    </tr>\n",
       "    <tr>\n",
       "      <th>português</th>\n",
       "      <td>85</td>\n",
       "      <td>92</td>\n",
       "      <td>75</td>\n",
       "      <td>91</td>\n",
       "    </tr>\n",
       "    <tr>\n",
       "      <th>ciências</th>\n",
       "      <td>88</td>\n",
       "      <td>89</td>\n",
       "      <td>82</td>\n",
       "      <td>85</td>\n",
       "    </tr>\n",
       "  </tbody>\n",
       "</table>\n",
       "</div>"
      ],
      "text/plain": [
       "            João  Maria  Pedro  Ana\n",
       "matemática    90     95     80   88\n",
       "português     85     92     75   91\n",
       "ciências      88     89     82   85"
      ]
     },
     "execution_count": 52,
     "metadata": {},
     "output_type": "execute_result"
    }
   ],
   "source": [
    "df = pd.DataFrame(notas_alunos)\n",
    "df"
   ]
  },
  {
   "cell_type": "code",
   "execution_count": 54,
   "metadata": {},
   "outputs": [
    {
     "data": {
      "text/html": [
       "<div>\n",
       "<style scoped>\n",
       "    .dataframe tbody tr th:only-of-type {\n",
       "        vertical-align: middle;\n",
       "    }\n",
       "\n",
       "    .dataframe tbody tr th {\n",
       "        vertical-align: top;\n",
       "    }\n",
       "\n",
       "    .dataframe thead th {\n",
       "        text-align: right;\n",
       "    }\n",
       "</style>\n",
       "<table border=\"1\" class=\"dataframe\">\n",
       "  <thead>\n",
       "    <tr style=\"text-align: right;\">\n",
       "      <th></th>\n",
       "      <th>João</th>\n",
       "      <th>Maria</th>\n",
       "    </tr>\n",
       "  </thead>\n",
       "  <tbody>\n",
       "    <tr>\n",
       "      <th>matemática</th>\n",
       "      <td>90</td>\n",
       "      <td>95</td>\n",
       "    </tr>\n",
       "    <tr>\n",
       "      <th>português</th>\n",
       "      <td>85</td>\n",
       "      <td>92</td>\n",
       "    </tr>\n",
       "    <tr>\n",
       "      <th>ciências</th>\n",
       "      <td>88</td>\n",
       "      <td>89</td>\n",
       "    </tr>\n",
       "  </tbody>\n",
       "</table>\n",
       "</div>"
      ],
      "text/plain": [
       "            João  Maria\n",
       "matemática    90     95\n",
       "português     85     92\n",
       "ciências      88     89"
      ]
     },
     "execution_count": 54,
     "metadata": {},
     "output_type": "execute_result"
    }
   ],
   "source": [
    "dados_dois_alunos = df.loc[:, ['João', 'Maria']]\n",
    "dados_dois_alunos"
   ]
  },
  {
   "cell_type": "code",
   "execution_count": 55,
   "metadata": {},
   "outputs": [
    {
     "data": {
      "text/html": [
       "<div>\n",
       "<style scoped>\n",
       "    .dataframe tbody tr th:only-of-type {\n",
       "        vertical-align: middle;\n",
       "    }\n",
       "\n",
       "    .dataframe tbody tr th {\n",
       "        vertical-align: top;\n",
       "    }\n",
       "\n",
       "    .dataframe thead th {\n",
       "        text-align: right;\n",
       "    }\n",
       "</style>\n",
       "<table border=\"1\" class=\"dataframe\">\n",
       "  <thead>\n",
       "    <tr style=\"text-align: right;\">\n",
       "      <th></th>\n",
       "      <th>João</th>\n",
       "      <th>Maria</th>\n",
       "      <th>Pedro</th>\n",
       "      <th>Ana</th>\n",
       "      <th>Data</th>\n",
       "    </tr>\n",
       "  </thead>\n",
       "  <tbody>\n",
       "    <tr>\n",
       "      <th>matemática</th>\n",
       "      <td>90</td>\n",
       "      <td>95</td>\n",
       "      <td>80</td>\n",
       "      <td>88</td>\n",
       "      <td>2024-01-01</td>\n",
       "    </tr>\n",
       "    <tr>\n",
       "      <th>português</th>\n",
       "      <td>85</td>\n",
       "      <td>92</td>\n",
       "      <td>75</td>\n",
       "      <td>91</td>\n",
       "      <td>2024-02-01</td>\n",
       "    </tr>\n",
       "    <tr>\n",
       "      <th>ciências</th>\n",
       "      <td>88</td>\n",
       "      <td>89</td>\n",
       "      <td>82</td>\n",
       "      <td>85</td>\n",
       "      <td>2024-03-01</td>\n",
       "    </tr>\n",
       "  </tbody>\n",
       "</table>\n",
       "</div>"
      ],
      "text/plain": [
       "            João  Maria  Pedro  Ana       Data\n",
       "matemática    90     95     80   88 2024-01-01\n",
       "português     85     92     75   91 2024-02-01\n",
       "ciências      88     89     82   85 2024-03-01"
      ]
     },
     "execution_count": 55,
     "metadata": {},
     "output_type": "execute_result"
    }
   ],
   "source": [
    "datas = ['01-01-2024','01-02-2024','01-03-2024']\n",
    "datas_formatadas = pd.to_datetime(datas,format='%d-%m-%Y')\n",
    "\n",
    "df['Data'] = datas_formatadas\n",
    "df"
   ]
  },
  {
   "cell_type": "code",
   "execution_count": 57,
   "metadata": {},
   "outputs": [
    {
     "data": {
      "text/html": [
       "<div>\n",
       "<style scoped>\n",
       "    .dataframe tbody tr th:only-of-type {\n",
       "        vertical-align: middle;\n",
       "    }\n",
       "\n",
       "    .dataframe tbody tr th {\n",
       "        vertical-align: top;\n",
       "    }\n",
       "\n",
       "    .dataframe thead th {\n",
       "        text-align: right;\n",
       "    }\n",
       "</style>\n",
       "<table border=\"1\" class=\"dataframe\">\n",
       "  <thead>\n",
       "    <tr style=\"text-align: right;\">\n",
       "      <th></th>\n",
       "      <th>João</th>\n",
       "      <th>Maria</th>\n",
       "      <th>Pedro</th>\n",
       "      <th>Ana</th>\n",
       "      <th>Data</th>\n",
       "      <th>Ano</th>\n",
       "      <th>Mês</th>\n",
       "    </tr>\n",
       "  </thead>\n",
       "  <tbody>\n",
       "    <tr>\n",
       "      <th>matemática</th>\n",
       "      <td>90</td>\n",
       "      <td>95</td>\n",
       "      <td>80</td>\n",
       "      <td>88</td>\n",
       "      <td>2024-01-01</td>\n",
       "      <td>2024</td>\n",
       "      <td>1</td>\n",
       "    </tr>\n",
       "    <tr>\n",
       "      <th>português</th>\n",
       "      <td>85</td>\n",
       "      <td>92</td>\n",
       "      <td>75</td>\n",
       "      <td>91</td>\n",
       "      <td>2024-02-01</td>\n",
       "      <td>2024</td>\n",
       "      <td>2</td>\n",
       "    </tr>\n",
       "    <tr>\n",
       "      <th>ciências</th>\n",
       "      <td>88</td>\n",
       "      <td>89</td>\n",
       "      <td>82</td>\n",
       "      <td>85</td>\n",
       "      <td>2024-03-01</td>\n",
       "      <td>2024</td>\n",
       "      <td>3</td>\n",
       "    </tr>\n",
       "  </tbody>\n",
       "</table>\n",
       "</div>"
      ],
      "text/plain": [
       "            João  Maria  Pedro  Ana       Data   Ano  Mês\n",
       "matemática    90     95     80   88 2024-01-01  2024    1\n",
       "português     85     92     75   91 2024-02-01  2024    2\n",
       "ciências      88     89     82   85 2024-03-01  2024    3"
      ]
     },
     "execution_count": 57,
     "metadata": {},
     "output_type": "execute_result"
    }
   ],
   "source": [
    "df['Data'] = pd.to_datetime(df['Data'],format='%d-%m-%Y')\n",
    "df['Ano'] = df['Data'].dt.year\n",
    "df['Mês'] = df['Data'].dt.month\n",
    "df"
   ]
  },
  {
   "cell_type": "code",
   "execution_count": 59,
   "metadata": {},
   "outputs": [],
   "source": [
    "df.to_csv('exemplo1.csv')"
   ]
  },
  {
   "cell_type": "code",
   "execution_count": null,
   "metadata": {},
   "outputs": [],
   "source": [
    "pip install openpyxl"
   ]
  },
  {
   "cell_type": "code",
   "execution_count": 63,
   "metadata": {},
   "outputs": [],
   "source": [
    "df.to_excel('exemplo2.xlsx')"
   ]
  },
  {
   "cell_type": "code",
   "execution_count": null,
   "metadata": {},
   "outputs": [],
   "source": [
    "'''\n",
    "1. Carregar os dados do arquivo CSV em um Pandas Series, onde cada entrada representa o\n",
    "número de vendas de um produto em um determinado mês.\n",
    "2. Identificar o produto mais vendido e o menos vendido ao longo de todo o período.\n",
    "3. Calcular a média, mediana, máximo e mínimo de vendas mensais.\n",
    "4. Visualizar um gráfico de linha mostrando a tendência de vendas ao longo do tempo.\n",
    "5. Calcular a variação percentual entre as vendas de um mês para o próximo e identificar os meses\n",
    "com maior e menor variação percentual.\n",
    "'''"
   ]
  },
  {
   "cell_type": "code",
   "execution_count": 98,
   "metadata": {},
   "outputs": [
    {
     "data": {
      "text/html": [
       "<div>\n",
       "<style scoped>\n",
       "    .dataframe tbody tr th:only-of-type {\n",
       "        vertical-align: middle;\n",
       "    }\n",
       "\n",
       "    .dataframe tbody tr th {\n",
       "        vertical-align: top;\n",
       "    }\n",
       "\n",
       "    .dataframe thead th {\n",
       "        text-align: right;\n",
       "    }\n",
       "</style>\n",
       "<table border=\"1\" class=\"dataframe\">\n",
       "  <thead>\n",
       "    <tr style=\"text-align: right;\">\n",
       "      <th></th>\n",
       "      <th>Produto</th>\n",
       "      <th>Mês</th>\n",
       "      <th>Vendas</th>\n",
       "    </tr>\n",
       "  </thead>\n",
       "  <tbody>\n",
       "    <tr>\n",
       "      <th>0</th>\n",
       "      <td>Celular</td>\n",
       "      <td>01-01-2023</td>\n",
       "      <td>150</td>\n",
       "    </tr>\n",
       "    <tr>\n",
       "      <th>1</th>\n",
       "      <td>Celular</td>\n",
       "      <td>01-02-2023</td>\n",
       "      <td>180</td>\n",
       "    </tr>\n",
       "    <tr>\n",
       "      <th>2</th>\n",
       "      <td>Celular</td>\n",
       "      <td>01-03-2023</td>\n",
       "      <td>200</td>\n",
       "    </tr>\n",
       "    <tr>\n",
       "      <th>3</th>\n",
       "      <td>Tablet</td>\n",
       "      <td>01-01-2023</td>\n",
       "      <td>100</td>\n",
       "    </tr>\n",
       "    <tr>\n",
       "      <th>4</th>\n",
       "      <td>Tablet</td>\n",
       "      <td>01-02-2023</td>\n",
       "      <td>120</td>\n",
       "    </tr>\n",
       "    <tr>\n",
       "      <th>5</th>\n",
       "      <td>Tablet</td>\n",
       "      <td>01-03-2023</td>\n",
       "      <td>130</td>\n",
       "    </tr>\n",
       "    <tr>\n",
       "      <th>6</th>\n",
       "      <td>Notebook</td>\n",
       "      <td>01-01-2023</td>\n",
       "      <td>80</td>\n",
       "    </tr>\n",
       "    <tr>\n",
       "      <th>7</th>\n",
       "      <td>Notebook</td>\n",
       "      <td>01-02-2023</td>\n",
       "      <td>90</td>\n",
       "    </tr>\n",
       "    <tr>\n",
       "      <th>8</th>\n",
       "      <td>Notebook</td>\n",
       "      <td>01-03-2023</td>\n",
       "      <td>100</td>\n",
       "    </tr>\n",
       "  </tbody>\n",
       "</table>\n",
       "</div>"
      ],
      "text/plain": [
       "    Produto         Mês  Vendas\n",
       "0   Celular  01-01-2023     150\n",
       "1   Celular  01-02-2023     180\n",
       "2   Celular  01-03-2023     200\n",
       "3    Tablet  01-01-2023     100\n",
       "4    Tablet  01-02-2023     120\n",
       "5    Tablet  01-03-2023     130\n",
       "6  Notebook  01-01-2023      80\n",
       "7  Notebook  01-02-2023      90\n",
       "8  Notebook  01-03-2023     100"
      ]
     },
     "execution_count": 98,
     "metadata": {},
     "output_type": "execute_result"
    }
   ],
   "source": [
    "data = {\n",
    "    'Produto': ['Celular','Celular','Celular','Tablet','Tablet','Tablet','Notebook','Notebook','Notebook'],\n",
    "    'Mês': ['01-01-2023','01-02-2023','01-03-2023','01-01-2023','01-02-2023','01-03-2023','01-01-2023','01-02-2023','01-03-2023'],\n",
    "    'Vendas': [150,180,200,100,120,130,80,90,100]\n",
    "}\n",
    "df = pd.DataFrame(data)\n",
    "df\n"
   ]
  },
  {
   "cell_type": "code",
   "execution_count": 99,
   "metadata": {},
   "outputs": [
    {
     "data": {
      "text/html": [
       "<div>\n",
       "<style scoped>\n",
       "    .dataframe tbody tr th:only-of-type {\n",
       "        vertical-align: middle;\n",
       "    }\n",
       "\n",
       "    .dataframe tbody tr th {\n",
       "        vertical-align: top;\n",
       "    }\n",
       "\n",
       "    .dataframe thead th {\n",
       "        text-align: right;\n",
       "    }\n",
       "</style>\n",
       "<table border=\"1\" class=\"dataframe\">\n",
       "  <thead>\n",
       "    <tr style=\"text-align: right;\">\n",
       "      <th></th>\n",
       "      <th>Produto</th>\n",
       "      <th>Mês</th>\n",
       "      <th>Vendas</th>\n",
       "      <th>Ano</th>\n",
       "    </tr>\n",
       "  </thead>\n",
       "  <tbody>\n",
       "    <tr>\n",
       "      <th>0</th>\n",
       "      <td>Celular</td>\n",
       "      <td>1</td>\n",
       "      <td>150</td>\n",
       "      <td>2023</td>\n",
       "    </tr>\n",
       "    <tr>\n",
       "      <th>1</th>\n",
       "      <td>Celular</td>\n",
       "      <td>2</td>\n",
       "      <td>180</td>\n",
       "      <td>2023</td>\n",
       "    </tr>\n",
       "    <tr>\n",
       "      <th>2</th>\n",
       "      <td>Celular</td>\n",
       "      <td>3</td>\n",
       "      <td>200</td>\n",
       "      <td>2023</td>\n",
       "    </tr>\n",
       "    <tr>\n",
       "      <th>3</th>\n",
       "      <td>Tablet</td>\n",
       "      <td>1</td>\n",
       "      <td>100</td>\n",
       "      <td>2023</td>\n",
       "    </tr>\n",
       "    <tr>\n",
       "      <th>4</th>\n",
       "      <td>Tablet</td>\n",
       "      <td>2</td>\n",
       "      <td>120</td>\n",
       "      <td>2023</td>\n",
       "    </tr>\n",
       "    <tr>\n",
       "      <th>5</th>\n",
       "      <td>Tablet</td>\n",
       "      <td>3</td>\n",
       "      <td>130</td>\n",
       "      <td>2023</td>\n",
       "    </tr>\n",
       "    <tr>\n",
       "      <th>6</th>\n",
       "      <td>Notebook</td>\n",
       "      <td>1</td>\n",
       "      <td>80</td>\n",
       "      <td>2023</td>\n",
       "    </tr>\n",
       "    <tr>\n",
       "      <th>7</th>\n",
       "      <td>Notebook</td>\n",
       "      <td>2</td>\n",
       "      <td>90</td>\n",
       "      <td>2023</td>\n",
       "    </tr>\n",
       "    <tr>\n",
       "      <th>8</th>\n",
       "      <td>Notebook</td>\n",
       "      <td>3</td>\n",
       "      <td>100</td>\n",
       "      <td>2023</td>\n",
       "    </tr>\n",
       "  </tbody>\n",
       "</table>\n",
       "</div>"
      ],
      "text/plain": [
       "    Produto  Mês  Vendas   Ano\n",
       "0   Celular    1     150  2023\n",
       "1   Celular    2     180  2023\n",
       "2   Celular    3     200  2023\n",
       "3    Tablet    1     100  2023\n",
       "4    Tablet    2     120  2023\n",
       "5    Tablet    3     130  2023\n",
       "6  Notebook    1      80  2023\n",
       "7  Notebook    2      90  2023\n",
       "8  Notebook    3     100  2023"
      ]
     },
     "execution_count": 99,
     "metadata": {},
     "output_type": "execute_result"
    }
   ],
   "source": [
    "df['Mês'] = pd.to_datetime(df['Mês'], format='%d-%m-%Y')\n",
    "df['Ano'] = df['Mês'].dt.year\n",
    "df['Mês'] = df['Mês'].dt.month\n",
    "df\n"
   ]
  },
  {
   "cell_type": "code",
   "execution_count": 101,
   "metadata": {},
   "outputs": [
    {
     "data": {
      "text/plain": [
       "Mês\n",
       "1    150\n",
       "2    180\n",
       "3    200\n",
       "1    100\n",
       "2    120\n",
       "3    130\n",
       "1     80\n",
       "2     90\n",
       "3    100\n",
       "dtype: int64"
      ]
     },
     "execution_count": 101,
     "metadata": {},
     "output_type": "execute_result"
    }
   ],
   "source": [
    "vendas_series = pd.Series(df['Vendas'].values,index=df['Mês'])\n",
    "vendas_series"
   ]
  },
  {
   "cell_type": "code",
   "execution_count": 104,
   "metadata": {},
   "outputs": [
    {
     "name": "stdout",
     "output_type": "stream",
     "text": [
      "mais vendido: Celular\n",
      "menos vendido: Notebook\n"
     ]
    }
   ],
   "source": [
    "produto_mais_vendido = df.groupby('Produto')['Vendas'].sum().idxmax()\n",
    "produto_menos_vendido = df.groupby('Produto')['Vendas'].sum().idxmin()\n",
    "print('mais vendido:', produto_mais_vendido)\n",
    "print('menos vendido:', produto_menos_vendido)\n"
   ]
  },
  {
   "cell_type": "code",
   "execution_count": 108,
   "metadata": {},
   "outputs": [
    {
     "name": "stdout",
     "output_type": "stream",
     "text": [
      "media de vendas: 127.77777777777777\n",
      "mediana de vendas: 120.0\n",
      "maximo de vendas: 200\n",
      "minimo de vendas: 80\n"
     ]
    }
   ],
   "source": [
    "media_vendas = vendas_series.mean()\n",
    "mediana_vendas = vendas_series.median()\n",
    "vendas_maximo = vendas_series.max()\n",
    "vendas_minimo = vendas_series.min()\n",
    "\n",
    "print('media de vendas:',media_vendas)\n",
    "print('mediana de vendas:',mediana_vendas)\n",
    "print('maximo de vendas:', vendas_maximo)\n",
    "print('minimo de vendas:', vendas_minimo)"
   ]
  },
  {
   "cell_type": "code",
   "execution_count": 109,
   "metadata": {},
   "outputs": [
    {
     "data": {
      "text/plain": [
       "<Figure size 1000x600 with 0 Axes>"
      ]
     },
     "metadata": {},
     "output_type": "display_data"
    },
    {
     "data": {
      "image/png": "[encoded data removed]",
      "text/plain": [
       "<Figure size 640x480 with 1 Axes>"
      ]
     },
     "metadata": {},
     "output_type": "display_data"
    }
   ],
   "source": [
    "import matplotlib.pyplot as plt\n",
    "\n",
    "df_grouped = df.groupby(['Mês', 'Produto'])['Vendas'].sum().unstack()\n",
    "\n",
    "plt.figure(figsize=(10, 6))\n",
    "df_grouped.plot(kind='bar', stacked=False)\n",
    "                \n",
    "plt.title(\"Vendas por Produto ao longo do Tempo\")\n",
    "plt.xlabel(\"Mês\")\n",
    "plt.ylabel(\"Vendas\")\n",
    "plt.xticks(rotation=45)\n",
    "plt.legend(title='Produto')\n",
    "plt.grid(axis='y')\n",
    "plt.tight_layout()\n",
    "plt.show()"
   ]
  },
  {
   "cell_type": "code",
   "execution_count": 111,
   "metadata": {},
   "outputs": [
    {
     "name": "stdout",
     "output_type": "stream",
     "text": [
      "Mês de maior variação percentual: 2\n",
      "Mês de menor variação percentual: 3\n"
     ]
    }
   ],
   "source": [
    "df['Variação Percentual'] = df.groupby('Produto')['Vendas'].pct_change()\n",
    "\n",
    "mes_maior_variacao = df.loc[df['Variação Percentual'].idxmax()]['Mês']\n",
    "mes_menor_variacao = df.loc[df['Variação Percentual'].idxmin()]['Mês']\n",
    "print('Mês de maior variação percentual:', mes_maior_variacao)\n",
    "print('Mês de menor variação percentual:', mes_menor_variacao)"
   ]
  },
  {
   "cell_type": "code",
   "execution_count": 112,
   "metadata": {},
   "outputs": [
    {
     "data": {
      "text/html": [
       "<div>\n",
       "<style scoped>\n",
       "    .dataframe tbody tr th:only-of-type {\n",
       "        vertical-align: middle;\n",
       "    }\n",
       "\n",
       "    .dataframe tbody tr th {\n",
       "        vertical-align: top;\n",
       "    }\n",
       "\n",
       "    .dataframe thead th {\n",
       "        text-align: right;\n",
       "    }\n",
       "</style>\n",
       "<table border=\"1\" class=\"dataframe\">\n",
       "  <thead>\n",
       "    <tr style=\"text-align: right;\">\n",
       "      <th></th>\n",
       "      <th>Produto</th>\n",
       "      <th>Mês</th>\n",
       "      <th>Vendas</th>\n",
       "      <th>Ano</th>\n",
       "      <th>Variação Percentual</th>\n",
       "    </tr>\n",
       "  </thead>\n",
       "  <tbody>\n",
       "    <tr>\n",
       "      <th>0</th>\n",
       "      <td>Celular</td>\n",
       "      <td>1</td>\n",
       "      <td>150</td>\n",
       "      <td>2023</td>\n",
       "      <td>NaN</td>\n",
       "    </tr>\n",
       "    <tr>\n",
       "      <th>1</th>\n",
       "      <td>Celular</td>\n",
       "      <td>2</td>\n",
       "      <td>180</td>\n",
       "      <td>2023</td>\n",
       "      <td>0.200000</td>\n",
       "    </tr>\n",
       "    <tr>\n",
       "      <th>2</th>\n",
       "      <td>Celular</td>\n",
       "      <td>3</td>\n",
       "      <td>200</td>\n",
       "      <td>2023</td>\n",
       "      <td>0.111111</td>\n",
       "    </tr>\n",
       "    <tr>\n",
       "      <th>3</th>\n",
       "      <td>Tablet</td>\n",
       "      <td>1</td>\n",
       "      <td>100</td>\n",
       "      <td>2023</td>\n",
       "      <td>NaN</td>\n",
       "    </tr>\n",
       "    <tr>\n",
       "      <th>4</th>\n",
       "      <td>Tablet</td>\n",
       "      <td>2</td>\n",
       "      <td>120</td>\n",
       "      <td>2023</td>\n",
       "      <td>0.200000</td>\n",
       "    </tr>\n",
       "    <tr>\n",
       "      <th>5</th>\n",
       "      <td>Tablet</td>\n",
       "      <td>3</td>\n",
       "      <td>130</td>\n",
       "      <td>2023</td>\n",
       "      <td>0.083333</td>\n",
       "    </tr>\n",
       "    <tr>\n",
       "      <th>6</th>\n",
       "      <td>Notebook</td>\n",
       "      <td>1</td>\n",
       "      <td>80</td>\n",
       "      <td>2023</td>\n",
       "      <td>NaN</td>\n",
       "    </tr>\n",
       "    <tr>\n",
       "      <th>7</th>\n",
       "      <td>Notebook</td>\n",
       "      <td>2</td>\n",
       "      <td>90</td>\n",
       "      <td>2023</td>\n",
       "      <td>0.125000</td>\n",
       "    </tr>\n",
       "    <tr>\n",
       "      <th>8</th>\n",
       "      <td>Notebook</td>\n",
       "      <td>3</td>\n",
       "      <td>100</td>\n",
       "      <td>2023</td>\n",
       "      <td>0.111111</td>\n",
       "    </tr>\n",
       "  </tbody>\n",
       "</table>\n",
       "</div>"
      ],
      "text/plain": [
       "    Produto  Mês  Vendas   Ano  Variação Percentual\n",
       "0   Celular    1     150  2023                  NaN\n",
       "1   Celular    2     180  2023             0.200000\n",
       "2   Celular    3     200  2023             0.111111\n",
       "3    Tablet    1     100  2023                  NaN\n",
       "4    Tablet    2     120  2023             0.200000\n",
       "5    Tablet    3     130  2023             0.083333\n",
       "6  Notebook    1      80  2023                  NaN\n",
       "7  Notebook    2      90  2023             0.125000\n",
       "8  Notebook    3     100  2023             0.111111"
      ]
     },
     "execution_count": 112,
     "metadata": {},
     "output_type": "execute_result"
    }
   ],
   "source": [
    "df"
   ]
  },
  {
   "cell_type": "code",
   "execution_count": null,
   "metadata": {},
   "outputs": [],
   "source": [
    "'''\n",
    "1. Carregue os dados do arquivo CSV em um Pandas DataFrame, onde cada entrada\n",
    "    representa o número de vendas de um produto em um determinado mês.\n",
    "2. Identifique o produto mais vendido e o menos vendido ao longo dos cinco meses.\n",
    "3. Calcule a média, mediana, máximo e mínimo de vendas mensais para cada produto.\n",
    "4. Crie um gráfico para apresentar as vendas dos produtos ao longo do tempo.\n",
    "5. Calcule a variação percentual entre as vendas de um mês para o próximo para cada\n",
    "    produto e identifique os meses com maior e menor variação percentual.\n",
    "'''"
   ]
  },
  {
   "cell_type": "code",
   "execution_count": 9,
   "metadata": {},
   "outputs": [
    {
     "data": {
      "text/html": [
       "<div>\n",
       "<style scoped>\n",
       "    .dataframe tbody tr th:only-of-type {\n",
       "        vertical-align: middle;\n",
       "    }\n",
       "\n",
       "    .dataframe tbody tr th {\n",
       "        vertical-align: top;\n",
       "    }\n",
       "\n",
       "    .dataframe thead th {\n",
       "        text-align: right;\n",
       "    }\n",
       "</style>\n",
       "<table border=\"1\" class=\"dataframe\">\n",
       "  <thead>\n",
       "    <tr style=\"text-align: right;\">\n",
       "      <th></th>\n",
       "      <th>data</th>\n",
       "      <th>Produto</th>\n",
       "      <th>Quantidade</th>\n",
       "    </tr>\n",
       "  </thead>\n",
       "  <tbody>\n",
       "    <tr>\n",
       "      <th>0</th>\n",
       "      <td>01-01-2024</td>\n",
       "      <td>Ar Frio</td>\n",
       "      <td>100</td>\n",
       "    </tr>\n",
       "    <tr>\n",
       "      <th>1</th>\n",
       "      <td>01-02-2024</td>\n",
       "      <td>Ar Frio</td>\n",
       "      <td>120</td>\n",
       "    </tr>\n",
       "    <tr>\n",
       "      <th>2</th>\n",
       "      <td>01-03-2024</td>\n",
       "      <td>Ar Frio</td>\n",
       "      <td>130</td>\n",
       "    </tr>\n",
       "    <tr>\n",
       "      <th>3</th>\n",
       "      <td>01-04-2024</td>\n",
       "      <td>Ar Frio</td>\n",
       "      <td>110</td>\n",
       "    </tr>\n",
       "    <tr>\n",
       "      <th>4</th>\n",
       "      <td>01-05-2024</td>\n",
       "      <td>Ar Frio</td>\n",
       "      <td>150</td>\n",
       "    </tr>\n",
       "    <tr>\n",
       "      <th>5</th>\n",
       "      <td>01-01-2024</td>\n",
       "      <td>Ventilador</td>\n",
       "      <td>150</td>\n",
       "    </tr>\n",
       "    <tr>\n",
       "      <th>6</th>\n",
       "      <td>01-02-2024</td>\n",
       "      <td>Ventilador</td>\n",
       "      <td>140</td>\n",
       "    </tr>\n",
       "    <tr>\n",
       "      <th>7</th>\n",
       "      <td>01-03-2024</td>\n",
       "      <td>Ventilador</td>\n",
       "      <td>160</td>\n",
       "    </tr>\n",
       "    <tr>\n",
       "      <th>8</th>\n",
       "      <td>01-04-2024</td>\n",
       "      <td>Ventilador</td>\n",
       "      <td>130</td>\n",
       "    </tr>\n",
       "    <tr>\n",
       "      <th>9</th>\n",
       "      <td>01-05-2024</td>\n",
       "      <td>Ventilador</td>\n",
       "      <td>170</td>\n",
       "    </tr>\n",
       "    <tr>\n",
       "      <th>10</th>\n",
       "      <td>01-01-2024</td>\n",
       "      <td>Ar Quente</td>\n",
       "      <td>80</td>\n",
       "    </tr>\n",
       "    <tr>\n",
       "      <th>11</th>\n",
       "      <td>01-02-2024</td>\n",
       "      <td>Ar Quente</td>\n",
       "      <td>90</td>\n",
       "    </tr>\n",
       "    <tr>\n",
       "      <th>12</th>\n",
       "      <td>01-03-2024</td>\n",
       "      <td>Ar Quente</td>\n",
       "      <td>100</td>\n",
       "    </tr>\n",
       "    <tr>\n",
       "      <th>13</th>\n",
       "      <td>01-04-2024</td>\n",
       "      <td>Ar Quente</td>\n",
       "      <td>85</td>\n",
       "    </tr>\n",
       "    <tr>\n",
       "      <th>14</th>\n",
       "      <td>01-05-2024</td>\n",
       "      <td>Ar Quente</td>\n",
       "      <td>95</td>\n",
       "    </tr>\n",
       "  </tbody>\n",
       "</table>\n",
       "</div>"
      ],
      "text/plain": [
       "          data     Produto  Quantidade\n",
       "0   01-01-2024     Ar Frio         100\n",
       "1   01-02-2024     Ar Frio         120\n",
       "2   01-03-2024     Ar Frio         130\n",
       "3   01-04-2024     Ar Frio         110\n",
       "4   01-05-2024     Ar Frio         150\n",
       "5   01-01-2024  Ventilador         150\n",
       "6   01-02-2024  Ventilador         140\n",
       "7   01-03-2024  Ventilador         160\n",
       "8   01-04-2024  Ventilador         130\n",
       "9   01-05-2024  Ventilador         170\n",
       "10  01-01-2024   Ar Quente          80\n",
       "11  01-02-2024   Ar Quente          90\n",
       "12  01-03-2024   Ar Quente         100\n",
       "13  01-04-2024   Ar Quente          85\n",
       "14  01-05-2024   Ar Quente          95"
      ]
     },
     "execution_count": 9,
     "metadata": {},
     "output_type": "execute_result"
    }
   ],
   "source": [
    "data = {\n",
    "    'data': ['01-01-2024','01-02-2024','01-03-2024','01-04-2024','01-05-2024','01-01-2024','01-02-2024','01-03-2024','01-04-2024','01-05-2024','01-01-2024','01-02-2024','01-03-2024','01-04-2024','01-05-2024'],\n",
    "    'Produto': ['Ar Frio','Ar Frio','Ar Frio','Ar Frio','Ar Frio','Ventilador','Ventilador','Ventilador','Ventilador','Ventilador','Ar Quente','Ar Quente','Ar Quente','Ar Quente','Ar Quente'],\n",
    "    'Quantidade': [100,120,130,110,150,150,140,160,130,170,80,90,100,85,95]\n",
    "}\n",
    "df = pd.DataFrame(data)\n",
    "df\n"
   ]
  },
  {
   "cell_type": "code",
   "execution_count": 11,
   "metadata": {},
   "outputs": [],
   "source": [
    "df.to_csv('exemplo1.csv')"
   ]
  },
  {
   "cell_type": "code",
   "execution_count": null,
   "metadata": {},
   "outputs": [],
   "source": [
    "dados = pd.read_csv(r'C:\\Users\\logonrmlocal\\Desktop\\Python\\aula_16_exemplo.csv')\n",
    "dados"
   ]
  },
  {
   "cell_type": "code",
   "execution_count": 13,
   "metadata": {},
   "outputs": [
    {
     "data": {
      "text/html": [
       "<div>\n",
       "<style scoped>\n",
       "    .dataframe tbody tr th:only-of-type {\n",
       "        vertical-align: middle;\n",
       "    }\n",
       "\n",
       "    .dataframe tbody tr th {\n",
       "        vertical-align: top;\n",
       "    }\n",
       "\n",
       "    .dataframe thead th {\n",
       "        text-align: right;\n",
       "    }\n",
       "</style>\n",
       "<table border=\"1\" class=\"dataframe\">\n",
       "  <thead>\n",
       "    <tr style=\"text-align: right;\">\n",
       "      <th></th>\n",
       "      <th>data</th>\n",
       "      <th>Produto</th>\n",
       "      <th>Quantidade</th>\n",
       "      <th>Ano</th>\n",
       "      <th>Mês</th>\n",
       "    </tr>\n",
       "  </thead>\n",
       "  <tbody>\n",
       "    <tr>\n",
       "      <th>0</th>\n",
       "      <td>2024-01-01</td>\n",
       "      <td>Ar Frio</td>\n",
       "      <td>100</td>\n",
       "      <td>2024</td>\n",
       "      <td>1</td>\n",
       "    </tr>\n",
       "    <tr>\n",
       "      <th>1</th>\n",
       "      <td>2024-02-01</td>\n",
       "      <td>Ar Frio</td>\n",
       "      <td>120</td>\n",
       "      <td>2024</td>\n",
       "      <td>2</td>\n",
       "    </tr>\n",
       "    <tr>\n",
       "      <th>2</th>\n",
       "      <td>2024-03-01</td>\n",
       "      <td>Ar Frio</td>\n",
       "      <td>130</td>\n",
       "      <td>2024</td>\n",
       "      <td>3</td>\n",
       "    </tr>\n",
       "    <tr>\n",
       "      <th>3</th>\n",
       "      <td>2024-04-01</td>\n",
       "      <td>Ar Frio</td>\n",
       "      <td>110</td>\n",
       "      <td>2024</td>\n",
       "      <td>4</td>\n",
       "    </tr>\n",
       "    <tr>\n",
       "      <th>4</th>\n",
       "      <td>2024-05-01</td>\n",
       "      <td>Ar Frio</td>\n",
       "      <td>150</td>\n",
       "      <td>2024</td>\n",
       "      <td>5</td>\n",
       "    </tr>\n",
       "    <tr>\n",
       "      <th>5</th>\n",
       "      <td>2024-01-01</td>\n",
       "      <td>Ventilador</td>\n",
       "      <td>150</td>\n",
       "      <td>2024</td>\n",
       "      <td>1</td>\n",
       "    </tr>\n",
       "    <tr>\n",
       "      <th>6</th>\n",
       "      <td>2024-02-01</td>\n",
       "      <td>Ventilador</td>\n",
       "      <td>140</td>\n",
       "      <td>2024</td>\n",
       "      <td>2</td>\n",
       "    </tr>\n",
       "    <tr>\n",
       "      <th>7</th>\n",
       "      <td>2024-03-01</td>\n",
       "      <td>Ventilador</td>\n",
       "      <td>160</td>\n",
       "      <td>2024</td>\n",
       "      <td>3</td>\n",
       "    </tr>\n",
       "    <tr>\n",
       "      <th>8</th>\n",
       "      <td>2024-04-01</td>\n",
       "      <td>Ventilador</td>\n",
       "      <td>130</td>\n",
       "      <td>2024</td>\n",
       "      <td>4</td>\n",
       "    </tr>\n",
       "    <tr>\n",
       "      <th>9</th>\n",
       "      <td>2024-05-01</td>\n",
       "      <td>Ventilador</td>\n",
       "      <td>170</td>\n",
       "      <td>2024</td>\n",
       "      <td>5</td>\n",
       "    </tr>\n",
       "    <tr>\n",
       "      <th>10</th>\n",
       "      <td>2024-01-01</td>\n",
       "      <td>Ar Quente</td>\n",
       "      <td>80</td>\n",
       "      <td>2024</td>\n",
       "      <td>1</td>\n",
       "    </tr>\n",
       "    <tr>\n",
       "      <th>11</th>\n",
       "      <td>2024-02-01</td>\n",
       "      <td>Ar Quente</td>\n",
       "      <td>90</td>\n",
       "      <td>2024</td>\n",
       "      <td>2</td>\n",
       "    </tr>\n",
       "    <tr>\n",
       "      <th>12</th>\n",
       "      <td>2024-03-01</td>\n",
       "      <td>Ar Quente</td>\n",
       "      <td>100</td>\n",
       "      <td>2024</td>\n",
       "      <td>3</td>\n",
       "    </tr>\n",
       "    <tr>\n",
       "      <th>13</th>\n",
       "      <td>2024-04-01</td>\n",
       "      <td>Ar Quente</td>\n",
       "      <td>85</td>\n",
       "      <td>2024</td>\n",
       "      <td>4</td>\n",
       "    </tr>\n",
       "    <tr>\n",
       "      <th>14</th>\n",
       "      <td>2024-05-01</td>\n",
       "      <td>Ar Quente</td>\n",
       "      <td>95</td>\n",
       "      <td>2024</td>\n",
       "      <td>5</td>\n",
       "    </tr>\n",
       "  </tbody>\n",
       "</table>\n",
       "</div>"
      ],
      "text/plain": [
       "         data     Produto  Quantidade   Ano  Mês\n",
       "0  2024-01-01     Ar Frio         100  2024    1\n",
       "1  2024-02-01     Ar Frio         120  2024    2\n",
       "2  2024-03-01     Ar Frio         130  2024    3\n",
       "3  2024-04-01     Ar Frio         110  2024    4\n",
       "4  2024-05-01     Ar Frio         150  2024    5\n",
       "5  2024-01-01  Ventilador         150  2024    1\n",
       "6  2024-02-01  Ventilador         140  2024    2\n",
       "7  2024-03-01  Ventilador         160  2024    3\n",
       "8  2024-04-01  Ventilador         130  2024    4\n",
       "9  2024-05-01  Ventilador         170  2024    5\n",
       "10 2024-01-01   Ar Quente          80  2024    1\n",
       "11 2024-02-01   Ar Quente          90  2024    2\n",
       "12 2024-03-01   Ar Quente         100  2024    3\n",
       "13 2024-04-01   Ar Quente          85  2024    4\n",
       "14 2024-05-01   Ar Quente          95  2024    5"
      ]
     },
     "execution_count": 13,
     "metadata": {},
     "output_type": "execute_result"
    }
   ],
   "source": [
    "# 2. Identifique o produto mais vendido e o menos vendido ao longo dos cinco meses.\n",
    "\n",
    "df['data'] = pd.to_datetime(df['data'],format='%d-%m-%Y')\n",
    "df['Ano'] = df['data'].dt.year\n",
    "df['Mês'] = df['data'].dt.month\n",
    "df"
   ]
  },
  {
   "cell_type": "code",
   "execution_count": 19,
   "metadata": {},
   "outputs": [
    {
     "name": "stdout",
     "output_type": "stream",
     "text": [
      "mais vendido: Ventilador\n",
      "menos vendido Ar Quente\n"
     ]
    },
    {
     "data": {
      "text/plain": [
       "Produto\n",
       "Ar Frio       610\n",
       "Ar Quente     450\n",
       "Ventilador    750\n",
       "Name: Quantidade, dtype: int64"
      ]
     },
     "execution_count": 19,
     "metadata": {},
     "output_type": "execute_result"
    }
   ],
   "source": [
    "produto_mais_vendas = df.groupby('Produto')['Quantidade'].sum().idxmax()\n",
    "print('mais vendido:', produto_mais_vendas)\n",
    "\n",
    "produto_menos_vendas = df.groupby('Produto')['Quantidade'].sum().idxmin()\n",
    "print('menos vendido', produto_menos_vendas)\n",
    "\n",
    "valor = df.groupby('Produto')['Quantidade'].sum()\n",
    "valor"
   ]
  },
  {
   "cell_type": "code",
   "execution_count": 36,
   "metadata": {},
   "outputs": [
    {
     "name": "stdout",
     "output_type": "stream",
     "text": [
      "media de vendas mensais: 122.0\n"
     ]
    }
   ],
   "source": [
    "# 3. Calcule a média, mediana, máximo e mínimo de vendas mensais para cada produto.\n",
    "\n",
    "media_ar_frio = valor['Ar Frio']/df['Mês'].max()\n",
    "\n",
    "mediana_ar_frio = vendas_series.median()\n",
    "'''\n",
    "\n",
    "vendas_maximo = vendas_series.max()\n",
    "vendas_minimo = vendas_series.min()\n",
    "\n",
    "print('maximo de vendas:', vendas_maximo)\n",
    "print('minimo de vendas:', vendas_minimo)\n",
    "'''\n",
    "print('media de vendas mensais:',media_ar_frio)\n",
    "print('mediana de vendas:',mediana_ar_frio)"
   ]
  },
  {
   "cell_type": "code",
   "execution_count": 43,
   "metadata": {},
   "outputs": [
    {
     "data": {
      "text/plain": [
       "Mês\n",
       "1    100\n",
       "2    120\n",
       "3    130\n",
       "4    110\n",
       "5    150\n",
       "1    150\n",
       "2    140\n",
       "3    160\n",
       "4    130\n",
       "5    170\n",
       "1     80\n",
       "2     90\n",
       "3    100\n",
       "4     85\n",
       "5     95\n",
       "dtype: int64"
      ]
     },
     "execution_count": 43,
     "metadata": {},
     "output_type": "execute_result"
    }
   ],
   "source": [
    "vendas_series = pd.Series(df['Quantidade'].values,index=df['Mês'])\n",
    "vendas_series"
   ]
  },
  {
   "cell_type": "code",
   "execution_count": 31,
   "metadata": {},
   "outputs": [
    {
     "name": "stdout",
     "output_type": "stream",
     "text": [
      "610\n"
     ]
    }
   ],
   "source": [
    "print(valor['Ar Frio'])"
   ]
  },
  {
   "cell_type": "code",
   "execution_count": 35,
   "metadata": {},
   "outputs": [
    {
     "name": "stdout",
     "output_type": "stream",
     "text": [
      "5\n"
     ]
    }
   ],
   "source": [
    "print(df['Mês'].max())"
   ]
  },
  {
   "cell_type": "code",
   "execution_count": 48,
   "metadata": {},
   "outputs": [
    {
     "name": "stdout",
     "output_type": "stream",
     "text": [
      "Média de vendas mensais: 120.66666666666667\n",
      "Mediana de vendas mensais: 120.0\n",
      "Máximo de vendas mensais: 170\n",
      "Mínimo de vendas mensais: 80\n"
     ]
    }
   ],
   "source": [
    "vendas_series = pd.Series(df['Quantidade'].values, index=df['Produto'])\n",
    "\n",
    "media_vendas = vendas_series.mean()\n",
    "mediana_vendas = vendas_series.median()\n",
    "maximo_vendas = vendas_series.max()\n",
    "minimo_vendas = vendas_series.min()\n",
    "print(\"Média de vendas mensais:\", media_vendas)\n",
    "print(\"Mediana de vendas mensais:\", mediana_vendas)\n",
    "print(\"Máximo de vendas mensais:\", maximo_vendas)\n",
    "print(\"Mínimo de vendas mensais:\", minimo_vendas)"
   ]
  }
 ],
 "metadata": {
  "kernelspec": {
   "display_name": "Python 3",
   "language": "python",
   "name": "python3"
  },
  "language_info": {
   "codemirror_mode": {
    "name": "ipython",
    "version": 3
   },
   "file_extension": ".py",
   "mimetype": "text/x-python",
   "name": "python",
   "nbconvert_exporter": "python",
   "pygments_lexer": "ipython3",
   "version": "3.11.8"
  },
  "orig_nbformat": 4
 },
 "nbformat": 4,
 "nbformat_minor": 2
}
