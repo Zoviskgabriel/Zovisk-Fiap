{
 "cells": [
  {
   "attachments": {},
   "cell_type": "markdown",
   "metadata": {},
   "source": [
    "## SET\n"
   ]
  },
  {
   "cell_type": "code",
   "execution_count": 4,
   "metadata": {},
   "outputs": [
    {
     "name": "stdout",
     "output_type": "stream",
     "text": [
      "Collecting sympy\n",
      "  Downloading sympy-1.12-py3-none-any.whl (5.7 MB)\n",
      "                                              0.0/5.7 MB ? eta -:--:--\n",
      "     ---                                      0.4/5.7 MB 9.2 MB/s eta 0:00:01\n",
      "     ------                                   1.0/5.7 MB 10.3 MB/s eta 0:00:01\n",
      "     ----------                               1.5/5.7 MB 10.8 MB/s eta 0:00:01\n",
      "     --------------                           2.1/5.7 MB 11.2 MB/s eta 0:00:01\n",
      "     ------------------                       2.6/5.7 MB 11.8 MB/s eta 0:00:01\n",
      "     ----------------------                   3.2/5.7 MB 11.3 MB/s eta 0:00:01\n",
      "     -------------------------                3.6/5.7 MB 11.5 MB/s eta 0:00:01\n",
      "     -------------------------                3.6/5.7 MB 11.5 MB/s eta 0:00:01\n",
      "     -------------------------                3.6/5.7 MB 11.5 MB/s eta 0:00:01\n",
      "     -------------------------                3.6/5.7 MB 11.5 MB/s eta 0:00:01\n",
      "     -------------------------                3.6/5.7 MB 11.5 MB/s eta 0:00:01\n",
      "     -------------------------                3.6/5.7 MB 11.5 MB/s eta 0:00:01\n",
      "     -------------------------                3.6/5.7 MB 11.5 MB/s eta 0:00:01\n",
      "     -------------------------                3.6/5.7 MB 11.5 MB/s eta 0:00:01\n",
      "     -------------------------                3.6/5.7 MB 11.5 MB/s eta 0:00:01\n",
      "     -------------------------                3.6/5.7 MB 11.5 MB/s eta 0:00:01\n",
      "     -------------------------                3.6/5.7 MB 11.5 MB/s eta 0:00:01\n",
      "     -------------------------                3.6/5.7 MB 11.5 MB/s eta 0:00:01\n",
      "     -------------------------                3.6/5.7 MB 11.5 MB/s eta 0:00:01\n",
      "     -------------------------                3.6/5.7 MB 11.5 MB/s eta 0:00:01\n",
      "     -------------------------                3.6/5.7 MB 11.5 MB/s eta 0:00:01\n",
      "     --------------------------               3.8/5.7 MB 3.7 MB/s eta 0:00:01\n",
      "     -----------------------------            4.3/5.7 MB 4.0 MB/s eta 0:00:01\n",
      "     ---------------------------------        4.8/5.7 MB 4.3 MB/s eta 0:00:01\n",
      "     -------------------------------------    5.4/5.7 MB 4.6 MB/s eta 0:00:01\n",
      "     -------------------------------------    5.4/5.7 MB 4.6 MB/s eta 0:00:01\n",
      "     -------------------------------------    5.4/5.7 MB 4.6 MB/s eta 0:00:01\n",
      "     -------------------------------------    5.4/5.7 MB 4.6 MB/s eta 0:00:01\n",
      "     -------------------------------------    5.4/5.7 MB 4.6 MB/s eta 0:00:01\n",
      "     -------------------------------------    5.4/5.7 MB 4.6 MB/s eta 0:00:01\n",
      "     -------------------------------------    5.4/5.7 MB 4.6 MB/s eta 0:00:01\n",
      "     -------------------------------------    5.4/5.7 MB 4.6 MB/s eta 0:00:01\n",
      "     -------------------------------------    5.4/5.7 MB 4.6 MB/s eta 0:00:01\n",
      "     -------------------------------------    5.4/5.7 MB 4.6 MB/s eta 0:00:01\n",
      "     -------------------------------------    5.4/5.7 MB 4.6 MB/s eta 0:00:01\n",
      "     -------------------------------------    5.4/5.7 MB 4.6 MB/s eta 0:00:01\n",
      "     -------------------------------------    5.4/5.7 MB 4.6 MB/s eta 0:00:01\n",
      "     -------------------------------------    5.4/5.7 MB 4.6 MB/s eta 0:00:01\n",
      "     -------------------------------------    5.4/5.7 MB 4.6 MB/s eta 0:00:01\n",
      "     ---------------------------------------  5.7/5.7 MB 3.0 MB/s eta 0:00:01\n",
      "     ---------------------------------------  5.7/5.7 MB 3.1 MB/s eta 0:00:01\n",
      "     ---------------------------------------  5.7/5.7 MB 3.1 MB/s eta 0:00:01\n",
      "     ---------------------------------------- 5.7/5.7 MB 2.9 MB/s eta 0:00:00\n",
      "Collecting mpmath>=0.19 (from sympy)\n",
      "  Downloading mpmath-1.3.0-py3-none-any.whl (536 kB)\n",
      "                                              0.0/536.2 kB ? eta -:--:--\n",
      "     -----------------------------          419.8/536.2 kB 8.7 MB/s eta 0:00:01\n",
      "     -------------------------------------- 536.2/536.2 kB 6.7 MB/s eta 0:00:00\n",
      "Installing collected packages: mpmath, sympy\n",
      "Successfully installed mpmath-1.3.0 sympy-1.12\n",
      "Note: you may need to restart the kernel to use updated packages.\n"
     ]
    },
    {
     "name": "stderr",
     "output_type": "stream",
     "text": [
      "\n",
      "[notice] A new release of pip is available: 23.1.2 -> 23.3\n",
      "[notice] To update, run: python.exe -m pip install --upgrade pip\n"
     ]
    }
   ],
   "source": [
    "pip install sympy"
   ]
  },
  {
   "cell_type": "code",
   "execution_count": 7,
   "metadata": {},
   "outputs": [],
   "source": [
    "from sympy import *"
   ]
  },
  {
   "cell_type": "code",
   "execution_count": 6,
   "metadata": {},
   "outputs": [],
   "source": [
    "pip install pandas"
   ]
  },
  {
   "cell_type": "code",
   "execution_count": 8,
   "metadata": {},
   "outputs": [],
   "source": [
    "import pandas as pd \n"
   ]
  },
  {
   "attachments": {},
   "cell_type": "markdown",
   "metadata": {},
   "source": [
    "## exercicios "
   ]
  },
  {
   "cell_type": "code",
   "execution_count": 1,
   "metadata": {},
   "outputs": [
    {
     "name": "stdout",
     "output_type": "stream",
     "text": [
      "MARK\n",
      "JOHN\n",
      "MARIA\n",
      "CARLOS\n",
      "ANA\n"
     ]
    }
   ],
   "source": [
    "## Aula 9\n",
    "\n",
    "\n",
    "# Imprimir cada nome em maiusculas\n",
    "\n",
    "nomes = ['mark','john','maria','carlos','ana']\n",
    "\n",
    "for nome in nomes:\n",
    "    print(nome.upper())\n",
    "    "
   ]
  },
  {
   "cell_type": "code",
   "execution_count": 2,
   "metadata": {},
   "outputs": [
    {
     "name": "stdout",
     "output_type": "stream",
     "text": [
      "1\n",
      "1\n",
      "1\n",
      "1\n",
      "1\n"
     ]
    }
   ],
   "source": [
    "for i in range(1,6):\n",
    "    print(1**2)"
   ]
  },
  {
   "cell_type": "code",
   "execution_count": null,
   "metadata": {},
   "outputs": [],
   "source": [
    "# Calcula a soma dos primeiros 5 numeros interiros \n",
    "\n",
    "soma = 0\n",
    "\n",
    "for i in range(1,6)\n",
    "soma += i\n",
    "print(f\"A soma dos numeros interiros é:{soma}\")\n",
    "\n"
   ]
  },
  {
   "cell_type": "code",
   "execution_count": null,
   "metadata": {},
   "outputs": [],
   "source": [
    "lista_original = [1,2,3,4,5]\n",
    "nova_lista = []\n",
    "\n",
    "for elemento in lista_original:\n",
    "    nova_lista.append(elemento * 2)\n",
    "\n",
    "    print(f\"Lista original: {lista_original}\")\n",
    "    print(f\"Nova lista: {nova_lista}\")\n",
    "    "
   ]
  },
  {
   "cell_type": "code",
   "execution_count": null,
   "metadata": {},
   "outputs": [],
   "source": [
    "lista1 = [1,2,3,4]\n",
    "lista2 = [5,6,7,8]\n",
    "soma_elementos = []\n",
    "\n",
    "for i in range(len(lista1)):\n",
    "    soma_elementos.append(lista1[i] + lista2[i])\n",
    "\n",
    "print(f'A terceira lista é: {soma_elementos}')\n",
    "\n",
    "\n"
   ]
  },
  {
   "cell_type": "code",
   "execution_count": 23,
   "metadata": {},
   "outputs": [],
   "source": [
    "data = {\n",
    "        'indice': [0,1,2,3,4],\n",
    "        'numero 1': [1,2,3,4,5],\n",
    "        'numero 2': [4,3,5,1,9],\n",
    "        'texto 1': ['x','y','z','y','w']\n",
    "        }\n",
    "df = pd.DataFrame(data)\n",
    "\n"
   ]
  },
  {
   "cell_type": "code",
   "execution_count": 24,
   "metadata": {},
   "outputs": [
    {
     "data": {
      "text/html": [
       "<div>\n",
       "<style scoped>\n",
       "    .dataframe tbody tr th:only-of-type {\n",
       "        vertical-align: middle;\n",
       "    }\n",
       "\n",
       "    .dataframe tbody tr th {\n",
       "        vertical-align: top;\n",
       "    }\n",
       "\n",
       "    .dataframe thead th {\n",
       "        text-align: right;\n",
       "    }\n",
       "</style>\n",
       "<table border=\"1\" class=\"dataframe\">\n",
       "  <thead>\n",
       "    <tr style=\"text-align: right;\">\n",
       "      <th></th>\n",
       "      <th>indice</th>\n",
       "      <th>numero 1</th>\n",
       "      <th>numero 2</th>\n",
       "      <th>texto 1</th>\n",
       "    </tr>\n",
       "  </thead>\n",
       "  <tbody>\n",
       "    <tr>\n",
       "      <th>0</th>\n",
       "      <td>0</td>\n",
       "      <td>1</td>\n",
       "      <td>4</td>\n",
       "      <td>x</td>\n",
       "    </tr>\n",
       "    <tr>\n",
       "      <th>1</th>\n",
       "      <td>1</td>\n",
       "      <td>2</td>\n",
       "      <td>3</td>\n",
       "      <td>y</td>\n",
       "    </tr>\n",
       "    <tr>\n",
       "      <th>2</th>\n",
       "      <td>2</td>\n",
       "      <td>3</td>\n",
       "      <td>5</td>\n",
       "      <td>z</td>\n",
       "    </tr>\n",
       "    <tr>\n",
       "      <th>3</th>\n",
       "      <td>3</td>\n",
       "      <td>4</td>\n",
       "      <td>1</td>\n",
       "      <td>y</td>\n",
       "    </tr>\n",
       "    <tr>\n",
       "      <th>4</th>\n",
       "      <td>4</td>\n",
       "      <td>5</td>\n",
       "      <td>9</td>\n",
       "      <td>w</td>\n",
       "    </tr>\n",
       "  </tbody>\n",
       "</table>\n",
       "</div>"
      ],
      "text/plain": [
       "   indice  numero 1  numero 2 texto 1\n",
       "0       0         1         4       x\n",
       "1       1         2         3       y\n",
       "2       2         3         5       z\n",
       "3       3         4         1       y\n",
       "4       4         5         9       w"
      ]
     },
     "execution_count": 24,
     "metadata": {},
     "output_type": "execute_result"
    }
   ],
   "source": [
    "df"
   ]
  },
  {
   "attachments": {},
   "cell_type": "markdown",
   "metadata": {},
   "source": [
    "## Install\n"
   ]
  },
  {
   "cell_type": "code",
   "execution_count": 17,
   "metadata": {},
   "outputs": [
    {
     "name": "stdout",
     "output_type": "stream",
     "text": [
      "Requirement already satisfied: matplotlib in c:\\python311\\lib\\site-packages (3.8.0)\n",
      "Requirement already satisfied: contourpy>=1.0.1 in c:\\python311\\lib\\site-packages (from matplotlib) (1.1.1)\n",
      "Requirement already satisfied: cycler>=0.10 in c:\\python311\\lib\\site-packages (from matplotlib) (0.12.1)\n",
      "Requirement already satisfied: fonttools>=4.22.0 in c:\\python311\\lib\\site-packages (from matplotlib) (4.43.1)\n",
      "Requirement already satisfied: kiwisolver>=1.0.1 in c:\\python311\\lib\\site-packages (from matplotlib) (1.4.5)\n",
      "Requirement already satisfied: numpy<2,>=1.21 in c:\\python311\\lib\\site-packages (from matplotlib) (1.26.1)\n",
      "Requirement already satisfied: packaging>=20.0 in c:\\python311\\lib\\site-packages (from matplotlib) (23.1)\n",
      "Requirement already satisfied: pillow>=6.2.0 in c:\\python311\\lib\\site-packages (from matplotlib) (10.1.0)\n",
      "Requirement already satisfied: pyparsing>=2.3.1 in c:\\python311\\lib\\site-packages (from matplotlib) (3.1.1)\n",
      "Requirement already satisfied: python-dateutil>=2.7 in c:\\python311\\lib\\site-packages (from matplotlib) (2.8.2)\n",
      "Requirement already satisfied: six>=1.5 in c:\\python311\\lib\\site-packages (from python-dateutil>=2.7->matplotlib) (1.16.0)\n",
      "Note: you may need to restart the kernel to use updated packages.\n"
     ]
    },
    {
     "name": "stderr",
     "output_type": "stream",
     "text": [
      "\n",
      "[notice] A new release of pip is available: 23.1.2 -> 23.3\n",
      "[notice] To update, run: python.exe -m pip install --upgrade pip\n"
     ]
    }
   ],
   "source": [
    "pip install matplotlib\n"
   ]
  },
  {
   "cell_type": "code",
   "execution_count": 26,
   "metadata": {},
   "outputs": [],
   "source": [
    "# Plote de um grafico \n",
    "\n",
    "import matplotlib.pyplot as plt\n"
   ]
  },
  {
   "cell_type": "code",
   "execution_count": 27,
   "metadata": {},
   "outputs": [
    {
     "data": {
      "image/png": "[encoded data removed]",
      "text/plain": [
       "<Figure size 640x480 with 1 Axes>"
      ]
     },
     "metadata": {},
     "output_type": "display_data"
    }
   ],
   "source": [
    "# Definicao de x e y \n",
    "\n",
    "x = df['indice']\n",
    "y1 = df ['numero 1']\n",
    "y2 = df ['numero 2']\n",
    "\n",
    "plt.plot(x, y1)\n",
    "plt.title('y em funcao de x')\n",
    "plt.grid\n",
    "plt.legend(['var1','var2'])\n",
    "plt.show()\n",
    "\n"
   ]
  },
  {
   "cell_type": "code",
   "execution_count": 39,
   "metadata": {},
   "outputs": [
    {
     "data": {
      "text/html": [
       "<div>\n",
       "<style scoped>\n",
       "    .dataframe tbody tr th:only-of-type {\n",
       "        vertical-align: middle;\n",
       "    }\n",
       "\n",
       "    .dataframe tbody tr th {\n",
       "        vertical-align: top;\n",
       "    }\n",
       "\n",
       "    .dataframe thead th {\n",
       "        text-align: right;\n",
       "    }\n",
       "</style>\n",
       "<table border=\"1\" class=\"dataframe\">\n",
       "  <thead>\n",
       "    <tr style=\"text-align: right;\">\n",
       "      <th></th>\n",
       "      <th>indice</th>\n",
       "      <th>numero 1</th>\n",
       "      <th>numero 2</th>\n",
       "      <th>texto 1</th>\n",
       "      <th>media</th>\n",
       "      <th>media1</th>\n",
       "      <th>soma</th>\n",
       "    </tr>\n",
       "  </thead>\n",
       "  <tbody>\n",
       "    <tr>\n",
       "      <th>0</th>\n",
       "      <td>0</td>\n",
       "      <td>1</td>\n",
       "      <td>4</td>\n",
       "      <td>x</td>\n",
       "      <td>2.5</td>\n",
       "      <td>0</td>\n",
       "      <td>5</td>\n",
       "    </tr>\n",
       "    <tr>\n",
       "      <th>1</th>\n",
       "      <td>1</td>\n",
       "      <td>2</td>\n",
       "      <td>3</td>\n",
       "      <td>y</td>\n",
       "      <td>2.5</td>\n",
       "      <td>0</td>\n",
       "      <td>5</td>\n",
       "    </tr>\n",
       "    <tr>\n",
       "      <th>2</th>\n",
       "      <td>2</td>\n",
       "      <td>3</td>\n",
       "      <td>5</td>\n",
       "      <td>z</td>\n",
       "      <td>4.0</td>\n",
       "      <td>0</td>\n",
       "      <td>8</td>\n",
       "    </tr>\n",
       "    <tr>\n",
       "      <th>3</th>\n",
       "      <td>3</td>\n",
       "      <td>4</td>\n",
       "      <td>1</td>\n",
       "      <td>y</td>\n",
       "      <td>2.5</td>\n",
       "      <td>0</td>\n",
       "      <td>5</td>\n",
       "    </tr>\n",
       "    <tr>\n",
       "      <th>4</th>\n",
       "      <td>4</td>\n",
       "      <td>5</td>\n",
       "      <td>9</td>\n",
       "      <td>w</td>\n",
       "      <td>7.0</td>\n",
       "      <td>0</td>\n",
       "      <td>14</td>\n",
       "    </tr>\n",
       "  </tbody>\n",
       "</table>\n",
       "</div>"
      ],
      "text/plain": [
       "   indice  numero 1  numero 2 texto 1  media  media1  soma\n",
       "0       0         1         4       x    2.5       0     5\n",
       "1       1         2         3       y    2.5       0     5\n",
       "2       2         3         5       z    4.0       0     8\n",
       "3       3         4         1       y    2.5       0     5\n",
       "4       4         5         9       w    7.0       0    14"
      ]
     },
     "execution_count": 39,
     "metadata": {},
     "output_type": "execute_result"
    }
   ],
   "source": [
    "#Calcular a media \n",
    "\n",
    "df['media'] = (df['numero 1'] + df['numero 2']) / 2\n",
    "df"
   ]
  },
  {
   "cell_type": "code",
   "execution_count": 40,
   "metadata": {},
   "outputs": [],
   "source": [
    "df['soma'] = 0\n",
    "\n",
    "for index, row in df.iterrows():\n",
    "    df.at[index, 'soma'] = row['numero 1'] + row['numero 2']"
   ]
  },
  {
   "cell_type": "code",
   "execution_count": 41,
   "metadata": {},
   "outputs": [
    {
     "data": {
      "text/html": [
       "<div>\n",
       "<style scoped>\n",
       "    .dataframe tbody tr th:only-of-type {\n",
       "        vertical-align: middle;\n",
       "    }\n",
       "\n",
       "    .dataframe tbody tr th {\n",
       "        vertical-align: top;\n",
       "    }\n",
       "\n",
       "    .dataframe thead th {\n",
       "        text-align: right;\n",
       "    }\n",
       "</style>\n",
       "<table border=\"1\" class=\"dataframe\">\n",
       "  <thead>\n",
       "    <tr style=\"text-align: right;\">\n",
       "      <th></th>\n",
       "      <th>indice</th>\n",
       "      <th>numero 1</th>\n",
       "      <th>numero 2</th>\n",
       "      <th>texto 1</th>\n",
       "      <th>media</th>\n",
       "      <th>media1</th>\n",
       "      <th>soma</th>\n",
       "    </tr>\n",
       "  </thead>\n",
       "  <tbody>\n",
       "    <tr>\n",
       "      <th>0</th>\n",
       "      <td>0</td>\n",
       "      <td>1</td>\n",
       "      <td>4</td>\n",
       "      <td>x</td>\n",
       "      <td>2.5</td>\n",
       "      <td>0</td>\n",
       "      <td>5</td>\n",
       "    </tr>\n",
       "    <tr>\n",
       "      <th>1</th>\n",
       "      <td>1</td>\n",
       "      <td>2</td>\n",
       "      <td>3</td>\n",
       "      <td>y</td>\n",
       "      <td>2.5</td>\n",
       "      <td>0</td>\n",
       "      <td>5</td>\n",
       "    </tr>\n",
       "    <tr>\n",
       "      <th>2</th>\n",
       "      <td>2</td>\n",
       "      <td>3</td>\n",
       "      <td>5</td>\n",
       "      <td>z</td>\n",
       "      <td>4.0</td>\n",
       "      <td>0</td>\n",
       "      <td>8</td>\n",
       "    </tr>\n",
       "    <tr>\n",
       "      <th>3</th>\n",
       "      <td>3</td>\n",
       "      <td>4</td>\n",
       "      <td>1</td>\n",
       "      <td>y</td>\n",
       "      <td>2.5</td>\n",
       "      <td>0</td>\n",
       "      <td>5</td>\n",
       "    </tr>\n",
       "    <tr>\n",
       "      <th>4</th>\n",
       "      <td>4</td>\n",
       "      <td>5</td>\n",
       "      <td>9</td>\n",
       "      <td>w</td>\n",
       "      <td>7.0</td>\n",
       "      <td>0</td>\n",
       "      <td>14</td>\n",
       "    </tr>\n",
       "  </tbody>\n",
       "</table>\n",
       "</div>"
      ],
      "text/plain": [
       "   indice  numero 1  numero 2 texto 1  media  media1  soma\n",
       "0       0         1         4       x    2.5       0     5\n",
       "1       1         2         3       y    2.5       0     5\n",
       "2       2         3         5       z    4.0       0     8\n",
       "3       3         4         1       y    2.5       0     5\n",
       "4       4         5         9       w    7.0       0    14"
      ]
     },
     "execution_count": 41,
     "metadata": {},
     "output_type": "execute_result"
    }
   ],
   "source": [
    "df"
   ]
  }
 ],
 "metadata": {
  "kernelspec": {
   "display_name": "Python 3",
   "language": "python",
   "name": "python3"
  },
  "language_info": {
   "codemirror_mode": {
    "name": "ipython",
    "version": 3
   },
   "file_extension": ".py",
   "mimetype": "text/x-python",
   "name": "python",
   "nbconvert_exporter": "python",
   "pygments_lexer": "ipython3",
   "version": "3.11.4"
  },
  "orig_nbformat": 4
 },
 "nbformat": 4,
 "nbformat_minor": 2
}
