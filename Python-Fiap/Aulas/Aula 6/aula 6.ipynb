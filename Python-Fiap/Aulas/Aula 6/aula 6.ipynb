{
 "cells": [
  {
   "cell_type": "code",
   "execution_count": 1,
   "metadata": {},
   "outputs": [
    {
     "name": "stdout",
     "output_type": "stream",
     "text": [
      "2\n",
      "3\n",
      "4\n",
      "5\n",
      "6\n",
      "7\n",
      "8\n",
      "9\n",
      "10\n",
      "11\n",
      "12\n"
     ]
    }
   ],
   "source": [
    "fim = int(input(\"Digite o ultimo numero a imprimir: \"))\n",
    "x = 1\n",
    "while x <= fim:\n",
    "    x = x + 1\n",
    "    print(x)\n"
   ]
  },
  {
   "cell_type": "code",
   "execution_count": null,
   "metadata": {},
   "outputs": [],
   "source": [
    "1 = 1\n",
    "\n",
    "while 1 <= 10;\n",
    "    print(1)\n",
    "    1 += 1"
   ]
  },
  {
   "cell_type": "code",
   "execution_count": null,
   "metadata": {},
   "outputs": [],
   "source": [
    "lista1 = [10, 20, 30, 40, 50]\n",
    "\n",
    "nova_lista = reversed(lista1)\n",
    "\n",
    "for x in nova_lista\n",
    "print(x)"
   ]
  },
  {
   "cell_type": "code",
   "execution_count": null,
   "metadata": {},
   "outputs": [],
   "source": [
    "minha_lista = [10,20,30,40,50,60,70,80,90,100]\n",
    "\n",
    "for in minha_lista[1::2]:\n",
    "    print(i, end=\" \") "
   ]
  },
  {
   "cell_type": "code",
   "execution_count": null,
   "metadata": {},
   "outputs": [],
   "source": [
    "minha_lista - [23,45,12,10,25]\n",
    "\n",
    "1 = 0\n",
    "while len(minha_lista) < 10:\n",
    "    minha_lista.append(1)\n",
    "    1 += 1\n",
    "    if 1 == 5:\n",
    "print(minha_lista)\n"
   ]
  },
  {
   "cell_type": "code",
   "execution_count": null,
   "metadata": {},
   "outputs": [],
   "source": [
    "minha_lista - [23,45,12,10,25]\n",
    "\n",
    "1 = 0\n",
    "soma = 0\n",
    "\n",
    "while 1 < len(minha_lista):\n",
    "    soma += minha_lista\n",
    "    1 += 1\n",
    "print(soma)\n"
   ]
  },
  {
   "cell_type": "code",
   "execution_count": null,
   "metadata": {},
   "outputs": [],
   "source": [
    "#criar uma especie de tabuada \n",
    "\n",
    "a=5\n",
    "b=1\n",
    "\n",
    "while b <= 9:\n",
    "    print(\"%d *%d = %d\" %(a,b,a*b))\n",
    "    b += 1\n"
   ]
  },
  {
   "attachments": {},
   "cell_type": "markdown",
   "metadata": {},
   "source": [
    "## Criar algoritimo para gerar um atabuada personalizada, na qual o usuario insira um numero e um multiplo para gerar a tabuada "
   ]
  },
  {
   "cell_type": "code",
   "execution_count": null,
   "metadata": {},
   "outputs": [],
   "source": [
    "# Criar algoritimo para gerar um atabuada personalizada, na qual o usuario insira um numero \n",
    "# e um multiplo para gerar a tabuada "
   ]
  },
  {
   "cell_type": "code",
   "execution_count": 2,
   "metadata": {},
   "outputs": [
    {
     "name": "stdout",
     "output_type": "stream",
     "text": [
      "As letras sao engenharia de software\n",
      "As letras sao engenharia de software\n",
      "As letras sao engenharia de software\n",
      "As letras sao engenharia de software\n",
      "As letras sao engenharia de software\n"
     ]
    }
   ],
   "source": [
    "palavra = \"engenharia de software\"\n",
    "i=0\n",
    "while i < len(palavra):\n",
    "    if palavra [i] == \"e\" or palavra[i] == 'a':\n",
    "        i += 1\n",
    "        continue\n",
    "    print(\"As letras sao\", palavra)\n",
    "    i += i"
   ]
  },
  {
   "attachments": {},
   "cell_type": "markdown",
   "metadata": {},
   "source": [
    "## Criar um programa para corrigir um teste de multipla escolha com tres questoes. A resposta da primeira questao e b, da segunda e a, terceira e d, Para cada acerto trazer a pontuação final."
   ]
  },
  {
   "cell_type": "code",
   "execution_count": 4,
   "metadata": {},
   "outputs": [
    {
     "ename": "KeyboardInterrupt",
     "evalue": "Interrupted by user",
     "output_type": "error",
     "traceback": [
      "\u001b[1;31m---------------------------------------------------------------------------\u001b[0m",
      "\u001b[1;31mKeyboardInterrupt\u001b[0m                         Traceback (most recent call last)",
      "Cell \u001b[1;32mIn[4], line 3\u001b[0m\n\u001b[0;32m      1\u001b[0m contAceto \u001b[39m=\u001b[39m \u001b[39m0\u001b[39m\n\u001b[1;32m----> 3\u001b[0m resp1 \u001b[39m=\u001b[39m \u001b[39minput\u001b[39;49m(\u001b[39m'\u001b[39;49m\u001b[39mDigite a primeia resposta ceta a, b, c, d ou e : \u001b[39;49m\u001b[39m'\u001b[39;49m)\n\u001b[0;32m      5\u001b[0m \u001b[39mif\u001b[39;00m resp1 \u001b[39m==\u001b[39m \u001b[39m'\u001b[39m\u001b[39mb\u001b[39m\u001b[39m'\u001b[39m \u001b[39mor\u001b[39;00m resp1 \u001b[39m==\u001b[39m \u001b[39m'\u001b[39m\u001b[39mB\u001b[39m\u001b[39m'\u001b[39m:\n\u001b[0;32m      7\u001b[0m    contAceto \u001b[39m+\u001b[39m\u001b[39m=\u001b[39m \u001b[39m1\u001b[39m\n",
      "File \u001b[1;32mc:\\Python311\\Lib\\site-packages\\ipykernel\\kernelbase.py:1191\u001b[0m, in \u001b[0;36mKernel.raw_input\u001b[1;34m(self, prompt)\u001b[0m\n\u001b[0;32m   1189\u001b[0m     msg \u001b[39m=\u001b[39m \u001b[39m\"\u001b[39m\u001b[39mraw_input was called, but this frontend does not support input requests.\u001b[39m\u001b[39m\"\u001b[39m\n\u001b[0;32m   1190\u001b[0m     \u001b[39mraise\u001b[39;00m StdinNotImplementedError(msg)\n\u001b[1;32m-> 1191\u001b[0m \u001b[39mreturn\u001b[39;00m \u001b[39mself\u001b[39;49m\u001b[39m.\u001b[39;49m_input_request(\n\u001b[0;32m   1192\u001b[0m     \u001b[39mstr\u001b[39;49m(prompt),\n\u001b[0;32m   1193\u001b[0m     \u001b[39mself\u001b[39;49m\u001b[39m.\u001b[39;49m_parent_ident[\u001b[39m\"\u001b[39;49m\u001b[39mshell\u001b[39;49m\u001b[39m\"\u001b[39;49m],\n\u001b[0;32m   1194\u001b[0m     \u001b[39mself\u001b[39;49m\u001b[39m.\u001b[39;49mget_parent(\u001b[39m\"\u001b[39;49m\u001b[39mshell\u001b[39;49m\u001b[39m\"\u001b[39;49m),\n\u001b[0;32m   1195\u001b[0m     password\u001b[39m=\u001b[39;49m\u001b[39mFalse\u001b[39;49;00m,\n\u001b[0;32m   1196\u001b[0m )\n",
      "File \u001b[1;32mc:\\Python311\\Lib\\site-packages\\ipykernel\\kernelbase.py:1234\u001b[0m, in \u001b[0;36mKernel._input_request\u001b[1;34m(self, prompt, ident, parent, password)\u001b[0m\n\u001b[0;32m   1231\u001b[0m \u001b[39mexcept\u001b[39;00m \u001b[39mKeyboardInterrupt\u001b[39;00m:\n\u001b[0;32m   1232\u001b[0m     \u001b[39m# re-raise KeyboardInterrupt, to truncate traceback\u001b[39;00m\n\u001b[0;32m   1233\u001b[0m     msg \u001b[39m=\u001b[39m \u001b[39m\"\u001b[39m\u001b[39mInterrupted by user\u001b[39m\u001b[39m\"\u001b[39m\n\u001b[1;32m-> 1234\u001b[0m     \u001b[39mraise\u001b[39;00m \u001b[39mKeyboardInterrupt\u001b[39;00m(msg) \u001b[39mfrom\u001b[39;00m \u001b[39mNone\u001b[39;00m\n\u001b[0;32m   1235\u001b[0m \u001b[39mexcept\u001b[39;00m \u001b[39mException\u001b[39;00m:\n\u001b[0;32m   1236\u001b[0m     \u001b[39mself\u001b[39m\u001b[39m.\u001b[39mlog\u001b[39m.\u001b[39mwarning(\u001b[39m\"\u001b[39m\u001b[39mInvalid Message:\u001b[39m\u001b[39m\"\u001b[39m, exc_info\u001b[39m=\u001b[39m\u001b[39mTrue\u001b[39;00m)\n",
      "\u001b[1;31mKeyboardInterrupt\u001b[0m: Interrupted by user"
     ]
    }
   ],
   "source": [
    "cont = 0\n",
    "\n",
    "resp1 = input('Digite a primeia resposta ceta a, b, c, d: ')\n",
    "\n",
    "if resp1 == 'b' or resp1 == 'B':\n",
    "\n",
    "   cont += 1\n",
    "\n",
    "resp2 = input('Digite a segunda resposta ceta a, b, c, d: ')\n",
    "\n",
    "if resp2 == 'a' or resp2 == 'A':\n",
    "\n",
    "   cont += 1\n",
    "\n",
    "resp3 = input('Digite a terceira resposta  a, b, c, d :')\n",
    "\n",
    "if resp3 == 'd' or resp3 == 'D':\n",
    "\n",
    "   cont += 1\n",
    "\n",
    "print( \"voçe acetou \" + str(cont))"
   ]
  },
  {
   "cell_type": "code",
   "execution_count": null,
   "metadata": {},
   "outputs": [],
   "source": [
    "# correcao do professor\n",
    "\n",
    "respostas_corretas = [\"b\",\"a\",\"d\"]\n",
    "\n",
    "pontucao = 0\n",
    "questao_atual = 0 \n",
    "\n",
    "while questao_atual < 3:\n",
    "    resposta = input(\"resposta da questao\")\n",
    "    if resposta == respostas_corretas[questao_atual]:\n",
    "        pontucao += 1\n",
    "    print(f\"A pontucao sera: {pontucao}\")\n",
    "    questao_atual += 1"
   ]
  }
 ],
 "metadata": {
  "kernelspec": {
   "display_name": "Python 3",
   "language": "python",
   "name": "python3"
  },
  "language_info": {
   "codemirror_mode": {
    "name": "ipython",
    "version": 3
   },
   "file_extension": ".py",
   "mimetype": "text/x-python",
   "name": "python",
   "nbconvert_exporter": "python",
   "pygments_lexer": "ipython3",
   "version": "3.11.4"
  },
  "orig_nbformat": 4
 },
 "nbformat": 4,
 "nbformat_minor": 2
}
