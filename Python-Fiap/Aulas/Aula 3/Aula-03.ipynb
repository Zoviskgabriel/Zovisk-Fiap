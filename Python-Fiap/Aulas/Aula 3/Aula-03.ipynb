{
 "cells": [
  {
   "cell_type": "code",
   "execution_count": 1,
   "metadata": {},
   "outputs": [
    {
     "name": "stdout",
     "output_type": "stream",
     "text": [
      "Collecting sympy\n",
      "  Downloading sympy-1.12-py3-none-any.whl (5.7 MB)\n",
      "     ---------------------------------------- 0.0/5.7 MB ? eta -:--:--\n",
      "     - -------------------------------------- 0.2/5.7 MB 5.1 MB/s eta 0:00:02\n",
      "     -------- ------------------------------- 1.3/5.7 MB 16.1 MB/s eta 0:00:01\n",
      "     ---------------------- ----------------- 3.2/5.7 MB 25.6 MB/s eta 0:00:01\n",
      "     ---------------------------------------  5.7/5.7 MB 33.3 MB/s eta 0:00:01\n",
      "     ---------------------------------------- 5.7/5.7 MB 28.1 MB/s eta 0:00:00\n",
      "Collecting mpmath>=0.19 (from sympy)\n",
      "  Downloading mpmath-1.3.0-py3-none-any.whl (536 kB)\n",
      "     ---------------------------------------- 0.0/536.2 kB ? eta -:--:--\n",
      "     ------------------------------------- 536.2/536.2 kB 32.9 MB/s eta 0:00:00\n",
      "Installing collected packages: mpmath, sympy\n",
      "Successfully installed mpmath-1.3.0 sympy-1.12\n",
      "Note: you may need to restart the kernel to use updated packages.\n"
     ]
    }
   ],
   "source": [
    "pip install sympy\n"
   ]
  },
  {
   "cell_type": "code",
   "execution_count": 2,
   "metadata": {},
   "outputs": [],
   "source": [
    "from sympy import *"
   ]
  },
  {
   "cell_type": "code",
   "execution_count": 3,
   "metadata": {},
   "outputs": [
    {
     "data": {
      "text/plain": [
       "True"
      ]
     },
     "execution_count": 3,
     "metadata": {},
     "output_type": "execute_result"
    }
   ],
   "source": [
    "nota = 7\n",
    "media = 8\n",
    "\n",
    "nota != media"
   ]
  },
  {
   "cell_type": "code",
   "execution_count": 4,
   "metadata": {},
   "outputs": [
    {
     "name": "stdout",
     "output_type": "stream",
     "text": [
      "A media sera: 2.0\n",
      "Reprovado 2.0\n"
     ]
    }
   ],
   "source": [
    "materia_1 = float(input(\"Valor da primeira materia:\"))\n",
    "materia_2 = float(input(\"Valor da segunda materia:\"))\n",
    "materia_3 = float(input(\"Valor da terceira materia:\"))\n",
    "\n",
    "soma = [materia_1, materia_2, materia_3]\n",
    "\n",
    "media = sum(soma) / 3    \n",
    "print(\"A media sera:\", media)\n",
    "\n",
    "if media >= 7:\n",
    "    print(\"Aprovado\", media)\n",
    "\n",
    "else:\n",
    "    print (\"Reprovado\", media)\n",
    "\n"
   ]
  },
  {
   "cell_type": "code",
   "execution_count": 5,
   "metadata": {},
   "outputs": [
    {
     "data": {
      "text/plain": [
       "'Python'"
      ]
     },
     "execution_count": 5,
     "metadata": {},
     "output_type": "execute_result"
    }
   ],
   "source": [
    "s = 'Py'\n",
    "s + 'thon'"
   ]
  },
  {
   "cell_type": "code",
   "execution_count": 6,
   "metadata": {},
   "outputs": [
    {
     "data": {
      "text/plain": [
       "'Pythonéinterresante'"
      ]
     },
     "execution_count": 6,
     "metadata": {},
     "output_type": "execute_result"
    }
   ],
   "source": [
    "a = \"Python\"\n",
    "b = \"é\"\n",
    "c = \"interresante\"\n",
    "\n",
    "a + b + c"
   ]
  },
  {
   "cell_type": "code",
   "execution_count": null,
   "metadata": {},
   "outputs": [],
   "source": [
    "divida = 0 \n",
    "\n",
    "divida = divida + float(input(\"Valor_compra\"))\n",
    "\n",
    "divida = divida + float(input(\"Valor_compra\"))\n",
    "\n",
    "divida = divida + float(input(\"Valor_compra\"))\n",
    "\n",
    "divida = divida + float(input(\"Valor_compra\"))\n",
    "\n",
    "print (\"Total de compras: \", divida)"
   ]
  },
  {
   "attachments": {},
   "cell_type": "markdown",
   "metadata": {},
   "source": [
    "# Conversao da Entrada de dados"
   ]
  },
  {
   "cell_type": "code",
   "execution_count": 8,
   "metadata": {},
   "outputs": [
    {
     "name": "stdout",
     "output_type": "stream",
     "text": [
      "Voce digitou hh\n"
     ]
    }
   ],
   "source": [
    "nome = input(\"Digite seu nome\")\n",
    "print(f\"Voce digitou\", (nome))"
   ]
  },
  {
   "cell_type": "code",
   "execution_count": 7,
   "metadata": {},
   "outputs": [
    {
     "name": "stdout",
     "output_type": "stream",
     "text": [
      "o Valor do bonus sera: 6600.0\n"
     ]
    }
   ],
   "source": [
    "anos = int(input(\"Anos de trabalho\"))\n",
    "valor_por_ano = float(input(\"Valor por ano\"))\n",
    "bonus = anos * valor_por_ano\n",
    "\n",
    "print(f\"o Valor do bonus sera:\", anos * valor_por_ano)\n",
    "\n"
   ]
  }
 ],
 "metadata": {
  "kernelspec": {
   "display_name": "Python 3",
   "language": "python",
   "name": "python3"
  },
  "language_info": {
   "codemirror_mode": {
    "name": "ipython",
    "version": 3
   },
   "file_extension": ".py",
   "mimetype": "text/x-python",
   "name": "python",
   "nbconvert_exporter": "python",
   "pygments_lexer": "ipython3",
   "version": "3.11.5"
  },
  "orig_nbformat": 4
 },
 "nbformat": 4,
 "nbformat_minor": 2
}
