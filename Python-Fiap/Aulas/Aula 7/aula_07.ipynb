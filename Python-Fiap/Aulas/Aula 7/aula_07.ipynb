{
 "cells": [
  {
   "attachments": {},
   "cell_type": "markdown",
   "metadata": {},
   "source": [
    "# Setup"
   ]
  },
  {
   "cell_type": "code",
   "execution_count": null,
   "metadata": {},
   "outputs": [],
   "source": [
    "pip install sympy\n"
   ]
  },
  {
   "cell_type": "code",
   "execution_count": null,
   "metadata": {},
   "outputs": [],
   "source": [
    "pip install pandas"
   ]
  },
  {
   "cell_type": "code",
   "execution_count": null,
   "metadata": {},
   "outputs": [],
   "source": [
    "from sympy import *\n",
    "import pandas as pd"
   ]
  },
  {
   "attachments": {},
   "cell_type": "markdown",
   "metadata": {},
   "source": [
    "# Aula 7"
   ]
  },
  {
   "cell_type": "code",
   "execution_count": 4,
   "metadata": {},
   "outputs": [
    {
     "name": "stdout",
     "output_type": "stream",
     "text": [
      "[1, 2, 3, 4, 5, 6]\n"
     ]
    }
   ],
   "source": [
    "# Exemplo 1\n",
    "\n",
    "lista1 = [1, 2, 3]\n",
    "lista2 = [4, 5, 6]\n",
    "\n",
    "soma = lista1 + lista2\n",
    "print(soma)"
   ]
  },
  {
   "cell_type": "code",
   "execution_count": 5,
   "metadata": {},
   "outputs": [
    {
     "name": "stdout",
     "output_type": "stream",
     "text": [
      "[1, 2, 3, 4, 5, 6, 7, 8, 9]\n"
     ]
    }
   ],
   "source": [
    "lista1 = [1, 2, 3]\n",
    "lista2 = [4, 5, 6]\n",
    "lista3 = [7, 8, 9]\n",
    "\n",
    "soma = lista1 + lista2 + lista3\n",
    "print(soma)"
   ]
  },
  {
   "cell_type": "code",
   "execution_count": 6,
   "metadata": {},
   "outputs": [
    {
     "name": "stdout",
     "output_type": "stream",
     "text": [
      "[5, 7, 9]\n"
     ]
    }
   ],
   "source": [
    "# Exemplo 2\n",
    "\n",
    "lista1 = [1, 2, 3]\n",
    "lista2 = [4, 5, 6]\n",
    "\n",
    "# a + b -> somar valores da lista\n",
    "# for -> percorre o que está em a e b\n",
    "# zip -> Permite combinar os valores da lista\n",
    "combine = [a + b for a, b in zip(lista1, lista2)]\n",
    "print (combine)"
   ]
  },
  {
   "cell_type": "code",
   "execution_count": 7,
   "metadata": {},
   "outputs": [
    {
     "name": "stdout",
     "output_type": "stream",
     "text": [
      "{('Volvo', 180), ('Mitsubishi', 120), ('Honda', 134), ('BMW', 300)}\n"
     ]
    }
   ],
   "source": [
    "# Exemplo 3\n",
    "\n",
    "carro = ['Mitsubishi', 'Honda', 'Volvo', 'BMW']\n",
    "potencia = [120, 134, 180, 300]\n",
    "\n",
    "combine = set(zip(carro, potencia))\n",
    "print(combine)"
   ]
  },
  {
   "cell_type": "code",
   "execution_count": 36,
   "metadata": {},
   "outputs": [
    {
     "name": "stdout",
     "output_type": "stream",
     "text": [
      "0 Messi 36\n",
      "1 Zidane 51\n",
      "2 Ronaldo_Fenômeno 47\n"
     ]
    }
   ],
   "source": [
    "# Exemplo 4\n",
    "\n",
    "nomes = ['Messi', 'Zidane', 'Ronaldo_Fenômeno']\n",
    "idades = [36, 51, 47]\n",
    "\n",
    "for i, (nome, idade) in enumerate(zip(nomes, idades)):\n",
    "    print(i, nome, idade)"
   ]
  },
  {
   "cell_type": "code",
   "execution_count": 37,
   "metadata": {},
   "outputs": [
    {
     "name": "stdout",
     "output_type": "stream",
     "text": [
      "[(1, 'a', 'peixe'), (2, 'b', 'pássaro'), (3, 'c', 'répteis')]\n"
     ]
    }
   ],
   "source": [
    "# Exemplo 5\n",
    "\n",
    "lista1 = [1, 2, 3]\n",
    "lista2 = ['a', 'b', 'c']\n",
    "lista3 = ['peixe', 'pássaro', 'répteis']\n",
    "\n",
    "combine = list(zip(lista1, lista2, lista3))\n",
    "print(combine)"
   ]
  },
  {
   "cell_type": "code",
   "execution_count": 38,
   "metadata": {},
   "outputs": [
    {
     "name": "stdout",
     "output_type": "stream",
     "text": [
      "[(2, 'b'), (4, 'd')]\n"
     ]
    }
   ],
   "source": [
    "# Exemplo 6\n",
    "\n",
    "lista1 = [1, 2, 3, 4, 5]\n",
    "lista2 = ['a', 'b', 'c', 'd', 'e']\n",
    "\n",
    "combine = list(zip(lista1[1::2], lista2[1::2]))\n",
    "print (combine)"
   ]
  },
  {
   "cell_type": "code",
   "execution_count": 39,
   "metadata": {},
   "outputs": [
    {
     "name": "stdout",
     "output_type": "stream",
     "text": [
      "[(2, 'b'), (4, 'd')]\n"
     ]
    }
   ],
   "source": [
    "#Correção - Exemplo 6\n",
    "\n",
    "lista1 = [1, 2, 3, 4, 5]\n",
    "lista2 = ['a', 'b', 'c', 'd', 'e']\n",
    "\n",
    "combine = [(a,b) for a,b in zip(lista1, lista2) if a%2==0]\n",
    "print (combine)"
   ]
  },
  {
   "cell_type": "code",
   "execution_count": 40,
   "metadata": {},
   "outputs": [
    {
     "name": "stdout",
     "output_type": "stream",
     "text": [
      "[(3, 'c'), (4, 'd'), (5, 'e')]\n"
     ]
    }
   ],
   "source": [
    "# Exemplo 7\n",
    "\n",
    "lista1 = [1, 2, 3, 4, 5]\n",
    "lista2 = ['a', 'b', 'c', 'd', 'e']\n",
    "\n",
    "combine = [(a,b) for a,b in zip(lista1, lista2) if a>=3]\n",
    "print (combine)"
   ]
  },
  {
   "cell_type": "code",
   "execution_count": 48,
   "metadata": {},
   "outputs": [
    {
     "name": "stdout",
     "output_type": "stream",
     "text": [
      "[8, 12, 0]\n",
      "[9, 7, 13, 21, 25]\n"
     ]
    }
   ],
   "source": [
    "lista1 = [9, 8, 7, 12, 0, 13, 21, 25]\n",
    "lista_par = []\n",
    "lista_impar = []\n",
    "i = 0\n",
    "\n",
    "while i < len(lista1):\n",
    "    if lista1[i] %2 == 0:\n",
    "        lista_par.append(lista1[i])\n",
    "        i += 1\n",
    "    else:\n",
    "        lista_impar.append(lista1[i])\n",
    "        i += 1\n",
    "\n",
    "print(lista_par)\n",
    "print(lista_impar)"
   ]
  },
  {
   "cell_type": "code",
   "execution_count": 50,
   "metadata": {},
   "outputs": [
    {
     "name": "stdout",
     "output_type": "stream",
     "text": [
      "[('João', 45, 'Diabetes'), ('Pedro', 30, 'Diabetes')]\n"
     ]
    }
   ],
   "source": [
    "pacientes = ['João', 'Maria', 'Pedro', 'Ana']\n",
    "idades = [45, 60, 30, 50]\n",
    "condicoes = ['Diabetes', 'Hipertensão', 'Diabetes', 'asma']\n",
    "\n",
    "combine = [(a,b,c) for a,b,c in zip(pacientes, idades, condicoes) if c == 'Diabetes']\n",
    "print (combine)"
   ]
  },
  {
   "cell_type": "code",
   "execution_count": 51,
   "metadata": {},
   "outputs": [
    {
     "name": "stdout",
     "output_type": "stream",
     "text": [
      "[(1, 10), (2, 20), (3, 30), (4, 100), (5, 100)]\n"
     ]
    }
   ],
   "source": [
    "# Exemplo 7\n",
    "\n",
    "lista1 = [1, 2, 3, 4, 5]\n",
    "lista2 = [10, 20, 30]\n",
    "\n",
    "from itertools import zip_longest\n",
    "\n",
    "conbine = list(zip_longest(lista1, lista2, fillvalue = 100))\n",
    "print(conbine)"
   ]
  },
  {
   "cell_type": "code",
   "execution_count": 55,
   "metadata": {},
   "outputs": [
    {
     "name": "stdout",
     "output_type": "stream",
     "text": [
      "[('banana', 25.0), ('laranja', 6.0), ('uva', 6), ('maçã', 6), ('pera', 27.0)]\n"
     ]
    }
   ],
   "source": [
    "# Exemplo 8\n",
    "\n",
    "preco = [2.50, 1.20, 3, 2, 4.50]\n",
    "quantidades = [10, 5, 2, 3, 6]\n",
    "frutas = ['banana', 'laranja', 'uva', 'maçã', 'pera']\n",
    "\n",
    "valor = []\n",
    "i = 0\n",
    "\n",
    "while i < len(quantidades):\n",
    "    valor.append(preco[i]*quantidades[i])\n",
    "    i += 1\n",
    "\n",
    "combine = list(zip(frutas, valor))\n",
    "print(combine)"
   ]
  },
  {
   "cell_type": "code",
   "execution_count": 58,
   "metadata": {},
   "outputs": [
    {
     "name": "stdout",
     "output_type": "stream",
     "text": [
      "[('banana', 25.0), ('laranja', 6.0), ('uva', 6), ('maçã', 6), ('pera', 27.0)]\n"
     ]
    }
   ],
   "source": [
    "# Correção - Exemplo 8\n",
    "\n",
    "preco = [2.50, 1.20, 3, 2, 4.50]\n",
    "quantidades = [10, 5, 2, 3, 6]\n",
    "frutas = ['banana', 'laranja', 'uva', 'maçã', 'pera']\n",
    "\n",
    "combine = [(c,a*b) for a,b,c in zip(preco, quantidades, frutas)]\n",
    "print(combine)"
   ]
  }
 ],
 "metadata": {
  "kernelspec": {
   "display_name": "Python 3",
   "language": "python",
   "name": "python3"
  },
  "language_info": {
   "codemirror_mode": {
    "name": "ipython",
    "version": 3
   },
   "file_extension": ".py",
   "mimetype": "text/x-python",
   "name": "python",
   "nbconvert_exporter": "python",
   "pygments_lexer": "ipython3",
   "version": "3.11.4"
  },
  "orig_nbformat": 4
 },
 "nbformat": 4,
 "nbformat_minor": 2
}
