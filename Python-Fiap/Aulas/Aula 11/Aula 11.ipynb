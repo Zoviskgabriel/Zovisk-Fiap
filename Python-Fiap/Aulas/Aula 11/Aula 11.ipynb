{
 "cells": [
  {
   "attachments": {},
   "cell_type": "markdown",
   "metadata": {},
   "source": [
    "## SET\n"
   ]
  },
  {
   "cell_type": "code",
   "execution_count": 5,
   "metadata": {},
   "outputs": [
    {
     "name": "stdout",
     "output_type": "stream",
     "text": [
      "Collecting pandas\n",
      "  Downloading pandas-2.1.2-cp311-cp311-win_amd64.whl (10.6 MB)\n",
      "                                              0.0/10.6 MB ? eta -:--:--\n",
      "     -                                        0.5/10.6 MB 10.2 MB/s eta 0:00:01\n",
      "     ---                                      1.0/10.6 MB 10.9 MB/s eta 0:00:01\n",
      "     -----                                    1.6/10.6 MB 11.3 MB/s eta 0:00:01\n",
      "     ------                                   1.6/10.6 MB 11.6 MB/s eta 0:00:01\n",
      "     ------                                   1.6/10.6 MB 11.6 MB/s eta 0:00:01\n",
      "     ------                                   1.6/10.6 MB 11.6 MB/s eta 0:00:01\n",
      "     ------                                   1.6/10.6 MB 11.6 MB/s eta 0:00:01\n",
      "     ------                                   1.6/10.6 MB 11.6 MB/s eta 0:00:01\n",
      "     -------                                  1.9/10.6 MB 4.6 MB/s eta 0:00:02\n",
      "     ---------                                2.5/10.6 MB 5.3 MB/s eta 0:00:02\n",
      "     -----------                              3.0/10.6 MB 5.9 MB/s eta 0:00:02\n",
      "     -------------                            3.5/10.6 MB 6.3 MB/s eta 0:00:02\n",
      "     -------------                            3.5/10.6 MB 6.3 MB/s eta 0:00:02\n",
      "     -------------                            3.5/10.6 MB 6.3 MB/s eta 0:00:02\n",
      "     -------------                            3.5/10.6 MB 6.3 MB/s eta 0:00:02\n",
      "     -------------                            3.5/10.6 MB 6.3 MB/s eta 0:00:02\n",
      "     -------------                            3.5/10.6 MB 6.3 MB/s eta 0:00:02\n",
      "     -------------                            3.5/10.6 MB 6.3 MB/s eta 0:00:02\n",
      "     -------------                            3.5/10.6 MB 6.3 MB/s eta 0:00:02\n",
      "     -------------                            3.5/10.6 MB 6.3 MB/s eta 0:00:02\n",
      "     -------------                            3.5/10.6 MB 6.3 MB/s eta 0:00:02\n",
      "     -------------                            3.5/10.6 MB 6.3 MB/s eta 0:00:02\n",
      "     -------------                            3.5/10.6 MB 6.3 MB/s eta 0:00:02\n",
      "     -------------                            3.5/10.6 MB 6.3 MB/s eta 0:00:02\n",
      "     -------------                            3.5/10.6 MB 6.3 MB/s eta 0:00:02\n",
      "     -------------                            3.5/10.6 MB 6.3 MB/s eta 0:00:02\n",
      "     -------------                            3.7/10.6 MB 2.9 MB/s eta 0:00:03\n",
      "     ---------------                          4.2/10.6 MB 3.2 MB/s eta 0:00:03\n",
      "     -----------------                        4.8/10.6 MB 3.5 MB/s eta 0:00:02\n",
      "     --------------------                     5.3/10.6 MB 3.8 MB/s eta 0:00:02\n",
      "     --------------------                     5.3/10.6 MB 3.8 MB/s eta 0:00:02\n",
      "     --------------------                     5.3/10.6 MB 3.8 MB/s eta 0:00:02\n",
      "     --------------------                     5.3/10.6 MB 3.8 MB/s eta 0:00:02\n",
      "     --------------------                     5.3/10.6 MB 3.8 MB/s eta 0:00:02\n",
      "     --------------------                     5.3/10.6 MB 3.8 MB/s eta 0:00:02\n",
      "     --------------------                     5.3/10.6 MB 3.8 MB/s eta 0:00:02\n",
      "     --------------------                     5.3/10.6 MB 3.8 MB/s eta 0:00:02\n",
      "     --------------------                     5.3/10.6 MB 3.8 MB/s eta 0:00:02\n",
      "     --------------------                     5.3/10.6 MB 3.8 MB/s eta 0:00:02\n",
      "     --------------------                     5.3/10.6 MB 3.8 MB/s eta 0:00:02\n",
      "     --------------------                     5.3/10.6 MB 3.8 MB/s eta 0:00:02\n",
      "     --------------------                     5.3/10.6 MB 3.8 MB/s eta 0:00:02\n",
      "     --------------------                     5.3/10.6 MB 3.8 MB/s eta 0:00:02\n",
      "     --------------------                     5.3/10.6 MB 3.8 MB/s eta 0:00:02\n",
      "     --------------------                     5.3/10.6 MB 3.8 MB/s eta 0:00:02\n",
      "     ---------------------                    5.8/10.6 MB 2.7 MB/s eta 0:00:02\n",
      "     -----------------------                  6.3/10.6 MB 2.8 MB/s eta 0:00:02\n",
      "     -------------------------                6.8/10.6 MB 3.0 MB/s eta 0:00:02\n",
      "     --------------------------               7.2/10.6 MB 3.1 MB/s eta 0:00:02\n",
      "     --------------------------               7.2/10.6 MB 3.1 MB/s eta 0:00:02\n",
      "     --------------------------               7.2/10.6 MB 3.1 MB/s eta 0:00:02\n",
      "     --------------------------               7.2/10.6 MB 3.1 MB/s eta 0:00:02\n",
      "     --------------------------               7.2/10.6 MB 3.1 MB/s eta 0:00:02\n",
      "     --------------------------               7.2/10.6 MB 3.1 MB/s eta 0:00:02\n",
      "     --------------------------               7.2/10.6 MB 3.1 MB/s eta 0:00:02\n",
      "     --------------------------               7.2/10.6 MB 3.1 MB/s eta 0:00:02\n",
      "     --------------------------               7.2/10.6 MB 3.1 MB/s eta 0:00:02\n",
      "     --------------------------               7.2/10.6 MB 3.1 MB/s eta 0:00:02\n",
      "     --------------------------               7.2/10.6 MB 3.1 MB/s eta 0:00:02\n",
      "     --------------------------               7.2/10.6 MB 3.1 MB/s eta 0:00:02\n",
      "     --------------------------               7.2/10.6 MB 3.1 MB/s eta 0:00:02\n",
      "     --------------------------               7.2/10.6 MB 3.1 MB/s eta 0:00:02\n",
      "     --------------------------               7.2/10.6 MB 3.1 MB/s eta 0:00:02\n",
      "     ---------------------------              7.4/10.6 MB 2.5 MB/s eta 0:00:02\n",
      "     -----------------------------            7.9/10.6 MB 2.6 MB/s eta 0:00:02\n",
      "     ------------------------------           8.2/10.6 MB 2.6 MB/s eta 0:00:01\n",
      "     -------------------------------          8.5/10.6 MB 2.7 MB/s eta 0:00:01\n",
      "     ---------------------------------        8.8/10.6 MB 2.7 MB/s eta 0:00:01\n",
      "     ---------------------------------        9.0/10.6 MB 2.8 MB/s eta 0:00:01\n",
      "     ---------------------------------        9.0/10.6 MB 2.8 MB/s eta 0:00:01\n",
      "     ---------------------------------        9.0/10.6 MB 2.8 MB/s eta 0:00:01\n",
      "     ---------------------------------        9.0/10.6 MB 2.8 MB/s eta 0:00:01\n",
      "     ---------------------------------        9.0/10.6 MB 2.8 MB/s eta 0:00:01\n",
      "     ---------------------------------        9.0/10.6 MB 2.8 MB/s eta 0:00:01\n",
      "     ---------------------------------        9.0/10.6 MB 2.8 MB/s eta 0:00:01\n",
      "     ---------------------------------        9.0/10.6 MB 2.8 MB/s eta 0:00:01\n",
      "     ---------------------------------        9.0/10.6 MB 2.8 MB/s eta 0:00:01\n",
      "     ---------------------------------        9.0/10.6 MB 2.8 MB/s eta 0:00:01\n",
      "     ---------------------------------        9.0/10.6 MB 2.8 MB/s eta 0:00:01\n",
      "     ---------------------------------        9.0/10.6 MB 2.8 MB/s eta 0:00:01\n",
      "     ---------------------------------        9.0/10.6 MB 2.8 MB/s eta 0:00:01\n",
      "     ---------------------------------        9.0/10.6 MB 2.8 MB/s eta 0:00:01\n",
      "     ---------------------------------        9.0/10.6 MB 2.8 MB/s eta 0:00:01\n",
      "     ----------------------------------       9.1/10.6 MB 2.3 MB/s eta 0:00:01\n",
      "     -----------------------------------      9.4/10.6 MB 2.4 MB/s eta 0:00:01\n",
      "     ------------------------------------     9.7/10.6 MB 2.4 MB/s eta 0:00:01\n",
      "     -------------------------------------    10.1/10.6 MB 2.5 MB/s eta 0:00:01\n",
      "     ---------------------------------------  10.6/10.6 MB 2.5 MB/s eta 0:00:01\n",
      "     ---------------------------------------  10.6/10.6 MB 2.5 MB/s eta 0:00:01\n",
      "     ---------------------------------------  10.6/10.6 MB 2.5 MB/s eta 0:00:01\n",
      "     ---------------------------------------  10.6/10.6 MB 2.5 MB/s eta 0:00:01\n",
      "     ---------------------------------------  10.6/10.6 MB 2.5 MB/s eta 0:00:01\n",
      "     ---------------------------------------  10.6/10.6 MB 2.5 MB/s eta 0:00:01\n",
      "     ---------------------------------------  10.6/10.6 MB 2.5 MB/s eta 0:00:01\n",
      "     ---------------------------------------  10.6/10.6 MB 2.5 MB/s eta 0:00:01\n",
      "     ---------------------------------------  10.6/10.6 MB 2.5 MB/s eta 0:00:01\n",
      "     ---------------------------------------  10.6/10.6 MB 2.5 MB/s eta 0:00:01\n",
      "     ---------------------------------------  10.6/10.6 MB 2.5 MB/s eta 0:00:01\n",
      "     ---------------------------------------- 10.6/10.6 MB 2.2 MB/s eta 0:00:00\n",
      "Collecting numpy<2,>=1.23.2 (from pandas)\n",
      "  Downloading numpy-1.26.1-cp311-cp311-win_amd64.whl (15.8 MB)\n",
      "                                              0.0/15.8 MB ? eta -:--:--\n",
      "     -                                        0.4/15.8 MB 13.1 MB/s eta 0:00:02\n",
      "     --                                       1.0/15.8 MB 12.1 MB/s eta 0:00:02\n",
      "     ---                                      1.3/15.8 MB 10.4 MB/s eta 0:00:02\n",
      "     ----                                     1.9/15.8 MB 10.2 MB/s eta 0:00:02\n",
      "     ------                                   2.4/15.8 MB 10.4 MB/s eta 0:00:02\n",
      "     -------                                  2.9/15.8 MB 10.3 MB/s eta 0:00:02\n",
      "     --------                                 3.2/15.8 MB 9.8 MB/s eta 0:00:02\n",
      "     --------                                 3.4/15.8 MB 9.7 MB/s eta 0:00:02\n",
      "     --------                                 3.4/15.8 MB 9.7 MB/s eta 0:00:02\n",
      "     --------                                 3.4/15.8 MB 9.7 MB/s eta 0:00:02\n",
      "     --------                                 3.4/15.8 MB 9.7 MB/s eta 0:00:02\n",
      "     --------                                 3.4/15.8 MB 9.7 MB/s eta 0:00:02\n",
      "     --------                                 3.4/15.8 MB 9.7 MB/s eta 0:00:02\n",
      "     --------                                 3.4/15.8 MB 9.7 MB/s eta 0:00:02\n",
      "     --------                                 3.4/15.8 MB 9.7 MB/s eta 0:00:02\n",
      "     --------                                 3.4/15.8 MB 9.7 MB/s eta 0:00:02\n",
      "     --------                                 3.4/15.8 MB 9.7 MB/s eta 0:00:02\n",
      "     --------                                 3.4/15.8 MB 9.7 MB/s eta 0:00:02\n",
      "     --------                                 3.4/15.8 MB 9.7 MB/s eta 0:00:02\n",
      "     --------                                 3.4/15.8 MB 9.7 MB/s eta 0:00:02\n",
      "     --------                                 3.4/15.8 MB 9.7 MB/s eta 0:00:02\n",
      "     --------                                 3.4/15.8 MB 3.3 MB/s eta 0:00:04\n",
      "     --------                                 3.4/15.8 MB 3.2 MB/s eta 0:00:04\n",
      "     --------                                 3.4/15.8 MB 3.0 MB/s eta 0:00:05\n",
      "     ---------                                3.7/15.8 MB 3.1 MB/s eta 0:00:04\n",
      "     ----------                               4.1/15.8 MB 3.3 MB/s eta 0:00:04\n",
      "     -----------                              4.5/15.8 MB 3.6 MB/s eta 0:00:04\n",
      "     ------------                             5.0/15.8 MB 3.7 MB/s eta 0:00:03\n",
      "     -------------                            5.2/15.8 MB 3.9 MB/s eta 0:00:03\n",
      "     -------------                            5.2/15.8 MB 3.9 MB/s eta 0:00:03\n",
      "     -------------                            5.2/15.8 MB 3.9 MB/s eta 0:00:03\n",
      "     -------------                            5.2/15.8 MB 3.9 MB/s eta 0:00:03\n",
      "     -------------                            5.2/15.8 MB 3.9 MB/s eta 0:00:03\n",
      "     -------------                            5.3/15.8 MB 3.3 MB/s eta 0:00:04\n",
      "     --------------                           5.6/15.8 MB 3.4 MB/s eta 0:00:03\n",
      "     ---------------                          6.0/15.8 MB 3.5 MB/s eta 0:00:03\n",
      "     ----------------                         6.5/15.8 MB 3.7 MB/s eta 0:00:03\n",
      "     -----------------                        6.7/15.8 MB 3.7 MB/s eta 0:00:03\n",
      "     -----------------                        7.0/15.8 MB 3.8 MB/s eta 0:00:03\n",
      "     -----------------                        7.0/15.8 MB 3.8 MB/s eta 0:00:03\n",
      "     -----------------                        7.0/15.8 MB 3.8 MB/s eta 0:00:03\n",
      "     -----------------                        7.0/15.8 MB 3.8 MB/s eta 0:00:03\n",
      "     -----------------                        7.0/15.8 MB 3.8 MB/s eta 0:00:03\n",
      "     -----------------                        7.0/15.8 MB 3.8 MB/s eta 0:00:03\n",
      "     -----------------                        7.0/15.8 MB 3.8 MB/s eta 0:00:03\n",
      "     -----------------                        7.0/15.8 MB 3.8 MB/s eta 0:00:03\n",
      "     -----------------                        7.0/15.8 MB 3.8 MB/s eta 0:00:03\n",
      "     -----------------                        7.0/15.8 MB 3.8 MB/s eta 0:00:03\n",
      "     -----------------                        7.0/15.8 MB 3.8 MB/s eta 0:00:03\n",
      "     -----------------                        7.0/15.8 MB 3.8 MB/s eta 0:00:03\n",
      "     -----------------                        7.0/15.8 MB 3.8 MB/s eta 0:00:03\n",
      "     -----------------                        7.0/15.8 MB 3.8 MB/s eta 0:00:03\n",
      "     -----------------                        7.0/15.8 MB 3.8 MB/s eta 0:00:03\n",
      "     ------------------                       7.2/15.8 MB 2.8 MB/s eta 0:00:04\n",
      "     ------------------                       7.4/15.8 MB 2.9 MB/s eta 0:00:03\n",
      "     -------------------                      7.6/15.8 MB 2.9 MB/s eta 0:00:03\n",
      "     --------------------                     7.9/15.8 MB 2.9 MB/s eta 0:00:03\n",
      "     --------------------                     8.2/15.8 MB 3.0 MB/s eta 0:00:03\n",
      "     ---------------------                    8.6/15.8 MB 3.1 MB/s eta 0:00:03\n",
      "     ----------------------                   8.9/15.8 MB 3.1 MB/s eta 0:00:03\n",
      "     ----------------------                   8.9/15.8 MB 3.1 MB/s eta 0:00:03\n",
      "     ----------------------                   8.9/15.8 MB 3.1 MB/s eta 0:00:03\n",
      "     ----------------------                   8.9/15.8 MB 3.1 MB/s eta 0:00:03\n",
      "     ----------------------                   8.9/15.8 MB 3.1 MB/s eta 0:00:03\n",
      "     ----------------------                   8.9/15.8 MB 3.1 MB/s eta 0:00:03\n",
      "     -----------------------                  9.1/15.8 MB 2.9 MB/s eta 0:00:03\n",
      "     -----------------------                  9.5/15.8 MB 3.0 MB/s eta 0:00:03\n",
      "     ------------------------                 9.9/15.8 MB 3.1 MB/s eta 0:00:02\n",
      "     --------------------------               10.3/15.8 MB 3.1 MB/s eta 0:00:02\n",
      "     ---------------------------              10.7/15.8 MB 3.1 MB/s eta 0:00:02\n",
      "     ---------------------------              10.7/15.8 MB 3.1 MB/s eta 0:00:02\n",
      "     ---------------------------              10.7/15.8 MB 3.1 MB/s eta 0:00:02\n",
      "     ---------------------------              10.7/15.8 MB 3.1 MB/s eta 0:00:02\n",
      "     ---------------------------              10.7/15.8 MB 3.1 MB/s eta 0:00:02\n",
      "     ---------------------------              10.7/15.8 MB 3.1 MB/s eta 0:00:02\n",
      "     ---------------------------              10.7/15.8 MB 3.1 MB/s eta 0:00:02\n",
      "     ---------------------------              10.7/15.8 MB 3.1 MB/s eta 0:00:02\n",
      "     ---------------------------              10.7/15.8 MB 3.1 MB/s eta 0:00:02\n",
      "     ---------------------------              10.7/15.8 MB 3.1 MB/s eta 0:00:02\n",
      "     ---------------------------              10.7/15.8 MB 3.1 MB/s eta 0:00:02\n",
      "     ---------------------------              10.7/15.8 MB 3.1 MB/s eta 0:00:02\n",
      "     ---------------------------              10.7/15.8 MB 3.1 MB/s eta 0:00:02\n",
      "     ---------------------------              10.7/15.8 MB 3.1 MB/s eta 0:00:02\n",
      "     ---------------------------              10.7/15.8 MB 3.1 MB/s eta 0:00:02\n",
      "     ---------------------------              10.8/15.8 MB 2.6 MB/s eta 0:00:02\n",
      "     ----------------------------             11.1/15.8 MB 2.6 MB/s eta 0:00:02\n",
      "     -----------------------------            11.6/15.8 MB 2.6 MB/s eta 0:00:02\n",
      "     ------------------------------           12.2/15.8 MB 2.6 MB/s eta 0:00:02\n",
      "     -------------------------------          12.6/15.8 MB 2.6 MB/s eta 0:00:02\n",
      "     -------------------------------          12.6/15.8 MB 2.6 MB/s eta 0:00:02\n",
      "     -------------------------------          12.6/15.8 MB 2.6 MB/s eta 0:00:02\n",
      "     -------------------------------          12.6/15.8 MB 2.6 MB/s eta 0:00:02\n",
      "     -------------------------------          12.6/15.8 MB 2.6 MB/s eta 0:00:02\n",
      "     -------------------------------          12.6/15.8 MB 2.6 MB/s eta 0:00:02\n",
      "     -------------------------------          12.6/15.8 MB 2.6 MB/s eta 0:00:02\n",
      "     -------------------------------          12.6/15.8 MB 2.6 MB/s eta 0:00:02\n",
      "     -------------------------------          12.6/15.8 MB 2.6 MB/s eta 0:00:02\n",
      "     -------------------------------          12.6/15.8 MB 2.6 MB/s eta 0:00:02\n",
      "     -------------------------------          12.6/15.8 MB 2.6 MB/s eta 0:00:02\n",
      "     -------------------------------          12.6/15.8 MB 2.6 MB/s eta 0:00:02\n",
      "     -------------------------------          12.6/15.8 MB 2.6 MB/s eta 0:00:02\n",
      "     -------------------------------          12.6/15.8 MB 2.6 MB/s eta 0:00:02\n",
      "     --------------------------------         12.6/15.8 MB 2.2 MB/s eta 0:00:02\n",
      "     ---------------------------------        13.0/15.8 MB 2.2 MB/s eta 0:00:02\n",
      "     ----------------------------------       13.5/15.8 MB 2.2 MB/s eta 0:00:02\n",
      "     -----------------------------------      14.0/15.8 MB 2.7 MB/s eta 0:00:01\n",
      "     ------------------------------------     14.4/15.8 MB 2.7 MB/s eta 0:00:01\n",
      "     ------------------------------------     14.4/15.8 MB 2.7 MB/s eta 0:00:01\n",
      "     ------------------------------------     14.4/15.8 MB 2.7 MB/s eta 0:00:01\n",
      "     ------------------------------------     14.4/15.8 MB 2.7 MB/s eta 0:00:01\n",
      "     ------------------------------------     14.4/15.8 MB 2.7 MB/s eta 0:00:01\n",
      "     ------------------------------------     14.4/15.8 MB 2.7 MB/s eta 0:00:01\n",
      "     ------------------------------------     14.4/15.8 MB 2.7 MB/s eta 0:00:01\n",
      "     ------------------------------------     14.4/15.8 MB 2.7 MB/s eta 0:00:01\n",
      "     ------------------------------------     14.4/15.8 MB 2.7 MB/s eta 0:00:01\n",
      "     ------------------------------------     14.4/15.8 MB 2.7 MB/s eta 0:00:01\n",
      "     ------------------------------------     14.4/15.8 MB 2.7 MB/s eta 0:00:01\n",
      "     ------------------------------------     14.4/15.8 MB 2.7 MB/s eta 0:00:01\n",
      "     ------------------------------------     14.4/15.8 MB 2.7 MB/s eta 0:00:01\n",
      "     ------------------------------------     14.4/15.8 MB 2.7 MB/s eta 0:00:01\n",
      "     ------------------------------------     14.4/15.8 MB 2.7 MB/s eta 0:00:01\n",
      "     -------------------------------------    14.6/15.8 MB 2.3 MB/s eta 0:00:01\n",
      "     --------------------------------------   15.0/15.8 MB 2.3 MB/s eta 0:00:01\n",
      "     ---------------------------------------  15.5/15.8 MB 2.4 MB/s eta 0:00:01\n",
      "     ---------------------------------------  15.8/15.8 MB 2.4 MB/s eta 0:00:01\n",
      "     ---------------------------------------  15.8/15.8 MB 2.4 MB/s eta 0:00:01\n",
      "     ---------------------------------------  15.8/15.8 MB 2.4 MB/s eta 0:00:01\n",
      "     ---------------------------------------  15.8/15.8 MB 2.4 MB/s eta 0:00:01\n",
      "     ---------------------------------------  15.8/15.8 MB 2.4 MB/s eta 0:00:01\n",
      "     ---------------------------------------  15.8/15.8 MB 2.4 MB/s eta 0:00:01\n",
      "     ---------------------------------------  15.8/15.8 MB 2.4 MB/s eta 0:00:01\n",
      "     ---------------------------------------  15.8/15.8 MB 2.4 MB/s eta 0:00:01\n",
      "     ---------------------------------------  15.8/15.8 MB 2.4 MB/s eta 0:00:01\n",
      "     ---------------------------------------  15.8/15.8 MB 2.4 MB/s eta 0:00:01\n",
      "     ---------------------------------------  15.8/15.8 MB 2.4 MB/s eta 0:00:01\n",
      "     ---------------------------------------- 15.8/15.8 MB 2.1 MB/s eta 0:00:00\n",
      "Requirement already satisfied: python-dateutil>=2.8.2 in c:\\python311\\lib\\site-packages (from pandas) (2.8.2)\n",
      "Collecting pytz>=2020.1 (from pandas)\n",
      "  Downloading pytz-2023.3.post1-py2.py3-none-any.whl (502 kB)\n",
      "                                              0.0/502.5 kB ? eta -:--:--\n",
      "     ---------------------------------     450.6/502.5 kB 13.8 MB/s eta 0:00:01\n",
      "     ------------------------------------  501.8/502.5 kB 10.5 MB/s eta 0:00:01\n",
      "     -------------------------------------- 502.5/502.5 kB 5.2 MB/s eta 0:00:00\n",
      "Collecting tzdata>=2022.1 (from pandas)\n",
      "  Using cached tzdata-2023.3-py2.py3-none-any.whl (341 kB)\n",
      "Requirement already satisfied: six>=1.5 in c:\\python311\\lib\\site-packages (from python-dateutil>=2.8.2->pandas) (1.16.0)\n",
      "Installing collected packages: pytz, tzdata, numpy, pandas\n",
      "Successfully installed numpy-1.26.1 pandas-2.1.2 pytz-2023.3.post1 tzdata-2023.3\n",
      "Note: you may need to restart the kernel to use updated packages.\n"
     ]
    },
    {
     "name": "stderr",
     "output_type": "stream",
     "text": [
      "\n",
      "[notice] A new release of pip is available: 23.1.2 -> 23.3.1\n",
      "[notice] To update, run: python.exe -m pip install --upgrade pip\n"
     ]
    }
   ],
   "source": [
    "pip install pandas"
   ]
  },
  {
   "cell_type": "code",
   "execution_count": 4,
   "metadata": {},
   "outputs": [
    {
     "name": "stdout",
     "output_type": "stream",
     "text": [
      "Collecting sympy\n",
      "  Downloading sympy-1.12-py3-none-any.whl (5.7 MB)\n",
      "                                              0.0/5.7 MB ? eta -:--:--\n",
      "     --                                       0.4/5.7 MB 7.6 MB/s eta 0:00:01\n",
      "     -------                                  1.1/5.7 MB 9.8 MB/s eta 0:00:01\n",
      "     -----------                              1.6/5.7 MB 10.4 MB/s eta 0:00:01\n",
      "     -------------                            1.9/5.7 MB 11.0 MB/s eta 0:00:01\n",
      "     -------------                            1.9/5.7 MB 11.0 MB/s eta 0:00:01\n",
      "     -------------                            1.9/5.7 MB 11.0 MB/s eta 0:00:01\n",
      "     -------------                            1.9/5.7 MB 11.0 MB/s eta 0:00:01\n",
      "     -------------                            1.9/5.7 MB 11.0 MB/s eta 0:00:01\n",
      "     -------------                            1.9/5.7 MB 11.0 MB/s eta 0:00:01\n",
      "     -------------                            1.9/5.7 MB 11.0 MB/s eta 0:00:01\n",
      "     -------------                            1.9/5.7 MB 11.0 MB/s eta 0:00:01\n",
      "     -------------                            1.9/5.7 MB 11.0 MB/s eta 0:00:01\n",
      "     -------------                            1.9/5.7 MB 11.0 MB/s eta 0:00:01\n",
      "     -------------                            1.9/5.7 MB 11.0 MB/s eta 0:00:01\n",
      "     -------------                            1.9/5.7 MB 11.0 MB/s eta 0:00:01\n",
      "     -------------                            1.9/5.7 MB 11.0 MB/s eta 0:00:01\n",
      "     -------------                            1.9/5.7 MB 11.0 MB/s eta 0:00:01\n",
      "     -------------                            2.0/5.7 MB 2.3 MB/s eta 0:00:02\n",
      "     -----------------                        2.6/5.7 MB 2.9 MB/s eta 0:00:02\n",
      "     ---------------------                    3.1/5.7 MB 3.3 MB/s eta 0:00:01\n",
      "     -------------------------                3.7/5.7 MB 3.7 MB/s eta 0:00:01\n",
      "     --------------------------               3.7/5.7 MB 3.7 MB/s eta 0:00:01\n",
      "     --------------------------               3.7/5.7 MB 3.7 MB/s eta 0:00:01\n",
      "     --------------------------               3.7/5.7 MB 3.7 MB/s eta 0:00:01\n",
      "     --------------------------               3.7/5.7 MB 3.7 MB/s eta 0:00:01\n",
      "     --------------------------               3.7/5.7 MB 3.7 MB/s eta 0:00:01\n",
      "     --------------------------               3.7/5.7 MB 3.7 MB/s eta 0:00:01\n",
      "     --------------------------               3.7/5.7 MB 3.7 MB/s eta 0:00:01\n",
      "     --------------------------               3.7/5.7 MB 3.7 MB/s eta 0:00:01\n",
      "     --------------------------               3.7/5.7 MB 3.7 MB/s eta 0:00:01\n",
      "     --------------------------               3.7/5.7 MB 3.7 MB/s eta 0:00:01\n",
      "     --------------------------               3.7/5.7 MB 3.7 MB/s eta 0:00:01\n",
      "     --------------------------               3.7/5.7 MB 3.7 MB/s eta 0:00:01\n",
      "     --------------------------               3.7/5.7 MB 3.7 MB/s eta 0:00:01\n",
      "     --------------------------               3.7/5.7 MB 3.7 MB/s eta 0:00:01\n",
      "     ----------------------------             4.1/5.7 MB 2.4 MB/s eta 0:00:01\n",
      "     --------------------------------         4.7/5.7 MB 2.7 MB/s eta 0:00:01\n",
      "     ------------------------------------     5.2/5.7 MB 2.9 MB/s eta 0:00:01\n",
      "     --------------------------------------   5.6/5.7 MB 3.1 MB/s eta 0:00:01\n",
      "     --------------------------------------   5.6/5.7 MB 3.1 MB/s eta 0:00:01\n",
      "     --------------------------------------   5.6/5.7 MB 3.1 MB/s eta 0:00:01\n",
      "     --------------------------------------   5.6/5.7 MB 3.1 MB/s eta 0:00:01\n",
      "     --------------------------------------   5.6/5.7 MB 3.1 MB/s eta 0:00:01\n",
      "     --------------------------------------   5.6/5.7 MB 3.1 MB/s eta 0:00:01\n",
      "     --------------------------------------   5.6/5.7 MB 3.1 MB/s eta 0:00:01\n",
      "     --------------------------------------   5.6/5.7 MB 3.1 MB/s eta 0:00:01\n",
      "     --------------------------------------   5.6/5.7 MB 3.1 MB/s eta 0:00:01\n",
      "     --------------------------------------   5.6/5.7 MB 3.1 MB/s eta 0:00:01\n",
      "     --------------------------------------   5.6/5.7 MB 3.1 MB/s eta 0:00:01\n",
      "     --------------------------------------   5.6/5.7 MB 3.1 MB/s eta 0:00:01\n",
      "     --------------------------------------   5.6/5.7 MB 3.1 MB/s eta 0:00:01\n",
      "     --------------------------------------   5.6/5.7 MB 3.1 MB/s eta 0:00:01\n",
      "     ---------------------------------------  5.7/5.7 MB 2.3 MB/s eta 0:00:01\n",
      "     ---------------------------------------  5.7/5.7 MB 2.3 MB/s eta 0:00:01\n",
      "     ---------------------------------------  5.7/5.7 MB 2.3 MB/s eta 0:00:01\n",
      "     ---------------------------------------- 5.7/5.7 MB 2.2 MB/s eta 0:00:00\n",
      "Collecting mpmath>=0.19 (from sympy)\n",
      "  Downloading mpmath-1.3.0-py3-none-any.whl (536 kB)\n",
      "                                              0.0/536.2 kB ? eta -:--:--\n",
      "     -------------------------------       460.8/536.2 kB 14.1 MB/s eta 0:00:01\n",
      "     -------------------------------------- 536.2/536.2 kB 6.7 MB/s eta 0:00:00\n",
      "Installing collected packages: mpmath, sympy\n",
      "Successfully installed mpmath-1.3.0 sympy-1.12\n",
      "Note: you may need to restart the kernel to use updated packages.\n"
     ]
    },
    {
     "name": "stderr",
     "output_type": "stream",
     "text": [
      "\n",
      "[notice] A new release of pip is available: 23.1.2 -> 23.3.1\n",
      "[notice] To update, run: python.exe -m pip install --upgrade pip\n"
     ]
    }
   ],
   "source": [
    "pip install sympy"
   ]
  },
  {
   "cell_type": "code",
   "execution_count": 11,
   "metadata": {},
   "outputs": [],
   "source": [
    "from sympy import *\n",
    "import pandas as pd"
   ]
  },
  {
   "attachments": {},
   "cell_type": "markdown",
   "metadata": {},
   "source": [
    "## Aula 10 "
   ]
  },
  {
   "cell_type": "code",
   "execution_count": null,
   "metadata": {},
   "outputs": [],
   "source": [
    "# def descrição do nome(argumento opcional):\n",
    "\n",
    "# \"\"\"Documentação.\"\"\"\n",
    "\n",
    "# Seu codigo\n",
    "\n",
    "# Seu codigo\n",
    "\n",
    "# Seu codigo\n",
    "\n",
    "\n",
    "\n",
    "def calcular(A,B):\n",
    "    \n",
    "    soma = A + B\n",
    "\n",
    "    return soma \n",
    "\n",
    "calcular (1,2)"
   ]
  },
  {
   "cell_type": "code",
   "execution_count": 15,
   "metadata": {},
   "outputs": [
    {
     "name": "stdout",
     "output_type": "stream",
     "text": [
      "11\n"
     ]
    }
   ],
   "source": [
    "# Retornando uma função em python\n",
    "\n",
    "def soma(a,b):\n",
    "    return a + b\n",
    "print(soma(2,9)) "
   ]
  },
  {
   "cell_type": "code",
   "execution_count": null,
   "metadata": {},
   "outputs": [],
   "source": [
    "##Função de subtração \n",
    "\n",
    "def sub(a,b):\n",
    "    return a - b\n",
    "print(sub(5,2))"
   ]
  },
  {
   "cell_type": "code",
   "execution_count": 34,
   "metadata": {},
   "outputs": [
    {
     "name": "stdout",
     "output_type": "stream",
     "text": [
      "12\n"
     ]
    }
   ],
   "source": [
    "# Função de multiplicaçao \n",
    "\n",
    "def multip(a,b):\n",
    "    return a * b\n",
    "print(multip(3,4))"
   ]
  },
  {
   "cell_type": "code",
   "execution_count": 50,
   "metadata": {},
   "outputs": [
    {
     "ename": "TypeError",
     "evalue": "soma() takes 1 positional argument but 2 were given",
     "output_type": "error",
     "traceback": [
      "\u001b[1;31m---------------------------------------------------------------------------\u001b[0m",
      "\u001b[1;31mTypeError\u001b[0m                                 Traceback (most recent call last)",
      "Cell \u001b[1;32mIn[50], line 5\u001b[0m\n\u001b[0;32m      3\u001b[0m \u001b[39mdef\u001b[39;00m \u001b[39mdivisao\u001b[39m(a,b):\n\u001b[0;32m      4\u001b[0m     \u001b[39mreturn\u001b[39;00m a \u001b[39m/\u001b[39m b\n\u001b[1;32m----> 5\u001b[0m \u001b[39mprint\u001b[39m(soma(\u001b[39m24\u001b[39;49m,\u001b[39m8\u001b[39;49m)) \n",
      "\u001b[1;31mTypeError\u001b[0m: soma() takes 1 positional argument but 2 were given"
     ]
    }
   ],
   "source": [
    "# Função de divisão\n",
    "\n",
    "def divisao(a,b):\n",
    "    return a / b\n",
    "print(soma(24,8)) "
   ]
  },
  {
   "attachments": {},
   "cell_type": "markdown",
   "metadata": {},
   "source": [
    "## Exercicio "
   ]
  },
  {
   "cell_type": "code",
   "execution_count": 17,
   "metadata": {},
   "outputs": [
    {
     "data": {
      "text/plain": [
       "25.0"
      ]
     },
     "execution_count": 17,
     "metadata": {},
     "output_type": "execute_result"
    }
   ],
   "source": [
    "# Criar função para área de um quadrado \n",
    "\n",
    "def area_do_quadrado(lado):\n",
    "    area = lado ** 2\n",
    "    return area \n",
    "\n",
    "lado = float(input(\"Insira o valor do lado quadrado\"))\n",
    "\n",
    "area_do_quadrado(lado)"
   ]
  },
  {
   "cell_type": "code",
   "execution_count": 16,
   "metadata": {},
   "outputs": [
    {
     "name": "stdout",
     "output_type": "stream",
     "text": [
      "True\n",
      "False\n",
      "True\n"
     ]
    }
   ],
   "source": [
    "# Função para trazer a palavra par ou impar \n",
    "\n",
    "def par(x):\n",
    "    return x % 2 == 0\n",
    "print(par(2))\n",
    "print(par(3))\n",
    "print(par(10))"
   ]
  },
  {
   "cell_type": "code",
   "execution_count": null,
   "metadata": {},
   "outputs": [],
   "source": [
    "def soma (a, b, imprime=False):\n",
    "    s = a + b \n",
    "    if imprime:\n",
    "        print(s)\n",
    "    return s \n",
    "\n",
    "soma(5, 8, False)"
   ]
  },
  {
   "cell_type": "code",
   "execution_count": 18,
   "metadata": {},
   "outputs": [
    {
     "name": "stdout",
     "output_type": "stream",
     "text": [
      "par\n",
      "impar\n"
     ]
    }
   ],
   "source": [
    "def par(x):\n",
    "    return x % 2 == 0\n",
    "\n",
    "def par_ou_impar(x):\n",
    "    if par(x):\n",
    "        return \"par\"\n",
    "    else:\n",
    "        return \"impar\"\n",
    "\n",
    "print(par_ou_impar(4))\n",
    "print(par_ou_impar(5))\n"
   ]
  },
  {
   "cell_type": "code",
   "execution_count": 19,
   "metadata": {},
   "outputs": [
    {
     "name": "stdout",
     "output_type": "stream",
     "text": [
      "0\n",
      "0\n"
     ]
    }
   ],
   "source": [
    "def pesquise(lista,valor):\n",
    "    for x, i in enumerate(lista):\n",
    "        if i == valor:\n",
    "            return x\n",
    "    return None \n",
    "\n",
    "L =[10,20,25,30]\n",
    "\n",
    "print(pesquise(L,10))\n",
    "print(pesquise(L,10))"
   ]
  },
  {
   "cell_type": "code",
   "execution_count": null,
   "metadata": {},
   "outputs": [],
   "source": [
    "L =[10,20,25,30]\n",
    "\n",
    "def soma(L):\n",
    "    total = 0\n",
    "    for i in L:\n",
    "        total += i\n",
    "    return total\n",
    "\n",
    "def Media(L):\n",
    "    return soma(L)/len(L)"
   ]
  },
  {
   "attachments": {},
   "cell_type": "markdown",
   "metadata": {},
   "source": [
    "## Exercicios "
   ]
  },
  {
   "cell_type": "code",
   "execution_count": 30,
   "metadata": {},
   "outputs": [
    {
     "name": "stdout",
     "output_type": "stream",
     "text": [
      "270\n",
      "30.0\n"
     ]
    }
   ],
   "source": [
    "# 1. Calcular valores da lista usando função def \n",
    "valores = [10, 15, 20, 25, 30, 35, 40, 45, 50]\n",
    "\n",
    "def soma(valores):\n",
    "    total = 0\n",
    "    for i in valores:\n",
    "        total += i\n",
    "    return total\n",
    "print(soma(valores))\n",
    "\n",
    "def Media(valores):\n",
    "    return soma(valores)/len(valores)\n",
    "print(Media(valores))\n",
    "\n",
    "# 2. Crie uma função para calcular a força em Newton de acordo com os valores de entrada da massa e aceleração \n",
    "# inseridos pelo usuario.\n",
    "\n",
    "# 3. Escreva uma função que receba a base e a altura de um triangulo e retorne suas área (A= (base x altura)/ 2).\n",
    "\n",
    "# 4. Crie uma função para calcular o volume de um cubo com os valores de largura, altura e comprimento que \n",
    "# devem ser inseridos pelo usuario.\n",
    "\n",
    "# 5. Crie uma função para calcular a area de uma sla, O usuariode inserir as dimensoes em metros 2   \n",
    " "
   ]
  },
  {
   "cell_type": "code",
   "execution_count": 48,
   "metadata": {},
   "outputs": [
    {
     "name": "stdout",
     "output_type": "stream",
     "text": [
      "A força será: 200.0 N\n"
     ]
    }
   ],
   "source": [
    "# 2. Crie uma função para calcular a força em Newton de acordo com os valores de entrada da massa e aceleração \n",
    "# inseridos pelo usuario.\n",
    "\n",
    "def forca(massa, aceleracao):\n",
    "    return massa * aceleracao\n",
    "\n",
    "massa = float(input(\"Insira a massa\"))\n",
    "aceleracao = float(input(\"Insira a aceleracao\"))\n",
    "\n",
    "print(\"A força será:\", forca(massa, aceleracao),\"N\")\n",
    "\n"
   ]
  },
  {
   "cell_type": "code",
   "execution_count": 53,
   "metadata": {},
   "outputs": [
    {
     "name": "stdout",
     "output_type": "stream",
     "text": [
      "A area é: 450.0\n"
     ]
    }
   ],
   "source": [
    "# 3. Escreva uma função que receba a base e a altura de um triangulo e retorne suas área (A= (base x altura)/ 2).\n",
    "\n",
    "def triangulo(base,altura):\n",
    "    return base * altura / 2\n",
    "\n",
    "base = float(input(\"Insira a base\"))\n",
    "altura = float(input(\"Insira a altura\"))\n",
    "\n",
    "print(\"A area é:\",triangulo(base,altura))"
   ]
  },
  {
   "cell_type": "code",
   "execution_count": 59,
   "metadata": {},
   "outputs": [
    {
     "name": "stdout",
     "output_type": "stream",
     "text": [
      "O volume do cubo é 125\n"
     ]
    }
   ],
   "source": [
    "# 4. Crie uma função para calcular o volume de um cubo com os valores de largura, altura e comprimento que \n",
    "# devem ser inseridos pelo usuario.\n",
    "\n",
    "def cubo(largura, altura, comprimento):\n",
    "    return largura * altura * comprimento\n",
    "\n",
    "largura = int(input(\"Insira a largura do cubo\"))\n",
    "altura = int(input(\"Insira altura do cubo\"))\n",
    "comprimento = int(input(\"Insira o comprimento do cubo\"))\n",
    "\n",
    "print(\"O volume do cubo é\", cubo(largura, altura, comprimento))"
   ]
  },
  {
   "cell_type": "code",
   "execution_count": 61,
   "metadata": {},
   "outputs": [],
   "source": [
    "# 5. Crie uma função para calcular a area de uma sala, O usuario deve inserir as dimensoes em metros^2   \n",
    "\n",
    "def area(parede, teto):\n",
    "    return parede * teto\n",
    "\n",
    "parede = int(input(\"Insira a dimensao\"))\n",
    "teto = int(input(\"Insira a dimensao\"))\n",
    "\n",
    "print(\"Area da sala é \",area(parede, teto))"
   ]
  }
 ],
 "metadata": {
  "kernelspec": {
   "display_name": "Python 3",
   "language": "python",
   "name": "python3"
  },
  "language_info": {
   "codemirror_mode": {
    "name": "ipython",
    "version": 3
   },
   "file_extension": ".py",
   "mimetype": "text/x-python",
   "name": "python",
   "nbconvert_exporter": "python",
   "pygments_lexer": "ipython3",
   "version": "3.11.4"
  },
  "orig_nbformat": 4
 },
 "nbformat": 4,
 "nbformat_minor": 2
}
