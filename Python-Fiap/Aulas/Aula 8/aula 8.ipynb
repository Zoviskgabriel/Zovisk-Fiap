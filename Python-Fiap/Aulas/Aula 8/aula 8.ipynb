{
 "cells": [
  {
   "attachments": {},
   "cell_type": "markdown",
   "metadata": {},
   "source": [
    "## Installs\n"
   ]
  },
  {
   "cell_type": "code",
   "execution_count": 3,
   "metadata": {},
   "outputs": [],
   "source": [
    "from sympy import *"
   ]
  },
  {
   "cell_type": "code",
   "execution_count": 4,
   "metadata": {},
   "outputs": [
    {
     "name": "stdout",
     "output_type": "stream",
     "text": [
      "Requirement already satisfied: sympy in c:\\users\\3628\\appdata\\local\\packages\\pythonsoftwarefoundation.python.3.11_qbz5n2kfra8p0\\localcache\\local-packages\\python311\\site-packages (1.12)\n",
      "Requirement already satisfied: mpmath>=0.19 in c:\\users\\3628\\appdata\\local\\packages\\pythonsoftwarefoundation.python.3.11_qbz5n2kfra8p0\\localcache\\local-packages\\python311\\site-packages (from sympy) (1.3.0)\n",
      "Note: you may need to restart the kernel to use updated packages.\n"
     ]
    }
   ],
   "source": [
    "pip install sympy"
   ]
  },
  {
   "cell_type": "code",
   "execution_count": 5,
   "metadata": {},
   "outputs": [
    {
     "name": "stdout",
     "output_type": "stream",
     "text": [
      "Collecting pandas\n",
      "  Obtaining dependency information for pandas from https://files.pythonhosted.org/packages/2d/5e/9213ea10ac473e2437dc2cb17323ddc0999997e2713d6a0b683b10773994/pandas-2.1.1-cp311-cp311-win_amd64.whl.metadata\n",
      "  Downloading pandas-2.1.1-cp311-cp311-win_amd64.whl.metadata (18 kB)\n",
      "Collecting numpy>=1.23.2 (from pandas)\n",
      "  Obtaining dependency information for numpy>=1.23.2 from https://files.pythonhosted.org/packages/93/fd/3f826c6d15d3bdcf65b8031e4835c52b7d9c45add25efa2314b53850e1a2/numpy-1.26.0-cp311-cp311-win_amd64.whl.metadata\n",
      "  Downloading numpy-1.26.0-cp311-cp311-win_amd64.whl.metadata (61 kB)\n",
      "     ---------------------------------------- 0.0/61.1 kB ? eta -:--:--\n",
      "     ---------------------------------------- 61.1/61.1 kB 3.4 MB/s eta 0:00:00\n",
      "Requirement already satisfied: python-dateutil>=2.8.2 in c:\\users\\3628\\appdata\\local\\packages\\pythonsoftwarefoundation.python.3.11_qbz5n2kfra8p0\\localcache\\local-packages\\python311\\site-packages (from pandas) (2.8.2)\n",
      "Collecting pytz>=2020.1 (from pandas)\n",
      "  Obtaining dependency information for pytz>=2020.1 from https://files.pythonhosted.org/packages/32/4d/aaf7eff5deb402fd9a24a1449a8119f00d74ae9c2efa79f8ef9994261fc2/pytz-2023.3.post1-py2.py3-none-any.whl.metadata\n",
      "  Downloading pytz-2023.3.post1-py2.py3-none-any.whl.metadata (22 kB)\n",
      "Collecting tzdata>=2022.1 (from pandas)\n",
      "  Downloading tzdata-2023.3-py2.py3-none-any.whl (341 kB)\n",
      "     ---------------------------------------- 0.0/341.8 kB ? eta -:--:--\n",
      "     ------------------------------------- 341.8/341.8 kB 10.7 MB/s eta 0:00:00\n",
      "Requirement already satisfied: six>=1.5 in c:\\users\\3628\\appdata\\local\\packages\\pythonsoftwarefoundation.python.3.11_qbz5n2kfra8p0\\localcache\\local-packages\\python311\\site-packages (from python-dateutil>=2.8.2->pandas) (1.16.0)\n",
      "Downloading pandas-2.1.1-cp311-cp311-win_amd64.whl (10.6 MB)\n",
      "   ---------------------------------------- 0.0/10.6 MB ? eta -:--:--\n",
      "   - -------------------------------------- 0.4/10.6 MB 11.6 MB/s eta 0:00:01\n",
      "   --- ------------------------------------ 1.0/10.6 MB 12.1 MB/s eta 0:00:01\n",
      "   ----- ---------------------------------- 1.6/10.6 MB 12.5 MB/s eta 0:00:01\n",
      "   -------- ------------------------------- 2.3/10.6 MB 13.3 MB/s eta 0:00:01\n",
      "   ----------- ---------------------------- 3.0/10.6 MB 13.6 MB/s eta 0:00:01\n",
      "   ------------- -------------------------- 3.6/10.6 MB 13.5 MB/s eta 0:00:01\n",
      "   ---------------- ----------------------- 4.3/10.6 MB 13.1 MB/s eta 0:00:01\n",
      "   ------------------ --------------------- 5.0/10.6 MB 13.8 MB/s eta 0:00:01\n",
      "   --------------------- ------------------ 5.7/10.6 MB 14.1 MB/s eta 0:00:01\n",
      "   ------------------------ --------------- 6.4/10.6 MB 13.6 MB/s eta 0:00:01\n",
      "   -------------------------- ------------- 7.1/10.6 MB 14.2 MB/s eta 0:00:01\n",
      "   ----------------------------- ---------- 7.7/10.6 MB 13.7 MB/s eta 0:00:01\n",
      "   -------------------------------- ------- 8.5/10.6 MB 14.3 MB/s eta 0:00:01\n",
      "   ----------------------------------- ---- 9.5/10.6 MB 14.7 MB/s eta 0:00:01\n",
      "   ---------------------------------------  10.5/10.6 MB 15.6 MB/s eta 0:00:01\n",
      "   ---------------------------------------- 10.6/10.6 MB 14.9 MB/s eta 0:00:00\n",
      "Downloading numpy-1.26.0-cp311-cp311-win_amd64.whl (15.8 MB)\n",
      "   ---------------------------------------- 0.0/15.8 MB ? eta -:--:--\n",
      "   - -------------------------------------- 0.8/15.8 MB 24.8 MB/s eta 0:00:01\n",
      "   ----- ---------------------------------- 2.0/15.8 MB 25.5 MB/s eta 0:00:01\n",
      "   -------- ------------------------------- 3.3/15.8 MB 26.1 MB/s eta 0:00:01\n",
      "   ----------- ---------------------------- 4.5/15.8 MB 25.8 MB/s eta 0:00:01\n",
      "   -------------- ------------------------- 5.6/15.8 MB 25.4 MB/s eta 0:00:01\n",
      "   ----------------- ---------------------- 6.8/15.8 MB 25.4 MB/s eta 0:00:01\n",
      "   -------------------- ------------------- 8.2/15.8 MB 26.3 MB/s eta 0:00:01\n",
      "   ----------------------- ---------------- 9.4/15.8 MB 26.1 MB/s eta 0:00:01\n",
      "   --------------------------- ------------ 10.9/15.8 MB 27.3 MB/s eta 0:00:01\n",
      "   ------------------------------- -------- 12.4/15.8 MB 28.5 MB/s eta 0:00:01\n",
      "   ----------------------------------- ---- 14.1/15.8 MB 29.7 MB/s eta 0:00:01\n",
      "   -------------------------------------- - 15.0/15.8 MB 28.5 MB/s eta 0:00:01\n",
      "   ---------------------------------------  15.8/15.8 MB 28.5 MB/s eta 0:00:01\n",
      "   ---------------------------------------- 15.8/15.8 MB 25.2 MB/s eta 0:00:00\n",
      "Downloading pytz-2023.3.post1-py2.py3-none-any.whl (502 kB)\n",
      "   ---------------------------------------- 0.0/502.5 kB ? eta -:--:--\n",
      "   --------------------------------------- 502.5/502.5 kB 15.9 MB/s eta 0:00:00\n",
      "Installing collected packages: pytz, tzdata, numpy, pandas\n",
      "Successfully installed numpy-1.26.0 pandas-2.1.1 pytz-2023.3.post1 tzdata-2023.3\n",
      "Note: you may need to restart the kernel to use updated packages.\n"
     ]
    }
   ],
   "source": [
    "pip install pandas\n"
   ]
  },
  {
   "attachments": {},
   "cell_type": "markdown",
   "metadata": {},
   "source": [
    "## Aula"
   ]
  },
  {
   "cell_type": "code",
   "execution_count": null,
   "metadata": {},
   "outputs": [],
   "source": [
    "for x in range(1,10):\n",
    "    for y in range(1,10):\n",
    "        print(x*y)"
   ]
  },
  {
   "cell_type": "code",
   "execution_count": null,
   "metadata": {},
   "outputs": [],
   "source": [
    "for i in range (2,4):\n",
    "    for j in range(1,11):\n",
    "        if i == j:\n",
    "            break\n",
    "        print(i*j)\n",
    "        "
   ]
  },
  {
   "cell_type": "code",
   "execution_count": null,
   "metadata": {},
   "outputs": [],
   "source": [
    "numeros = [10,11,15,18,20]\n",
    "\n",
    "min = min(numeros)\n",
    "min"
   ]
  },
  {
   "cell_type": "code",
   "execution_count": null,
   "metadata": {},
   "outputs": [],
   "source": [
    "max = max(numeros)\n",
    "max"
   ]
  },
  {
   "cell_type": "code",
   "execution_count": 6,
   "metadata": {},
   "outputs": [],
   "source": [
    "from statistics import mean, median\n",
    "\n",
    "numeros = [10,11,15,18,20]\n",
    "\n",
    "media = mean(numeros)\n",
    "mediana = median(numeros)\n",
    "\n",
    "media \n",
    "mediana "
   ]
  },
  {
   "cell_type": "code",
   "execution_count": 8,
   "metadata": {},
   "outputs": [
    {
     "data": {
      "text/plain": [
       "5"
      ]
     },
     "execution_count": 8,
     "metadata": {},
     "output_type": "execute_result"
    }
   ],
   "source": [
    "len(numeros)"
   ]
  },
  {
   "cell_type": "code",
   "execution_count": 7,
   "metadata": {},
   "outputs": [
    {
     "name": "stdout",
     "output_type": "stream",
     "text": [
      "1\n",
      "3\n",
      "5\n"
     ]
    }
   ],
   "source": [
    "for i in range (1,6,2):\n",
    "    print(i)"
   ]
  },
  {
   "cell_type": "code",
   "execution_count": 9,
   "metadata": {},
   "outputs": [
    {
     "name": "stdout",
     "output_type": "stream",
     "text": [
      "74\n"
     ]
    }
   ],
   "source": [
    "numeros = [10,11,15,18,20]\n",
    "\n",
    "soma = sum(numeros)\n",
    "print(soma)"
   ]
  },
  {
   "cell_type": "code",
   "execution_count": 10,
   "metadata": {},
   "outputs": [
    {
     "data": {
      "text/plain": [
       "45"
      ]
     },
     "execution_count": 10,
     "metadata": {},
     "output_type": "execute_result"
    }
   ],
   "source": [
    "numeros[0] + numeros[4] + numeros[2]"
   ]
  },
  {
   "cell_type": "code",
   "execution_count": 11,
   "metadata": {},
   "outputs": [
    {
     "name": "stdout",
     "output_type": "stream",
     "text": [
      "-54\n",
      "74\n"
     ]
    }
   ],
   "source": [
    "from functools import reduce\n",
    "from operator import sub, add\n",
    "\n",
    "numeros = [10,11,15,18,20]\n",
    "\n",
    "[-1,15,18,20]\n",
    "[-16,18,20]\n",
    "\n",
    "resultado1 = reduce(sub, numeros)\n",
    "resultado2 = reduce(add, numeros)\n",
    "\n",
    "print(resultado1)\n",
    "print(resultado2)"
   ]
  },
  {
   "cell_type": "code",
   "execution_count": 12,
   "metadata": {},
   "outputs": [
    {
     "name": "stdout",
     "output_type": "stream",
     "text": [
      "5\n",
      "8\n",
      "12\n"
     ]
    }
   ],
   "source": [
    "soma = 0 \n",
    "for x in [i,2,3,4]:\n",
    "    if x == 2:\n",
    "        continue\n",
    "    soma += x \n",
    "    print(soma)\n",
    "    "
   ]
  },
  {
   "cell_type": "code",
   "execution_count": 14,
   "metadata": {},
   "outputs": [
    {
     "name": "stdout",
     "output_type": "stream",
     "text": [
      "[2.25, 1.6, 1.3, 2.6999999999999997]\n"
     ]
    }
   ],
   "source": [
    "#Exercicio media \n",
    "\n",
    "\n",
    "notas = [7.5, 8, 6.5, 9]\n",
    "peso = [ 0.3, 0.2, 0.2, 0.3]\n",
    "aluno = [ \"a\",\"b\",\"c\",\"d\"]\n",
    "\n",
    "media = [a * b for a,b,c in zip(notas, peso, aluno)]\n",
    "\n",
    "print(media)"
   ]
  },
  {
   "cell_type": "code",
   "execution_count": null,
   "metadata": {},
   "outputs": [],
   "source": [
    "#Crie listas de nomes e notas \n",
    "\n",
    "notas = [7.5, 8, 6.5, 9]\n",
    "peso = [ 0.3, 0.2, 0.2, 0.3]\n",
    "\n",
    "\n",
    "# Use a funcao zip para combinar nomes e notas "
   ]
  },
  {
   "cell_type": "code",
   "execution_count": 2,
   "metadata": {},
   "outputs": [],
   "source": [
    "# Crie um algoritimo para gerar senhas aleatorias para o usuario \n",
    "\n",
    "# - O usuario deve escolher as letas, os numeros e a senha devera ser gerada, \n",
    "# de forma aleatoria com as letras e numeros escolhidos pelo usuario\n",
    "\n",
    "\n",
    "# letras = abc \n",
    "# numeros = 123\n",
    "\n",
    "# C1B3A2\n",
    "\n",
    "\n",
    "#-----------------------------------------------\n",
    "\n",
    "# letras = str(input('Escolha letras A,B e C'))\n",
    "# numeros = int(input('Escolha os numeros'))\n",
    "\n",
    "# lista = []\n",
    "# combinar = zip(letras, numeros)\n",
    "# print(combinar)\n",
    "\n",
    "\n",
    "\n",
    "\n",
    "from sympy import *\n",
    "\n",
    "\n",
    "\n",
    "\n",
    "\n",
    "\n"
   ]
  }
 ],
 "metadata": {
  "kernelspec": {
   "display_name": "Python 3",
   "language": "python",
   "name": "python3"
  },
  "language_info": {
   "codemirror_mode": {
    "name": "ipython",
    "version": 3
   },
   "file_extension": ".py",
   "mimetype": "text/x-python",
   "name": "python",
   "nbconvert_exporter": "python",
   "pygments_lexer": "ipython3",
   "version": "3.11.5"
  },
  "orig_nbformat": 4
 },
 "nbformat": 4,
 "nbformat_minor": 2
}
