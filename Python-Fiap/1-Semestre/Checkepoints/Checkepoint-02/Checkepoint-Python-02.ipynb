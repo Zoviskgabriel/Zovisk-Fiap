{
 "cells": [
  {
   "cell_type": "code",
   "execution_count": 14,
   "metadata": {},
   "outputs": [
    {
     "name": "stdout",
     "output_type": "stream",
     "text": [
      "Total:  [('Feijão', 250.0), ('Açúcar', 180.0), ('Arroz', 500), ('Café em Grãos', 270.0)]\n"
     ]
    }
   ],
   "source": [
    "# listas itens, estoque, precos\n",
    "itens=['Feijão', 'Leite', 'Açúcar','Arroz','azeitona', 'Café em Grãos']\n",
    "estoque=[50, 20, 30, 50, 30, 90]      \n",
    "precos=[5.0, 2.0, 6.0, 10, 3.0, 3.0]\n",
    "\n",
    "# criar uma nova lista chamada combine, criei um for para juntar meu zip e percorrer as 3 listas, criei um IF para verificar se o valor total e maior que 100\n",
    "combine =  [(itens, estoque * precos) for itens, estoque, precos in zip(itens, estoque, precos) if estoque * precos > 100 ]\n",
    "\n",
    "print(\"Total: \", combine)"
   ]
  },
  {
   "cell_type": "code",
   "execution_count": 22,
   "metadata": {},
   "outputs": [
    {
     "name": "stdout",
     "output_type": "stream",
     "text": [
      "Acesso negado.\n"
     ]
    }
   ],
   "source": [
    "\n",
    "# Lista senhas, nomes e cpfs\n",
    "nomes_corretos = [\"Joao Silva\", \"Mlivaria Oeira\", \"Pedro Santos\", \"Ana Souza\", \"Carlos Pereira\"]\n",
    "cpfs_corretos = [\"123.456.789-00\", \"987.654.321-00\", \"456.789.123-00\", \"321.654.987-00\", \"789.123.456-00\"]\n",
    "senhas_corretas = [\"senha123\", \"abc456\", \"qwerty\", \"admin123\", \"letmein\"]\n",
    "\n",
    "# Solicitaçoes de nome, cpf e senha\n",
    "nomes = input(\"Digite o seu nome: \")\n",
    "cpfs = input(\"Digite o seu CPF: \")\n",
    "senhas = input(\"Digite a sua senha: \")\n",
    "\n",
    "# Verifica nome, Cpf e senha \n",
    "acesso = False\n",
    "for i in range(len(senhas_corretas)):\n",
    "    if senhas == senhas_corretas[i] and nomes == nomes_corretos[i] and cpfs == cpfs_corretos[i]:\n",
    "        acesso = True\n",
    "        break\n",
    "\n",
    "# Informa acesso permitido ou negado \n",
    "if permitido :\n",
    "    print(\"Acesso permitido.\")\n",
    "else:\n",
    "    print(\"Acesso negado.\")\n"
   ]
  },
  {
   "cell_type": "code",
   "execution_count": 3,
   "metadata": {},
   "outputs": [
    {
     "name": "stdout",
     "output_type": "stream",
     "text": [
      "Total de vendas para o produto A: 650\n",
      "Total de vendas para o produto B: 815\n",
      "Total de vendas para o produto C: 605\n",
      "Total de vendas para o produto D: 1190\n",
      "Total de vendas para o produto E: 950\n",
      "Total de vendas para o produto F: 1080\n",
      "Total de vendas para o produto G: 1195\n",
      "Produto mais vendido em Janeiro: D\n",
      "Produto mais vendido em Fevereiro: D\n",
      "Produto mais vendido em Março: D\n",
      "Produto mais vendido em Abril: F\n",
      "Produto com maior crescimento de janeiro para fevereiro: C\n",
      "Produtos que tiveram queda das vendas de março para abril: ['A', 'B', 'D']\n"
     ]
    }
   ],
   "source": [
    "# Lista de dados \n",
    "produtos = [\"A\", \"B\", \"C\", \"D\", \"E\", \"F\", \"G\"]\n",
    "vendas_janeiro = [150, 200, 100, 300, 250, 230, 250]\n",
    "vendas_fevereiro = [120, 180, 150, 280, 200, 210, 240]\n",
    "vendas_marco = [200, 220, 170, 320, 250, 230, 315]\n",
    "vendas_abril = [180, 215, 185, 290, 250, 410, 390]\n",
    "\n",
    "\n",
    "# A\n",
    "\n",
    "# Criei uma lista vazia total vendas \n",
    "vendas_total = []\n",
    "\n",
    "#  Calculei a soma total de casa produto\n",
    "for i in range(len(produtos)):\n",
    "    total = sum([vendas_janeiro[i], vendas_fevereiro[i], vendas_marco[i], vendas_abril[i]])\n",
    "    vendas_total.append(total)\n",
    "    print(f\"Total de vendas para o produto {produtos[i]}: {total}\")\n",
    "\n",
    "\n",
    "# B\n",
    "    \n",
    "# Criei a lista meses \n",
    "meses = [\"Janeiro\", \"Fevereiro\", \"Março\", \"Abril\"]\n",
    "\n",
    "# Criei um for para percorrer o indice da lista\n",
    "for mes, vendas_mes in zip(meses, [vendas_janeiro, vendas_fevereiro, vendas_marco, vendas_abril]):\n",
    "    max_vendas = 0\n",
    "    produto_mais_vendido = \"\"\n",
    "    for produto, vendas in zip(produtos, vendas_mes):\n",
    "        if vendas > max_vendas:\n",
    "            max_vendas = vendas\n",
    "            produto_mais_vendido = produto\n",
    "    # print para exibir resultado produtos_mais_vendido\n",
    "    print(f\"Produto mais vendido em {mes}: {produto_mais_vendido}\")\n",
    "\n",
    "\n",
    "# C\n",
    "\n",
    "maior_crescimento = 0\n",
    "produto_maior_crescimento = \"\"\n",
    "# For para calcular o crescimento percentual das vendas do produto\n",
    "for i in range(len(produtos)):\n",
    "    crescimento_percentual = (\n",
    "        (vendas_fevereiro[i] - vendas_janeiro[i]) / vendas_janeiro[i]\n",
    "    ) * 100\n",
    "\n",
    "    if crescimento_percentual > maior_crescimento:\n",
    "        maior_crescimento = crescimento_percentual\n",
    "        produto_maior_crescimento = produtos[i]\n",
    "# Print para exitir o a resposta da lista produtos_maior_crescimento\n",
    "print(f\"Produto com maior crescimento de janeiro para fevereiro: {produto_maior_crescimento}\")\n",
    "\n",
    "\n",
    "\n",
    "# Criei uma lista vazia para armazenar os produtos que tiveram queda nas vendas\n",
    "# Criei um for para percorer o indice da lista \n",
    "# Criei um if dentro do for que verifica se as vendas em abril sao menores do que as vendas em marco\n",
    "\n",
    "produtos_com_queda = []\n",
    "\n",
    "for i in range(len(produtos)):\n",
    "    if vendas_abril[i] < vendas_marco[i]:\n",
    "        produtos_com_queda.append(produtos[i])\n",
    "# Print para exitir o a resposta da lista produtos_com_queda\n",
    "print(\"Produtos que tiveram queda das vendas de março para abril:\", produtos_com_queda)\n",
    "\n"
   ]
  },
  {
   "cell_type": "code",
   "execution_count": null,
   "metadata": {},
   "outputs": [],
   "source": []
  }
 ],
 "metadata": {
  "kernelspec": {
   "display_name": "Python 3",
   "language": "python",
   "name": "python3"
  },
  "language_info": {
   "codemirror_mode": {
    "name": "ipython",
    "version": 3
   },
   "file_extension": ".py",
   "mimetype": "text/x-python",
   "name": "python",
   "nbconvert_exporter": "python",
   "pygments_lexer": "ipython3",
   "version": "3.11.6"
  }
 },
 "nbformat": 4,
 "nbformat_minor": 2
}
