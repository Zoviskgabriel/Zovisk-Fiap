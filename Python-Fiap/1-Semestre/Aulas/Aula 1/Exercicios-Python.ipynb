{
 "cells": [
  {
   "cell_type": "code",
   "execution_count": 2,
   "metadata": {},
   "outputs": [],
   "source": [
    "from sympy import *"
   ]
  },
  {
   "cell_type": "code",
   "execution_count": 1,
   "metadata": {},
   "outputs": [
    {
     "name": "stdout",
     "output_type": "stream",
     "text": [
      "Requirement already satisfied: sympy in c:\\python311\\lib\\site-packages (1.12)\n",
      "Requirement already satisfied: mpmath>=0.19 in c:\\python311\\lib\\site-packages (from sympy) (1.3.0)\n",
      "Note: you may need to restart the kernel to use updated packages.\n"
     ]
    },
    {
     "name": "stderr",
     "output_type": "stream",
     "text": [
      "\n",
      "[notice] A new release of pip is available: 23.1.2 -> 23.3.1\n",
      "[notice] To update, run: python.exe -m pip install --upgrade pip\n"
     ]
    }
   ],
   "source": [
    "pip install sympy"
   ]
  },
  {
   "attachments": {},
   "cell_type": "markdown",
   "metadata": {},
   "source": [
    "# Equações "
   ]
  },
  {
   "cell_type": "code",
   "execution_count": 19,
   "metadata": {},
   "outputs": [],
   "source": [
    "x = Symbol ('x')\n",
    "y = Symbol ('Y')"
   ]
  },
  {
   "cell_type": "code",
   "execution_count": 6,
   "metadata": {},
   "outputs": [
    {
     "data": {
      "text/latex": [
       "$\\displaystyle 2 x + 10$"
      ],
      "text/plain": [
       "2*x + 10"
      ]
     },
     "execution_count": 6,
     "metadata": {},
     "output_type": "execute_result"
    }
   ],
   "source": [
    "2 * x + 10"
   ]
  },
  {
   "cell_type": "code",
   "execution_count": 10,
   "metadata": {},
   "outputs": [
    {
     "data": {
      "text/latex": [
       "$\\displaystyle 2 x^{2} + 10 x - 5$"
      ],
      "text/plain": [
       "2*x**2 + 10*x - 5"
      ]
     },
     "execution_count": 10,
     "metadata": {},
     "output_type": "execute_result"
    }
   ],
   "source": [
    "2 * x**2 + 10 * x - 5"
   ]
  },
  {
   "cell_type": "code",
   "execution_count": 11,
   "metadata": {},
   "outputs": [
    {
     "data": {
      "text/latex": [
       "$\\displaystyle 8 x + 5$"
      ],
      "text/plain": [
       "8*x + 5"
      ]
     },
     "execution_count": 11,
     "metadata": {},
     "output_type": "execute_result"
    }
   ],
   "source": [
    "10 * x - 2 * x + 10 - 5 "
   ]
  },
  {
   "attachments": {},
   "cell_type": "markdown",
   "metadata": {},
   "source": [
    "# Derivadas\n"
   ]
  },
  {
   "cell_type": "code",
   "execution_count": 13,
   "metadata": {},
   "outputs": [
    {
     "data": {
      "text/latex": [
       "$\\displaystyle 10 x^{3} - 20 x + 50$"
      ],
      "text/plain": [
       "10*x**3 - 20*x + 50"
      ]
     },
     "execution_count": 13,
     "metadata": {},
     "output_type": "execute_result"
    }
   ],
   "source": [
    "10 * x**3 - 20 * x + 50"
   ]
  },
  {
   "cell_type": "code",
   "execution_count": 14,
   "metadata": {},
   "outputs": [
    {
     "data": {
      "text/latex": [
       "$\\displaystyle 30 x^{2} - 20$"
      ],
      "text/plain": [
       "30*x**2 - 20"
      ]
     },
     "execution_count": 14,
     "metadata": {},
     "output_type": "execute_result"
    }
   ],
   "source": [
    "(10 * x**3 - 20 * x + 50).diff(x)"
   ]
  },
  {
   "cell_type": "code",
   "execution_count": 20,
   "metadata": {},
   "outputs": [
    {
     "data": {
      "text/latex": [
       "$\\displaystyle 200 Y^{2} + Y + 100 x^{5} - 200 x$"
      ],
      "text/plain": [
       "200*Y**2 + Y + 100*x**5 - 200*x"
      ]
     },
     "execution_count": 20,
     "metadata": {},
     "output_type": "execute_result"
    }
   ],
   "source": [
    "100 * x** 5 - 200 * x + 200 * y**2 + y  "
   ]
  },
  {
   "cell_type": "code",
   "execution_count": 21,
   "metadata": {},
   "outputs": [
    {
     "data": {
      "text/latex": [
       "$\\displaystyle \\frac{d}{d x} \\left(10 x^{3} - 20 x + 50\\right)$"
      ],
      "text/plain": [
       "Derivative(10*x**3 - 20*x + 50, x)"
      ]
     },
     "execution_count": 21,
     "metadata": {},
     "output_type": "execute_result"
    }
   ],
   "source": [
    "Derivative(10 * x**3 - 20 * x + 50)"
   ]
  },
  {
   "cell_type": "code",
   "execution_count": 22,
   "metadata": {},
   "outputs": [
    {
     "data": {
      "text/latex": [
       "$\\displaystyle 30 x^{2} - 20$"
      ],
      "text/plain": [
       "30*x**2 - 20"
      ]
     },
     "execution_count": 22,
     "metadata": {},
     "output_type": "execute_result"
    }
   ],
   "source": [
    "Derivative(10 * x**3 - 20 * x + 50).doit()"
   ]
  },
  {
   "cell_type": "code",
   "execution_count": 23,
   "metadata": {},
   "outputs": [
    {
     "data": {
      "text/latex": [
       "$\\displaystyle \\int \\left(x^{2} + \\sin{\\left(x \\right)}\\right)\\, dx$"
      ],
      "text/plain": [
       "Integral(x**2 + sin(x), x)"
      ]
     },
     "execution_count": 23,
     "metadata": {},
     "output_type": "execute_result"
    }
   ],
   "source": [
    "Integral(x**2 + sin(x))"
   ]
  },
  {
   "attachments": {},
   "cell_type": "markdown",
   "metadata": {},
   "source": [
    "# Escrever algoritimo para problemas de media de notas de um determinado aluno "
   ]
  },
  {
   "cell_type": "code",
   "execution_count": 27,
   "metadata": {},
   "outputs": [
    {
     "name": "stdout",
     "output_type": "stream",
     "text": [
      "A media deste aluno é:  7.333333333333333\n"
     ]
    }
   ],
   "source": [
    "nota1 = float(input(\"Digite a Primeira Nota:\")) \n",
    "nota2 = float(input(\"Digite a Segunda Nota:\"))\n",
    "nota3 = float(input(\"Digite a Terceira Nota:\"))\n",
    "\n",
    "media = (nota1 + nota2 + nota3) / 3\n",
    "\n",
    "print(\"A media deste aluno é: \", media)"
   ]
  },
  {
   "cell_type": "code",
   "execution_count": 31,
   "metadata": {},
   "outputs": [
    {
     "name": "stdout",
     "output_type": "stream",
     "text": [
      "Aluno Reprovado\n"
     ]
    }
   ],
   "source": [
    "nota1 = float(input(\"Digite a Primeira Nota:\")) \n",
    "nota2 = float(input(\"Digite a Segunda Nota:\"))\n",
    "nota3 = float(input(\"Digite a Terceira Nota:\"))\n",
    "\n",
    "media = (nota1 + nota2 + nota3) / 3\n",
    "\n",
    "if media >= 7: \n",
    "    print(\"Aluno Aprovado\")\n",
    "else:\n",
    "    print(\"Aluno Reprovado\")\n",
    "    "
   ]
  },
  {
   "cell_type": "code",
   "execution_count": 34,
   "metadata": {},
   "outputs": [
    {
     "name": "stdout",
     "output_type": "stream",
     "text": [
      "Valores são iguais\n"
     ]
    }
   ],
   "source": [
    "# Problema 2 - Comparar A = B \n",
    "\n",
    "valor_a = float(input(\"Digite o valor de A:\"))\n",
    "valor_b = float(input(\"Digite o valor de B:\"))\n",
    "\n",
    "if valor_a > valor_b: \n",
    "    print('Valor A maior do que Valor B', valor_a)\n",
    "elif valor_a == valor_b:\n",
    "    print('Valores são iguais')\n",
    "else: \n",
    "    print('Valor B maior do que Valor A', valor_b)\n"
   ]
  },
  {
   "cell_type": "code",
   "execution_count": 1,
   "metadata": {},
   "outputs": [
    {
     "name": "stdout",
     "output_type": "stream",
     "text": [
      "Area do Circuito é: 12.56\n"
     ]
    }
   ],
   "source": [
    "#Problema 3 - Area de um circuito\n",
    "\n",
    "#Difinição das variaveis \n",
    "raio = float(input(\"Informe o raio do circuito: \"))\n",
    "\n",
    "#Calculo da area do circulo\n",
    "areaCircuito = 3.14 * raio**2\n",
    "\n",
    "# Condição para area menor do que a desejada\n",
    "#area > 100 - ok\n",
    "#area < 100 - nao interessa\n",
    "\n",
    "if areaCircuito > 100:\n",
    "    print(\"Area desejada\", areaCircuito)\n",
    "    if areaCircuito < 100:\n",
    "        print(\"Entre com um valor valido\")\n",
    "else:\n",
    "    print('Area menor do que a desejada', areaCircuito)\n",
    "\n",
    "# exibir resultado \n",
    "print('Area do Circuito é:', areaCircuito)\n",
    "\n",
    "\n"
   ]
  },
  {
   "cell_type": "code",
   "execution_count": 4,
   "metadata": {},
   "outputs": [
    {
     "name": "stdout",
     "output_type": "stream",
     "text": [
      "sexo Feminino\n"
     ]
    }
   ],
   "source": [
    "# Problema 4 - Ler o sexo de uma pessoa (M, F) e imprimir uma mensagem informando se \"É homem\" ou se \"É mulher\"\n",
    "\n",
    "sexo = str(input(\"Inserir o sexo\"))\n",
    "\n",
    "M = [\"M\"]\n",
    "m = [\"M\"]\n",
    "F = [\"F\"]\n",
    "f = [\"f\"]\n",
    "\n",
    "if (sexo in M) or ( sexo in m):\n",
    "    print(\"sexo masculino\")\n",
    "elif(sexo in F) or (sexo in f)\n",
    "    print(\"sexo Feminino\")\n",
    "else:\n",
    "    print(\"sexo Feminino\")\n"
   ]
  },
  {
   "attachments": {},
   "cell_type": "markdown",
   "metadata": {},
   "source": [
    "# Exercicios da aula 02 "
   ]
  },
  {
   "cell_type": "code",
   "execution_count": null,
   "metadata": {},
   "outputs": [],
   "source": [
    "# Exercico 01 - Energia \n",
    " massa = float(input(\"Inserir valor da massa em Kg: \"))\n",
    "energia = massa * (3 * pow(10,8)** 2) /1000 /1000/ 1000\n",
    "\n",
    "print(\"A Energia sera: \", energia, \"Gjoules\")\n"
   ]
  },
  {
   "cell_type": "code",
   "execution_count": null,
   "metadata": {},
   "outputs": [],
   "source": [
    "# Exercicio 02 - Faixa de idade \n",
    "\n",
    "idade = int(input(\"inserir idade:\"))\n",
    "\n",
    "if idade > 0 and idade <= 12:\n",
    "    print(\"Faixa - Criança\", idade, \"anos\")\n",
    "\n",
    "elif idade > 12 and idade <= 20:\n",
    "    print(\"Faixa - Adolecente\", idade, \"anos\")\n",
    "\n",
    "elif idade > 12 and idade <= 40:\n",
    "    print(\"Faixa - Adulto-Jovem\", idade, \"anos\")\n",
    "\n",
    "elif idade > 12 and idade <= 65:\n",
    "    print(\"Faixa - Meia Idade\", idade, \"anos\")\n",
    "\n",
    "elif idade <=0:\n",
    "    print(\"retorne idade valida\", idade, \"anos\")\n",
    "\n",
    "else:\n",
    "    print(\"Faixa-Idoso\", idade, \"anos\")"
   ]
  },
  {
   "cell_type": "code",
   "execution_count": null,
   "metadata": {},
   "outputs": [],
   "source": [
    "# Exercicio 03 \n",
    "\n",
    "n1 = float(input(\"Inserir a primeira nota:\"))\n",
    "n2 = float(input(\"Inserir a segunda nota:\"))\n",
    "n3 = float(input(\"Inserir a terceira nota:\"))\n",
    "n4 = float(input(\"Inserir a quarta nota:\"))\n",
    "\n",
    "notas = [n1, n2, n3, n4]\n",
    "\n",
    "nota_minima = min(notas)\n",
    "notas.remove(nota_minima)\n",
    "\n",
    "media = sum(notas) / 3 \n",
    "\n",
    "print(\"A media sera:\", media)\n"
   ]
  },
  {
   "cell_type": "code",
   "execution_count": 6,
   "metadata": {},
   "outputs": [
    {
     "name": "stdout",
     "output_type": "stream",
     "text": [
      "Valor da corrente: 8.0\n",
      "Valor da resistencia: 7.0\n",
      "Valor da tensao: 9.0\n",
      "Retorne valores validos\n"
     ]
    }
   ],
   "source": [
    "# Exercicios 04 - Calculo da Potencia \n",
    "\n",
    "corrente = float(input(\"Inserir valor Corrente:\"))\n",
    "resistencia = float(input(\"Inserir valor de Resistencia\"))\n",
    "tensao = float(input(\"Inserir valpor de Tensão:\"))\n",
    "\n",
    "print(\"Valor da corrente:\", corrente)\n",
    "print(\"Valor da resistencia:\", resistencia)\n",
    "print(\"Valor da tensao:\", tensao)\n",
    "\n",
    "\n",
    "\n",
    "if corrente == 0 and resistencia == 0:\n",
    "    print(\"Não e possivel calcular a potencia\")\n",
    "elif corrente == 0 and tensao == 0:\n",
    "    print(\"Não e possivel calcular a potencia\")\n",
    "elif resistencia == 0 and tensao == 0:\n",
    "    print(\"Não e possivel calcular a potencia\")\n",
    "elif corrente == 0:\n",
    "    print(tensao**2 / resistencia)\n",
    "elif tensao == 0:\n",
    "    print(corrente**2 * resistencia)\n",
    "elif resistencia == 0:\n",
    "    print(tensao * corrente)\n",
    "else:\n",
    "    print(\"Retorne valores validos\")"
   ]
  }
 ],
 "metadata": {
  "kernelspec": {
   "display_name": "Python 3",
   "language": "python",
   "name": "python3"
  },
  "language_info": {
   "codemirror_mode": {
    "name": "ipython",
    "version": 3
   },
   "file_extension": ".py",
   "mimetype": "text/x-python",
   "name": "python",
   "nbconvert_exporter": "python",
   "pygments_lexer": "ipython3",
   "version": "3.11.4"
  },
  "orig_nbformat": 4
 },
 "nbformat": 4,
 "nbformat_minor": 2
}
